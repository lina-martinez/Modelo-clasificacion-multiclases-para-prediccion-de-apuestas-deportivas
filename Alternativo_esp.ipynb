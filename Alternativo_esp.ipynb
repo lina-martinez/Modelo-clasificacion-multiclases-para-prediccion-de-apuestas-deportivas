{
  "nbformat": 4,
  "nbformat_minor": 0,
  "metadata": {
    "colab": {
      "provenance": [],
      "toc_visible": true,
      "include_colab_link": true
    },
    "kernelspec": {
      "name": "python3",
      "display_name": "Python 3"
    },
    "language_info": {
      "name": "python"
    }
  },
  "cells": [
    {
      "cell_type": "markdown",
      "metadata": {
        "id": "view-in-github",
        "colab_type": "text"
      },
      "source": [
        "<a href=\"https://colab.research.google.com/github/lina-martinez/Modelo-clasificacion-multiclases-para-prediccion-de-apuestas-deportivas/blob/master/Alternativo_esp.ipynb\" target=\"_parent\"><img src=\"https://colab.research.google.com/assets/colab-badge.svg\" alt=\"Open In Colab\"/></a>"
      ]
    },
    {
      "cell_type": "markdown",
      "source": [
        "#importaciones"
      ],
      "metadata": {
        "id": "u38DLcySFn3I"
      }
    },
    {
      "cell_type": "code",
      "execution_count": null,
      "metadata": {
        "id": "wdPTf7yOFDiW"
      },
      "outputs": [],
      "source": [
        "# Tratamiento de datos\n",
        "import re\n",
        "import io\n",
        "import json\n",
        "import lxml\n",
        "import requests\n",
        "import math\n",
        "import numpy as np\n",
        "import pandas as pd\n",
        "\n",
        "# Gráficos\n",
        "import seaborn as sns\n",
        "import matplotlib\n",
        "from matplotlib import pyplot as plt\n",
        "\n",
        "from collections import defaultdict # Para generar un diccionario nuevo de valores\n",
        "from bs4 import BeautifulSoup\n",
        "\n",
        "# Preprocesado y modelado\n",
        "import lightgbm as lgb\n",
        "import multiprocessing\n",
        "\n",
        "import xgboost as xgb\n",
        "\n",
        "import statsmodels.api as sm\n",
        "from statsmodels.stats.outliers_influence import variance_inflation_factor\n",
        "\n",
        "from scipy import stats\n",
        "from scipy.special import entr # Entropía de Shannon\n",
        "from scipy.stats import multivariate_normal # Modelo de distribución gaussiana multivariable\n",
        "from scipy.stats import median_abs_deviation # MAD\n",
        "from scipy.stats import iqr # Interquartile range\n",
        "\n",
        "from sklearn import svm, metrics\n",
        "from sklearn.svm import SVC\n",
        "\n",
        "from sklearn.tree import plot_tree\n",
        "from sklearn.tree import DecisionTreeClassifier\n",
        "\n",
        "from sklearn.preprocessing import MinMaxScaler\n",
        "from sklearn.preprocessing import PolynomialFeatures # Características Polinomiales\n",
        "from sklearn.preprocessing import OneHotEncoder # Librería donde está el método One-Hot Encoder\n",
        "from sklearn.preprocessing import LabelEncoder # Codificación de etiquetas\n",
        "from sklearn.preprocessing import StandardScaler\n",
        "\n",
        "from sklearn.decomposition import PCA # Análisis de Componentes Principales\n",
        "from sklearn.decomposition import KernelPCA # Kernel PCA\n",
        "from sklearn.decomposition import SparsePCA # PCA esparcido\n",
        "from sklearn.decomposition import MiniBatchSparsePCA # Mini Batch PCA esparcido\n",
        "from sklearn.decomposition import IncrementalPCA # PCA incremental\n",
        "from sklearn.decomposition import FastICA # Análisis de Componentes Independientes\n",
        "\n",
        "from sklearn.model_selection import train_test_split # Esta clase realiza la partición de datos en entrenamiento y prueba\n",
        "from sklearn.model_selection import cross_val_score # Método de validación cruzada para evaluar el desempeño un modelo\n",
        "from sklearn.model_selection import GridSearchCV # Búsqueda de hiperparametros\n",
        "from sklearn.model_selection import ParameterGrid\n",
        "from sklearn.model_selection import RepeatedKFold\n",
        "from sklearn.model_selection import KFold\n",
        "\n",
        "from sklearn.linear_model import RANSACRegressor, LogisticRegression, LinearRegression\n",
        "\n",
        "from sklearn.metrics import mean_absolute_error, r2_score, explained_variance_score, median_absolute_error, f1_score, auc\n",
        "from sklearn.metrics import roc_auc_score, precision_score, roc_curve, confusion_matrix, classification_report, make_scorer, accuracy_score\n",
        "\n",
        "from sklearn.neighbors import LocalOutlierFactor, KNeighborsClassifier\n",
        "\n",
        "from sklearn.ensemble import AdaBoostClassifier ,RandomForestClassifier ,GradientBoostingClassifier\n",
        "\n",
        "from sklearn.datasets import make_multilabel_classification , load_iris, make_classification\n",
        "\n",
        "from sklearn.naive_bayes import GaussianNB, BernoulliNB ,MultinomialNB\n",
        "\n",
        "from sklearn.covariance import EllipticEnvelope # Estimación de Covarianza\n",
        "from sklearn.utils.extmath import safe_sparse_dot # Producto punto entre matrices esparcidos para SparsePCA.\n",
        "from sklearn.inspection import permutation_importance\n",
        "from sklearn.pipeline import make_pipeline\n",
        "from sklearn.random_projection import GaussianRandomProjection\n",
        "from sklearn.multioutput import ClassifierChain\n",
        "from sklearn.feature_selection import RFE\n",
        "from sklearn.manifold import TSNE"
      ]
    },
    {
      "cell_type": "markdown",
      "source": [
        "#Funciones"
      ],
      "metadata": {
        "id": "kNwnNXUGFjcf"
      }
    },
    {
      "cell_type": "code",
      "source": [
        "pd.options.display.max_columns=None\n",
        "pd.options.display.max_rows=None"
      ],
      "metadata": {
        "id": "nxAOL5h5GLMZ"
      },
      "execution_count": null,
      "outputs": []
    },
    {
      "cell_type": "code",
      "source": [
        "def filtrar_campo(df_filtrar_campo,col,val):\n",
        " '''Filtra un DF por campo y valor dado'''\n",
        " return df_filtrar_campo[df_filtrar_campo[col]==val]  "
      ],
      "metadata": {
        "id": "9UV8ldc0FYX_"
      },
      "execution_count": null,
      "outputs": []
    },
    {
      "cell_type": "code",
      "source": [
        "def filtrar_n_ultimos_juegos(df,n,fecha,columnas_a_filtrar,valores_a_filtrar):\n",
        "  '''ordena por fecha un df y lo filtra hasta una fecha dada segun lista de campos y valores dados, si hay un filtro por valores excluyentes no se to ejecuta'''\n",
        "  df_retorna=df.copy()\n",
        "  df_retorna=df_retorna[df_retorna['Historia.Fecha']<fecha]  \n",
        "  for columna,valor in zip(columnas_a_filtrar,valores_a_filtrar):\n",
        "    df_retorna=filtrar_campo(df_retorna,columna,valor)\n",
        "  df_retorna.sort_values(by='Historia.Fecha', ascending = False,inplace=True)\n",
        "  return df_retorna[:n]"
      ],
      "metadata": {
        "id": "jHeGzX7NFZrR"
      },
      "execution_count": null,
      "outputs": []
    },
    {
      "cell_type": "code",
      "source": [
        "def traer_informacion_historica(df_historico,cantidad_juegos,fecha_proximo_juego,campos_a_filtrar,valores_a_filtrar,prefijo):\n",
        "  #df_ultimos_juegos=filtrar_n_ultimos_juegos(dataset_historia,3,'2023-02-19',['Historia.id_Equipo_Analizado'],['94'])\n",
        "  df_ultimos_juegos=filtrar_n_ultimos_juegos(df_historico,cantidad_juegos,fecha_proximo_juego,campos_a_filtrar,valores_a_filtrar)\n",
        "  df_dinamizado=dinamizar_columnas(df_ultimos_juegos,prefijo)\n",
        "  return df_dinamizado"
      ],
      "metadata": {
        "id": "hyjx1ZvPFbHv"
      },
      "execution_count": null,
      "outputs": []
    },
    {
      "cell_type": "code",
      "source": [
        "def dinamizar_columnas(df,prefijo):\n",
        "  ''' recibe un DF y lo convierte en un df de una sola fila'''\n",
        "  lista_campos=[]\n",
        "  lista_valores=[]\n",
        "  for col in df.iloc[: , :-1]:\n",
        "    lista=list(df[col])\n",
        "    for fil in range(len(lista)):\n",
        "      lista_campos.append(f\"{prefijo}.{col} N-{fil+1}\")\n",
        "      lista_valores.append(lista[fil])\n",
        "  df_generado=pd.DataFrame([lista_valores],columns=lista_campos)\n",
        "  return  df_generado  "
      ],
      "metadata": {
        "id": "2u-hfN3tFcsX"
      },
      "execution_count": null,
      "outputs": []
    },
    {
      "cell_type": "markdown",
      "source": [
        "#Construccion Data"
      ],
      "metadata": {
        "id": "PVPzbXj7Fu-n"
      }
    },
    {
      "cell_type": "code",
      "source": [
        "#Definición de parámetros\n",
        "\n",
        "partidos_historicos=10\n",
        "\n",
        "equipos=['Verona','Roma','Lazio','Bologna','Juventus','Udinese','Sampdoria','Sassuolo',\n",
        "         'Napoli','Inter','Atalanta','Empoli','Fiorentina','AC Milan','Torino','Lecce',\n",
        "         'Spezia','Salernitana','Monza','Cremonese','Genoa','Cagliari','Venezia','Crotone',\n",
        "         'Benevento','Parma Calcio 1913']\n",
        "\n",
        "id_equipos=['94', '95','96', '97', '98', '99', '102', '104', '105', '106', \n",
        "            '107', '108', '110', '111','113', '243', '260', '264', '271', \n",
        "            '272','101','116','265','115','222','230'\t]"
      ],
      "metadata": {
        "id": "NhbCH0XEG-Gs"
      },
      "execution_count": null,
      "outputs": []
    },
    {
      "cell_type": "code",
      "source": [
        "#Construir el dataset\n",
        "dataset_inicial=pd.DataFrame([])\n",
        "for _ in equipos: \n",
        "  base_url_game='https://understat.com/team/' #Consultar la API\n",
        "  team = _ #str(input('please enter the team name:'))\n",
        "  temporadas=['2022','2021','2020','2019','2018','2017','2016','2015']\n",
        "  for season in temporadas:\n",
        "    url_game = base_url_game + team +\"/\"+season\n",
        "    res_game = requests.get(url_game)\n",
        "    soup_game = BeautifulSoup(res_game.content,'lxml')\n",
        "    scripts_game = soup_game.find_all('script')\n",
        "    strings_game = scripts_game[1].string\n",
        "    ind_start_game = strings_game.index(\"('\")+2\n",
        "    ind_end_game = strings_game.index(\"')\")\n",
        "    json_data_game =strings_game[ind_start_game:ind_end_game]\n",
        "    json_data_game =json_data_game.encode('utf8').decode('unicode_escape')\n",
        "    data_game=json.loads(json_data_game)\n",
        "    data_game= pd.json_normalize(data_game)\n",
        "    data_game=data_game.assign(Equipo_Analizado=team)\n",
        "    dataset_inicial=pd.concat([dataset_inicial,data_game])"
      ],
      "metadata": {
        "id": "TuD_cPAjGOb3"
      },
      "execution_count": null,
      "outputs": []
    },
    {
      "cell_type": "code",
      "source": [
        "#Formato a las columnas\n",
        "dataset_inicial.columns=['Id_Juego', 'Jugado', 'Local', 'Fecha_Juego', 'Resultado_Local', 'Id_Local', 'Nombre_Local',\n",
        "       'Nombre_Corto_local', 'Id_Visitante', 'Nombre_Visitante','Nombre_Corto_Visitante', 'Goles_Local',\n",
        "       'Goles_Visitante', 'Goles_Esperados_local', 'Goles_Esperados_Visitante', 'Probabilidad_Victoria_Local', 'Probabilidad_Empate', 'Probabilidad_Derrota_Local','Equipo_Analizado']\n",
        "dataset_inicial=dataset_inicial[dataset_inicial['Nombre_Local']==dataset_inicial['Equipo_Analizado']]\n",
        "dataset_inicial=dataset_inicial.drop(['Local','Nombre_Local','Nombre_Corto_local','Nombre_Visitante','Nombre_Corto_Visitante','Equipo_Analizado'], axis=1)\n",
        "dataset_inicial['Fecha_Juego'] = pd.to_datetime(dataset_inicial['Fecha_Juego'])\n",
        "dataset_inicial.head(10)"
      ],
      "metadata": {
        "colab": {
          "base_uri": "https://localhost:8080/",
          "height": 601
        },
        "id": "D7y7nEQ2GQi-",
        "outputId": "0f7ef967-4820-49c7-a6ad-26eb551c0316"
      },
      "execution_count": null,
      "outputs": [
        {
          "output_type": "execute_result",
          "data": {
            "text/plain": [
              "   Id_Juego  Jugado         Fecha_Juego Resultado_Local Id_Local Id_Visitante  \\\n",
              "0     18590    True 2022-08-15 16:30:00               l       94          105   \n",
              "2     18609    True 2022-08-28 16:30:00               l       94          107   \n",
              "4     18627    True 2022-09-04 16:00:00               w       94          102   \n",
              "7     18654    True 2022-10-03 18:45:00               l       94           99   \n",
              "9     18674    True 2022-10-16 18:45:00               l       94          111   \n",
              "11    18694    True 2022-10-31 17:30:00               l       94           95   \n",
              "13    18714    True 2022-11-10 17:30:00               l       94           98   \n",
              "14    18725    True 2022-11-13 14:00:00               l       94          260   \n",
              "16    18744    True 2023-01-09 17:30:00               w       94          272   \n",
              "18    18764    True 2023-01-21 14:00:00               w       94          243   \n",
              "\n",
              "   Goles_Local Goles_Visitante Goles_Esperados_local  \\\n",
              "0            2               5               1.13087   \n",
              "2            0               1              0.369511   \n",
              "4            2               1                2.3433   \n",
              "7            1               2              0.284674   \n",
              "9            1               2               1.93604   \n",
              "11           1               3              0.288065   \n",
              "13           0               1               1.14515   \n",
              "14           1               2               2.16554   \n",
              "16           2               0               1.92775   \n",
              "18           2               0              0.625033   \n",
              "\n",
              "   Goles_Esperados_Visitante  Probabilidad_Victoria_Local  \\\n",
              "0                    2.79803                     0.127051   \n",
              "2                   0.843159                     0.153387   \n",
              "4                   0.798714                     0.719050   \n",
              "7                    2.17728                     0.037251   \n",
              "9                     1.7368                     0.431950   \n",
              "11                   3.03255                     0.017844   \n",
              "13                  0.877959                     0.418104   \n",
              "14                  0.752225                     0.698430   \n",
              "16                  0.810314                     0.636773   \n",
              "18                  0.835357                     0.252802   \n",
              "\n",
              "    Probabilidad_Empate  Probabilidad_Derrota_Local  \n",
              "0              0.152316                    0.720633  \n",
              "2              0.397532                    0.449081  \n",
              "4              0.170730                    0.110220  \n",
              "7              0.146894                    0.815854  \n",
              "9              0.215935                    0.352114  \n",
              "11             0.075293                    0.906862  \n",
              "13             0.302597                    0.279300  \n",
              "14             0.185163                    0.116407  \n",
              "16             0.212783                    0.150444  \n",
              "18             0.370125                    0.377073  "
            ],
            "text/html": [
              "\n",
              "  <div id=\"df-3b7fb8fc-cd25-4584-8d1c-772e7a6e1d33\">\n",
              "    <div class=\"colab-df-container\">\n",
              "      <div>\n",
              "<style scoped>\n",
              "    .dataframe tbody tr th:only-of-type {\n",
              "        vertical-align: middle;\n",
              "    }\n",
              "\n",
              "    .dataframe tbody tr th {\n",
              "        vertical-align: top;\n",
              "    }\n",
              "\n",
              "    .dataframe thead th {\n",
              "        text-align: right;\n",
              "    }\n",
              "</style>\n",
              "<table border=\"1\" class=\"dataframe\">\n",
              "  <thead>\n",
              "    <tr style=\"text-align: right;\">\n",
              "      <th></th>\n",
              "      <th>Id_Juego</th>\n",
              "      <th>Jugado</th>\n",
              "      <th>Fecha_Juego</th>\n",
              "      <th>Resultado_Local</th>\n",
              "      <th>Id_Local</th>\n",
              "      <th>Id_Visitante</th>\n",
              "      <th>Goles_Local</th>\n",
              "      <th>Goles_Visitante</th>\n",
              "      <th>Goles_Esperados_local</th>\n",
              "      <th>Goles_Esperados_Visitante</th>\n",
              "      <th>Probabilidad_Victoria_Local</th>\n",
              "      <th>Probabilidad_Empate</th>\n",
              "      <th>Probabilidad_Derrota_Local</th>\n",
              "    </tr>\n",
              "  </thead>\n",
              "  <tbody>\n",
              "    <tr>\n",
              "      <th>0</th>\n",
              "      <td>18590</td>\n",
              "      <td>True</td>\n",
              "      <td>2022-08-15 16:30:00</td>\n",
              "      <td>l</td>\n",
              "      <td>94</td>\n",
              "      <td>105</td>\n",
              "      <td>2</td>\n",
              "      <td>5</td>\n",
              "      <td>1.13087</td>\n",
              "      <td>2.79803</td>\n",
              "      <td>0.127051</td>\n",
              "      <td>0.152316</td>\n",
              "      <td>0.720633</td>\n",
              "    </tr>\n",
              "    <tr>\n",
              "      <th>2</th>\n",
              "      <td>18609</td>\n",
              "      <td>True</td>\n",
              "      <td>2022-08-28 16:30:00</td>\n",
              "      <td>l</td>\n",
              "      <td>94</td>\n",
              "      <td>107</td>\n",
              "      <td>0</td>\n",
              "      <td>1</td>\n",
              "      <td>0.369511</td>\n",
              "      <td>0.843159</td>\n",
              "      <td>0.153387</td>\n",
              "      <td>0.397532</td>\n",
              "      <td>0.449081</td>\n",
              "    </tr>\n",
              "    <tr>\n",
              "      <th>4</th>\n",
              "      <td>18627</td>\n",
              "      <td>True</td>\n",
              "      <td>2022-09-04 16:00:00</td>\n",
              "      <td>w</td>\n",
              "      <td>94</td>\n",
              "      <td>102</td>\n",
              "      <td>2</td>\n",
              "      <td>1</td>\n",
              "      <td>2.3433</td>\n",
              "      <td>0.798714</td>\n",
              "      <td>0.719050</td>\n",
              "      <td>0.170730</td>\n",
              "      <td>0.110220</td>\n",
              "    </tr>\n",
              "    <tr>\n",
              "      <th>7</th>\n",
              "      <td>18654</td>\n",
              "      <td>True</td>\n",
              "      <td>2022-10-03 18:45:00</td>\n",
              "      <td>l</td>\n",
              "      <td>94</td>\n",
              "      <td>99</td>\n",
              "      <td>1</td>\n",
              "      <td>2</td>\n",
              "      <td>0.284674</td>\n",
              "      <td>2.17728</td>\n",
              "      <td>0.037251</td>\n",
              "      <td>0.146894</td>\n",
              "      <td>0.815854</td>\n",
              "    </tr>\n",
              "    <tr>\n",
              "      <th>9</th>\n",
              "      <td>18674</td>\n",
              "      <td>True</td>\n",
              "      <td>2022-10-16 18:45:00</td>\n",
              "      <td>l</td>\n",
              "      <td>94</td>\n",
              "      <td>111</td>\n",
              "      <td>1</td>\n",
              "      <td>2</td>\n",
              "      <td>1.93604</td>\n",
              "      <td>1.7368</td>\n",
              "      <td>0.431950</td>\n",
              "      <td>0.215935</td>\n",
              "      <td>0.352114</td>\n",
              "    </tr>\n",
              "    <tr>\n",
              "      <th>11</th>\n",
              "      <td>18694</td>\n",
              "      <td>True</td>\n",
              "      <td>2022-10-31 17:30:00</td>\n",
              "      <td>l</td>\n",
              "      <td>94</td>\n",
              "      <td>95</td>\n",
              "      <td>1</td>\n",
              "      <td>3</td>\n",
              "      <td>0.288065</td>\n",
              "      <td>3.03255</td>\n",
              "      <td>0.017844</td>\n",
              "      <td>0.075293</td>\n",
              "      <td>0.906862</td>\n",
              "    </tr>\n",
              "    <tr>\n",
              "      <th>13</th>\n",
              "      <td>18714</td>\n",
              "      <td>True</td>\n",
              "      <td>2022-11-10 17:30:00</td>\n",
              "      <td>l</td>\n",
              "      <td>94</td>\n",
              "      <td>98</td>\n",
              "      <td>0</td>\n",
              "      <td>1</td>\n",
              "      <td>1.14515</td>\n",
              "      <td>0.877959</td>\n",
              "      <td>0.418104</td>\n",
              "      <td>0.302597</td>\n",
              "      <td>0.279300</td>\n",
              "    </tr>\n",
              "    <tr>\n",
              "      <th>14</th>\n",
              "      <td>18725</td>\n",
              "      <td>True</td>\n",
              "      <td>2022-11-13 14:00:00</td>\n",
              "      <td>l</td>\n",
              "      <td>94</td>\n",
              "      <td>260</td>\n",
              "      <td>1</td>\n",
              "      <td>2</td>\n",
              "      <td>2.16554</td>\n",
              "      <td>0.752225</td>\n",
              "      <td>0.698430</td>\n",
              "      <td>0.185163</td>\n",
              "      <td>0.116407</td>\n",
              "    </tr>\n",
              "    <tr>\n",
              "      <th>16</th>\n",
              "      <td>18744</td>\n",
              "      <td>True</td>\n",
              "      <td>2023-01-09 17:30:00</td>\n",
              "      <td>w</td>\n",
              "      <td>94</td>\n",
              "      <td>272</td>\n",
              "      <td>2</td>\n",
              "      <td>0</td>\n",
              "      <td>1.92775</td>\n",
              "      <td>0.810314</td>\n",
              "      <td>0.636773</td>\n",
              "      <td>0.212783</td>\n",
              "      <td>0.150444</td>\n",
              "    </tr>\n",
              "    <tr>\n",
              "      <th>18</th>\n",
              "      <td>18764</td>\n",
              "      <td>True</td>\n",
              "      <td>2023-01-21 14:00:00</td>\n",
              "      <td>w</td>\n",
              "      <td>94</td>\n",
              "      <td>243</td>\n",
              "      <td>2</td>\n",
              "      <td>0</td>\n",
              "      <td>0.625033</td>\n",
              "      <td>0.835357</td>\n",
              "      <td>0.252802</td>\n",
              "      <td>0.370125</td>\n",
              "      <td>0.377073</td>\n",
              "    </tr>\n",
              "  </tbody>\n",
              "</table>\n",
              "</div>\n",
              "      <button class=\"colab-df-convert\" onclick=\"convertToInteractive('df-3b7fb8fc-cd25-4584-8d1c-772e7a6e1d33')\"\n",
              "              title=\"Convert this dataframe to an interactive table.\"\n",
              "              style=\"display:none;\">\n",
              "        \n",
              "  <svg xmlns=\"http://www.w3.org/2000/svg\" height=\"24px\"viewBox=\"0 0 24 24\"\n",
              "       width=\"24px\">\n",
              "    <path d=\"M0 0h24v24H0V0z\" fill=\"none\"/>\n",
              "    <path d=\"M18.56 5.44l.94 2.06.94-2.06 2.06-.94-2.06-.94-.94-2.06-.94 2.06-2.06.94zm-11 1L8.5 8.5l.94-2.06 2.06-.94-2.06-.94L8.5 2.5l-.94 2.06-2.06.94zm10 10l.94 2.06.94-2.06 2.06-.94-2.06-.94-.94-2.06-.94 2.06-2.06.94z\"/><path d=\"M17.41 7.96l-1.37-1.37c-.4-.4-.92-.59-1.43-.59-.52 0-1.04.2-1.43.59L10.3 9.45l-7.72 7.72c-.78.78-.78 2.05 0 2.83L4 21.41c.39.39.9.59 1.41.59.51 0 1.02-.2 1.41-.59l7.78-7.78 2.81-2.81c.8-.78.8-2.07 0-2.86zM5.41 20L4 18.59l7.72-7.72 1.47 1.35L5.41 20z\"/>\n",
              "  </svg>\n",
              "      </button>\n",
              "      \n",
              "  <style>\n",
              "    .colab-df-container {\n",
              "      display:flex;\n",
              "      flex-wrap:wrap;\n",
              "      gap: 12px;\n",
              "    }\n",
              "\n",
              "    .colab-df-convert {\n",
              "      background-color: #E8F0FE;\n",
              "      border: none;\n",
              "      border-radius: 50%;\n",
              "      cursor: pointer;\n",
              "      display: none;\n",
              "      fill: #1967D2;\n",
              "      height: 32px;\n",
              "      padding: 0 0 0 0;\n",
              "      width: 32px;\n",
              "    }\n",
              "\n",
              "    .colab-df-convert:hover {\n",
              "      background-color: #E2EBFA;\n",
              "      box-shadow: 0px 1px 2px rgba(60, 64, 67, 0.3), 0px 1px 3px 1px rgba(60, 64, 67, 0.15);\n",
              "      fill: #174EA6;\n",
              "    }\n",
              "\n",
              "    [theme=dark] .colab-df-convert {\n",
              "      background-color: #3B4455;\n",
              "      fill: #D2E3FC;\n",
              "    }\n",
              "\n",
              "    [theme=dark] .colab-df-convert:hover {\n",
              "      background-color: #434B5C;\n",
              "      box-shadow: 0px 1px 3px 1px rgba(0, 0, 0, 0.15);\n",
              "      filter: drop-shadow(0px 1px 2px rgba(0, 0, 0, 0.3));\n",
              "      fill: #FFFFFF;\n",
              "    }\n",
              "  </style>\n",
              "\n",
              "      <script>\n",
              "        const buttonEl =\n",
              "          document.querySelector('#df-3b7fb8fc-cd25-4584-8d1c-772e7a6e1d33 button.colab-df-convert');\n",
              "        buttonEl.style.display =\n",
              "          google.colab.kernel.accessAllowed ? 'block' : 'none';\n",
              "\n",
              "        async function convertToInteractive(key) {\n",
              "          const element = document.querySelector('#df-3b7fb8fc-cd25-4584-8d1c-772e7a6e1d33');\n",
              "          const dataTable =\n",
              "            await google.colab.kernel.invokeFunction('convertToInteractive',\n",
              "                                                     [key], {});\n",
              "          if (!dataTable) return;\n",
              "\n",
              "          const docLinkHtml = 'Like what you see? Visit the ' +\n",
              "            '<a target=\"_blank\" href=https://colab.research.google.com/notebooks/data_table.ipynb>data table notebook</a>'\n",
              "            + ' to learn more about interactive tables.';\n",
              "          element.innerHTML = '';\n",
              "          dataTable['output_type'] = 'display_data';\n",
              "          await google.colab.output.renderOutput(dataTable, element);\n",
              "          const docLink = document.createElement('div');\n",
              "          docLink.innerHTML = docLinkHtml;\n",
              "          element.appendChild(docLink);\n",
              "        }\n",
              "      </script>\n",
              "    </div>\n",
              "  </div>\n",
              "  "
            ]
          },
          "metadata": {},
          "execution_count": 9
        }
      ]
    },
    {
      "cell_type": "code",
      "source": [
        "#Genero la hisotria\n",
        "dataset_historia=pd.DataFrame([])\n",
        "temporadas=['2022','2021','2020','2019','2018','2017','2016','2015']\n",
        "base_url_history='https://understat.com/league/'\n",
        "match = 'Serie_A/' # str(input('please enter the match id:'))\n",
        "for temporada in temporadas:\n",
        "  url_history = base_url_history + match + temporada\n",
        "  res_history = requests.get(url_history)\n",
        "  soup_history = BeautifulSoup(res_history.content,'lxml')\n",
        "  scripts_history = soup_history.find_all('script')\n",
        "  strings_history = scripts_history[2].string\n",
        "  ind_start_history = strings_history.index(\"('\")+2\n",
        "  ind_end_history = strings_history.index(\"')\")\n",
        "  json_data_history=strings_history[ind_start_history:ind_end_history]\n",
        "  json_data_history=json_data_history.encode('utf8').decode('unicode_escape')\n",
        "  data_history=json.loads(json_data_history)\n",
        "  for _ in id_equipos:\n",
        "    if _ in data_history:\n",
        "      data_statistics_history= pd.json_normalize(data_history[_]['history'])\n",
        "      data_statistics_history=data_statistics_history.assign(id_Equipo_Analizado=_)\n",
        "      dataset_historia=pd.concat([dataset_historia,data_statistics_history])\n",
        "# dataset_historia"
      ],
      "metadata": {
        "id": "IhwQzyMBG1eg"
      },
      "execution_count": null,
      "outputs": []
    },
    {
      "cell_type": "code",
      "source": [
        "#Obtener información sobre los partidos anteriores \n",
        "dataset_historia=dataset_historia.drop(['xG','xGA','npxG','npxGA','deep','deep_allowed','xpts','result','wins',\t'draws'\t,'loses','npxGD','ppda.att','ppda.def',\t'ppda_allowed.att','ppda_allowed.def'], axis=1)\n",
        "dataset_historia.columns=['Historia.local','Historia.Goles_Local','Historia.Goles_Visitante','Historia.Fecha','Historia.Puntos','Historia.id_Equipo_Analizado']\n",
        "dataset_historia['Historia.Fecha'] = pd.to_datetime(dataset_historia['Historia.Fecha'])\n",
        "dataset_historia.head(10)"
      ],
      "metadata": {
        "colab": {
          "base_uri": "https://localhost:8080/",
          "height": 363
        },
        "id": "ULhngJtoGcGO",
        "outputId": "536b2fab-f18d-4f4b-c4b0-87047659ede5"
      },
      "execution_count": null,
      "outputs": [
        {
          "output_type": "execute_result",
          "data": {
            "text/plain": [
              "  Historia.local  Historia.Goles_Local  Historia.Goles_Visitante  \\\n",
              "0              h                     2                         5   \n",
              "1              a                     1                         1   \n",
              "2              h                     0                         1   \n",
              "3              a                     1                         1   \n",
              "4              h                     2                         1   \n",
              "5              a                     0                         2   \n",
              "6              a                     0                         2   \n",
              "7              h                     1                         2   \n",
              "8              a                     1                         2   \n",
              "9              h                     1                         2   \n",
              "\n",
              "       Historia.Fecha  Historia.Puntos Historia.id_Equipo_Analizado  \n",
              "0 2022-08-15 16:30:00                0                           94  \n",
              "1 2022-08-21 18:45:00                1                           94  \n",
              "2 2022-08-28 16:30:00                0                           94  \n",
              "3 2022-08-31 16:30:00                1                           94  \n",
              "4 2022-09-04 16:00:00                3                           94  \n",
              "5 2022-09-11 16:00:00                0                           94  \n",
              "6 2022-09-18 13:00:00                0                           94  \n",
              "7 2022-10-03 18:45:00                0                           94  \n",
              "8 2022-10-09 13:00:00                0                           94  \n",
              "9 2022-10-16 18:45:00                0                           94  "
            ],
            "text/html": [
              "\n",
              "  <div id=\"df-23b5f3a6-804a-4c07-9749-aa907b108777\">\n",
              "    <div class=\"colab-df-container\">\n",
              "      <div>\n",
              "<style scoped>\n",
              "    .dataframe tbody tr th:only-of-type {\n",
              "        vertical-align: middle;\n",
              "    }\n",
              "\n",
              "    .dataframe tbody tr th {\n",
              "        vertical-align: top;\n",
              "    }\n",
              "\n",
              "    .dataframe thead th {\n",
              "        text-align: right;\n",
              "    }\n",
              "</style>\n",
              "<table border=\"1\" class=\"dataframe\">\n",
              "  <thead>\n",
              "    <tr style=\"text-align: right;\">\n",
              "      <th></th>\n",
              "      <th>Historia.local</th>\n",
              "      <th>Historia.Goles_Local</th>\n",
              "      <th>Historia.Goles_Visitante</th>\n",
              "      <th>Historia.Fecha</th>\n",
              "      <th>Historia.Puntos</th>\n",
              "      <th>Historia.id_Equipo_Analizado</th>\n",
              "    </tr>\n",
              "  </thead>\n",
              "  <tbody>\n",
              "    <tr>\n",
              "      <th>0</th>\n",
              "      <td>h</td>\n",
              "      <td>2</td>\n",
              "      <td>5</td>\n",
              "      <td>2022-08-15 16:30:00</td>\n",
              "      <td>0</td>\n",
              "      <td>94</td>\n",
              "    </tr>\n",
              "    <tr>\n",
              "      <th>1</th>\n",
              "      <td>a</td>\n",
              "      <td>1</td>\n",
              "      <td>1</td>\n",
              "      <td>2022-08-21 18:45:00</td>\n",
              "      <td>1</td>\n",
              "      <td>94</td>\n",
              "    </tr>\n",
              "    <tr>\n",
              "      <th>2</th>\n",
              "      <td>h</td>\n",
              "      <td>0</td>\n",
              "      <td>1</td>\n",
              "      <td>2022-08-28 16:30:00</td>\n",
              "      <td>0</td>\n",
              "      <td>94</td>\n",
              "    </tr>\n",
              "    <tr>\n",
              "      <th>3</th>\n",
              "      <td>a</td>\n",
              "      <td>1</td>\n",
              "      <td>1</td>\n",
              "      <td>2022-08-31 16:30:00</td>\n",
              "      <td>1</td>\n",
              "      <td>94</td>\n",
              "    </tr>\n",
              "    <tr>\n",
              "      <th>4</th>\n",
              "      <td>h</td>\n",
              "      <td>2</td>\n",
              "      <td>1</td>\n",
              "      <td>2022-09-04 16:00:00</td>\n",
              "      <td>3</td>\n",
              "      <td>94</td>\n",
              "    </tr>\n",
              "    <tr>\n",
              "      <th>5</th>\n",
              "      <td>a</td>\n",
              "      <td>0</td>\n",
              "      <td>2</td>\n",
              "      <td>2022-09-11 16:00:00</td>\n",
              "      <td>0</td>\n",
              "      <td>94</td>\n",
              "    </tr>\n",
              "    <tr>\n",
              "      <th>6</th>\n",
              "      <td>a</td>\n",
              "      <td>0</td>\n",
              "      <td>2</td>\n",
              "      <td>2022-09-18 13:00:00</td>\n",
              "      <td>0</td>\n",
              "      <td>94</td>\n",
              "    </tr>\n",
              "    <tr>\n",
              "      <th>7</th>\n",
              "      <td>h</td>\n",
              "      <td>1</td>\n",
              "      <td>2</td>\n",
              "      <td>2022-10-03 18:45:00</td>\n",
              "      <td>0</td>\n",
              "      <td>94</td>\n",
              "    </tr>\n",
              "    <tr>\n",
              "      <th>8</th>\n",
              "      <td>a</td>\n",
              "      <td>1</td>\n",
              "      <td>2</td>\n",
              "      <td>2022-10-09 13:00:00</td>\n",
              "      <td>0</td>\n",
              "      <td>94</td>\n",
              "    </tr>\n",
              "    <tr>\n",
              "      <th>9</th>\n",
              "      <td>h</td>\n",
              "      <td>1</td>\n",
              "      <td>2</td>\n",
              "      <td>2022-10-16 18:45:00</td>\n",
              "      <td>0</td>\n",
              "      <td>94</td>\n",
              "    </tr>\n",
              "  </tbody>\n",
              "</table>\n",
              "</div>\n",
              "      <button class=\"colab-df-convert\" onclick=\"convertToInteractive('df-23b5f3a6-804a-4c07-9749-aa907b108777')\"\n",
              "              title=\"Convert this dataframe to an interactive table.\"\n",
              "              style=\"display:none;\">\n",
              "        \n",
              "  <svg xmlns=\"http://www.w3.org/2000/svg\" height=\"24px\"viewBox=\"0 0 24 24\"\n",
              "       width=\"24px\">\n",
              "    <path d=\"M0 0h24v24H0V0z\" fill=\"none\"/>\n",
              "    <path d=\"M18.56 5.44l.94 2.06.94-2.06 2.06-.94-2.06-.94-.94-2.06-.94 2.06-2.06.94zm-11 1L8.5 8.5l.94-2.06 2.06-.94-2.06-.94L8.5 2.5l-.94 2.06-2.06.94zm10 10l.94 2.06.94-2.06 2.06-.94-2.06-.94-.94-2.06-.94 2.06-2.06.94z\"/><path d=\"M17.41 7.96l-1.37-1.37c-.4-.4-.92-.59-1.43-.59-.52 0-1.04.2-1.43.59L10.3 9.45l-7.72 7.72c-.78.78-.78 2.05 0 2.83L4 21.41c.39.39.9.59 1.41.59.51 0 1.02-.2 1.41-.59l7.78-7.78 2.81-2.81c.8-.78.8-2.07 0-2.86zM5.41 20L4 18.59l7.72-7.72 1.47 1.35L5.41 20z\"/>\n",
              "  </svg>\n",
              "      </button>\n",
              "      \n",
              "  <style>\n",
              "    .colab-df-container {\n",
              "      display:flex;\n",
              "      flex-wrap:wrap;\n",
              "      gap: 12px;\n",
              "    }\n",
              "\n",
              "    .colab-df-convert {\n",
              "      background-color: #E8F0FE;\n",
              "      border: none;\n",
              "      border-radius: 50%;\n",
              "      cursor: pointer;\n",
              "      display: none;\n",
              "      fill: #1967D2;\n",
              "      height: 32px;\n",
              "      padding: 0 0 0 0;\n",
              "      width: 32px;\n",
              "    }\n",
              "\n",
              "    .colab-df-convert:hover {\n",
              "      background-color: #E2EBFA;\n",
              "      box-shadow: 0px 1px 2px rgba(60, 64, 67, 0.3), 0px 1px 3px 1px rgba(60, 64, 67, 0.15);\n",
              "      fill: #174EA6;\n",
              "    }\n",
              "\n",
              "    [theme=dark] .colab-df-convert {\n",
              "      background-color: #3B4455;\n",
              "      fill: #D2E3FC;\n",
              "    }\n",
              "\n",
              "    [theme=dark] .colab-df-convert:hover {\n",
              "      background-color: #434B5C;\n",
              "      box-shadow: 0px 1px 3px 1px rgba(0, 0, 0, 0.15);\n",
              "      filter: drop-shadow(0px 1px 2px rgba(0, 0, 0, 0.3));\n",
              "      fill: #FFFFFF;\n",
              "    }\n",
              "  </style>\n",
              "\n",
              "      <script>\n",
              "        const buttonEl =\n",
              "          document.querySelector('#df-23b5f3a6-804a-4c07-9749-aa907b108777 button.colab-df-convert');\n",
              "        buttonEl.style.display =\n",
              "          google.colab.kernel.accessAllowed ? 'block' : 'none';\n",
              "\n",
              "        async function convertToInteractive(key) {\n",
              "          const element = document.querySelector('#df-23b5f3a6-804a-4c07-9749-aa907b108777');\n",
              "          const dataTable =\n",
              "            await google.colab.kernel.invokeFunction('convertToInteractive',\n",
              "                                                     [key], {});\n",
              "          if (!dataTable) return;\n",
              "\n",
              "          const docLinkHtml = 'Like what you see? Visit the ' +\n",
              "            '<a target=\"_blank\" href=https://colab.research.google.com/notebooks/data_table.ipynb>data table notebook</a>'\n",
              "            + ' to learn more about interactive tables.';\n",
              "          element.innerHTML = '';\n",
              "          dataTable['output_type'] = 'display_data';\n",
              "          await google.colab.output.renderOutput(dataTable, element);\n",
              "          const docLink = document.createElement('div');\n",
              "          docLink.innerHTML = docLinkHtml;\n",
              "          element.appendChild(docLink);\n",
              "        }\n",
              "      </script>\n",
              "    </div>\n",
              "  </div>\n",
              "  "
            ]
          },
          "metadata": {},
          "execution_count": 11
        }
      ]
    },
    {
      "cell_type": "code",
      "source": [
        "df_juegos_informacion_historica=pd.DataFrame([])\n",
        "\n",
        "i=0\n",
        "for _ in range(dataset_inicial.shape[0]):\n",
        "  df_ext_local=traer_informacion_historica(dataset_historia,partidos_historicos,dataset_inicial.iloc[_]['Fecha_Juego'],['Historia.id_Equipo_Analizado'],[dataset_inicial.iloc[_]['Id_Local']],'local')\n",
        "  df_ext_visit=traer_informacion_historica(dataset_historia,partidos_historicos,dataset_inicial.iloc[_]['Fecha_Juego'],['Historia.id_Equipo_Analizado'],[dataset_inicial.iloc[_]['Id_Visitante']],'Visitante') \n",
        "\n",
        "  df_intermedio = pd.concat([df_ext_local,df_ext_visit], axis=1)\n",
        "  x = pd.DataFrame(dataset_inicial.iloc[_])\n",
        "  x = x.transpose(copy=True)\n",
        "  x.reset_index()\n",
        "  df_intermedio = pd.concat([df_intermedio,x.reset_index()], axis=1)\n",
        "\n",
        "  df_juegos_informacion_historica = pd.concat([df_juegos_informacion_historica, df_intermedio])\n",
        "df_juegos_informacion_historica.head(10)"
      ],
      "metadata": {
        "colab": {
          "base_uri": "https://localhost:8080/",
          "height": 792
        },
        "id": "9BHGZhFxHGtQ",
        "outputId": "93d48af4-e24c-4c7d-f9a1-f8e175cbf784"
      },
      "execution_count": null,
      "outputs": [
        {
          "output_type": "stream",
          "name": "stderr",
          "text": [
            "<ipython-input-4-e27c9f56cffc>:7: SettingWithCopyWarning: \n",
            "A value is trying to be set on a copy of a slice from a DataFrame\n",
            "\n",
            "See the caveats in the documentation: https://pandas.pydata.org/pandas-docs/stable/user_guide/indexing.html#returning-a-view-versus-a-copy\n",
            "  df_retorna.sort_values(by='Historia.Fecha', ascending = False,inplace=True)\n",
            "<ipython-input-4-e27c9f56cffc>:7: SettingWithCopyWarning: \n",
            "A value is trying to be set on a copy of a slice from a DataFrame\n",
            "\n",
            "See the caveats in the documentation: https://pandas.pydata.org/pandas-docs/stable/user_guide/indexing.html#returning-a-view-versus-a-copy\n",
            "  df_retorna.sort_values(by='Historia.Fecha', ascending = False,inplace=True)\n"
          ]
        },
        {
          "output_type": "execute_result",
          "data": {
            "text/plain": [
              "  local.Historia.local N-1 local.Historia.local N-2 local.Historia.local N-3  \\\n",
              "0                        a                        h                        h   \n",
              "0                        a                        h                        a   \n",
              "0                        a                        h                        a   \n",
              "0                        a                        a                        h   \n",
              "0                        a                        h                        a   \n",
              "0                        a                        h                        a   \n",
              "0                        a                        h                        a   \n",
              "0                        h                        a                        h   \n",
              "0                        a                        h                        h   \n",
              "0                        a                        h                        a   \n",
              "\n",
              "  local.Historia.local N-4 local.Historia.local N-5 local.Historia.local N-6  \\\n",
              "0                        a                        h                        a   \n",
              "0                        h                        h                        a   \n",
              "0                        h                        a                        h   \n",
              "0                        a                        h                        a   \n",
              "0                        a                        h                        a   \n",
              "0                        h                        a                        a   \n",
              "0                        h                        a                        h   \n",
              "0                        a                        h                        a   \n",
              "0                        a                        h                        a   \n",
              "0                        h                        h                        a   \n",
              "\n",
              "  local.Historia.local N-7 local.Historia.local N-8 local.Historia.local N-9  \\\n",
              "0                        a                        h                        a   \n",
              "0                        h                        a                        a   \n",
              "0                        h                        a                        h   \n",
              "0                        h                        a                        h   \n",
              "0                        h                        a                        h   \n",
              "0                        h                        a                        h   \n",
              "0                        a                        a                        h   \n",
              "0                        h                        a                        a   \n",
              "0                        h                        a                        h   \n",
              "0                        h                        a                        h   \n",
              "\n",
              "  local.Historia.local N-10  local.Historia.Goles_Local N-1  \\\n",
              "0                         h                             3.0   \n",
              "0                         h                             1.0   \n",
              "0                         a                             1.0   \n",
              "0                         h                             0.0   \n",
              "0                         a                             1.0   \n",
              "0                         a                             1.0   \n",
              "0                         a                             0.0   \n",
              "0                         h                             0.0   \n",
              "0                         a                             1.0   \n",
              "0                         a                             0.0   \n",
              "\n",
              "   local.Historia.Goles_Local N-2  local.Historia.Goles_Local N-3  \\\n",
              "0                             0.0                             1.0   \n",
              "0                             2.0                             3.0   \n",
              "0                             0.0                             1.0   \n",
              "0                             0.0                             2.0   \n",
              "0                             1.0                             0.0   \n",
              "0                             1.0                             1.0   \n",
              "0                             1.0                             1.0   \n",
              "0                             0.0                             1.0   \n",
              "0                             1.0                             0.0   \n",
              "0                             2.0                             1.0   \n",
              "\n",
              "   local.Historia.Goles_Local N-4  local.Historia.Goles_Local N-5  \\\n",
              "0                             2.0                             1.0   \n",
              "0                             0.0                             1.0   \n",
              "0                             2.0                             3.0   \n",
              "0                             1.0                             0.0   \n",
              "0                             0.0                             2.0   \n",
              "0                             1.0                             0.0   \n",
              "0                             1.0                             1.0   \n",
              "0                             1.0                             1.0   \n",
              "0                             0.0                             1.0   \n",
              "0                             1.0                             0.0   \n",
              "\n",
              "   local.Historia.Goles_Local N-6  local.Historia.Goles_Local N-7  \\\n",
              "0                             2.0                             0.0   \n",
              "0                             2.0                             1.0   \n",
              "0                             0.0                             1.0   \n",
              "0                             1.0                             2.0   \n",
              "0                             1.0                             0.0   \n",
              "0                             0.0                             2.0   \n",
              "0                             1.0                             0.0   \n",
              "0                             1.0                             1.0   \n",
              "0                             1.0                             1.0   \n",
              "0                             0.0                             1.0   \n",
              "\n",
              "   local.Historia.Goles_Local N-8  local.Historia.Goles_Local N-9  \\\n",
              "0                             1.0                             1.0   \n",
              "0                             2.0                             0.0   \n",
              "0                             2.0                             1.0   \n",
              "0                             3.0                             0.0   \n",
              "0                             1.0                             2.0   \n",
              "0                             1.0                             0.0   \n",
              "0                             0.0                             2.0   \n",
              "0                             0.0                             0.0   \n",
              "0                             1.0                             1.0   \n",
              "0                             1.0                             1.0   \n",
              "\n",
              "   local.Historia.Goles_Local N-10  local.Historia.Goles_Visitante N-1  \\\n",
              "0                              1.0                                 3.0   \n",
              "0                              1.0                                 1.0   \n",
              "0                              2.0                                 1.0   \n",
              "0                              1.0                                 2.0   \n",
              "0                              3.0                                 2.0   \n",
              "0                              1.0                                 2.0   \n",
              "0                              1.0                                 2.0   \n",
              "0                              2.0                                 1.0   \n",
              "0                              0.0                                 1.0   \n",
              "0                              1.0                                 1.0   \n",
              "\n",
              "   local.Historia.Goles_Visitante N-2  local.Historia.Goles_Visitante N-3  \\\n",
              "0                                 1.0                                 3.0   \n",
              "0                                 5.0                                 3.0   \n",
              "0                                 1.0                                 1.0   \n",
              "0                                 2.0                                 1.0   \n",
              "0                                 2.0                                 2.0   \n",
              "0                                 2.0                                 2.0   \n",
              "0                                 3.0                                 2.0   \n",
              "0                                 2.0                                 3.0   \n",
              "0                                 2.0                                 1.0   \n",
              "0                                 0.0                                 1.0   \n",
              "\n",
              "   local.Historia.Goles_Visitante N-4  local.Historia.Goles_Visitante N-5  \\\n",
              "0                                 1.0                                 1.0   \n",
              "0                                 1.0                                 3.0   \n",
              "0                                 5.0                                 3.0   \n",
              "0                                 1.0                                 1.0   \n",
              "0                                 2.0                                 1.0   \n",
              "0                                 2.0                                 2.0   \n",
              "0                                 2.0                                 2.0   \n",
              "0                                 2.0                                 2.0   \n",
              "0                                 2.0                                 3.0   \n",
              "0                                 2.0                                 1.0   \n",
              "\n",
              "   local.Historia.Goles_Visitante N-6  local.Historia.Goles_Visitante N-7  \\\n",
              "0                                 1.0                                 2.0   \n",
              "0                                 1.0                                 1.0   \n",
              "0                                 1.0                                 3.0   \n",
              "0                                 1.0                                 5.0   \n",
              "0                                 1.0                                 1.0   \n",
              "0                                 2.0                                 1.0   \n",
              "0                                 2.0                                 2.0   \n",
              "0                                 2.0                                 2.0   \n",
              "0                                 2.0                                 2.0   \n",
              "0                                 2.0                                 3.0   \n",
              "\n",
              "   local.Historia.Goles_Visitante N-8  local.Historia.Goles_Visitante N-9  \\\n",
              "0                                 0.0                                 1.0   \n",
              "0                                 1.0                                 2.0   \n",
              "0                                 1.0                                 1.0   \n",
              "0                                 3.0                                 1.0   \n",
              "0                                 1.0                                 5.0   \n",
              "0                                 1.0                                 1.0   \n",
              "0                                 2.0                                 1.0   \n",
              "0                                 2.0                                 2.0   \n",
              "0                                 2.0                                 2.0   \n",
              "0                                 2.0                                 2.0   \n",
              "\n",
              "   local.Historia.Goles_Visitante N-10 local.Historia.Fecha N-1  \\\n",
              "0                                  2.0      2022-05-21 18:45:00   \n",
              "0                                  0.0      2022-08-21 18:45:00   \n",
              "0                                  1.0      2022-08-31 16:30:00   \n",
              "0                                  3.0      2022-09-18 13:00:00   \n",
              "0                                  3.0      2022-10-09 13:00:00   \n",
              "0                                  1.0      2022-10-24 18:45:00   \n",
              "0                                  1.0      2022-11-06 14:00:00   \n",
              "0                                  1.0      2022-11-10 17:30:00   \n",
              "0                                  2.0      2023-01-04 13:30:00   \n",
              "0                                  2.0      2023-01-14 19:45:00   \n",
              "\n",
              "  local.Historia.Fecha N-2 local.Historia.Fecha N-3 local.Historia.Fecha N-4  \\\n",
              "0      2022-05-14 16:00:00      2022-05-08 18:45:00      2022-04-30 13:00:00   \n",
              "0      2022-08-15 16:30:00      2022-05-21 18:45:00      2022-05-14 16:00:00   \n",
              "0      2022-08-28 16:30:00      2022-08-21 18:45:00      2022-08-15 16:30:00   \n",
              "0      2022-09-11 16:00:00      2022-09-04 16:00:00      2022-08-31 16:30:00   \n",
              "0      2022-10-03 18:45:00      2022-09-18 13:00:00      2022-09-11 16:00:00   \n",
              "0      2022-10-16 18:45:00      2022-10-09 13:00:00      2022-10-03 18:45:00   \n",
              "0      2022-10-31 17:30:00      2022-10-24 18:45:00      2022-10-16 18:45:00   \n",
              "0      2022-11-06 14:00:00      2022-10-31 17:30:00      2022-10-24 18:45:00   \n",
              "0      2022-11-13 14:00:00      2022-11-10 17:30:00      2022-11-06 14:00:00   \n",
              "0      2023-01-09 17:30:00      2023-01-04 13:30:00      2022-11-13 14:00:00   \n",
              "\n",
              "  local.Historia.Fecha N-5 local.Historia.Fecha N-6 local.Historia.Fecha N-7  \\\n",
              "0      2022-04-23 18:45:00      2022-04-18 19:00:00      2022-04-09 16:00:00   \n",
              "0      2022-05-08 18:45:00      2022-04-30 13:00:00      2022-04-23 18:45:00   \n",
              "0      2022-05-21 18:45:00      2022-05-14 16:00:00      2022-05-08 18:45:00   \n",
              "0      2022-08-28 16:30:00      2022-08-21 18:45:00      2022-08-15 16:30:00   \n",
              "0      2022-09-04 16:00:00      2022-08-31 16:30:00      2022-08-28 16:30:00   \n",
              "0      2022-09-18 13:00:00      2022-09-11 16:00:00      2022-09-04 16:00:00   \n",
              "0      2022-10-09 13:00:00      2022-10-03 18:45:00      2022-09-18 13:00:00   \n",
              "0      2022-10-16 18:45:00      2022-10-09 13:00:00      2022-10-03 18:45:00   \n",
              "0      2022-10-31 17:30:00      2022-10-24 18:45:00      2022-10-16 18:45:00   \n",
              "0      2022-11-10 17:30:00      2022-11-06 14:00:00      2022-10-31 17:30:00   \n",
              "\n",
              "  local.Historia.Fecha N-8 local.Historia.Fecha N-9 local.Historia.Fecha N-10  \\\n",
              "0      2022-04-04 16:30:00      2022-03-20 14:00:00       2022-03-13 14:00:00   \n",
              "0      2022-04-18 19:00:00      2022-04-09 16:00:00       2022-04-04 16:30:00   \n",
              "0      2022-04-30 13:00:00      2022-04-23 18:45:00       2022-04-18 19:00:00   \n",
              "0      2022-05-21 18:45:00      2022-05-14 16:00:00       2022-05-08 18:45:00   \n",
              "0      2022-08-21 18:45:00      2022-08-15 16:30:00       2022-05-21 18:45:00   \n",
              "0      2022-08-31 16:30:00      2022-08-28 16:30:00       2022-08-21 18:45:00   \n",
              "0      2022-09-11 16:00:00      2022-09-04 16:00:00       2022-08-31 16:30:00   \n",
              "0      2022-09-18 13:00:00      2022-09-11 16:00:00       2022-09-04 16:00:00   \n",
              "0      2022-10-09 13:00:00      2022-10-03 18:45:00       2022-09-18 13:00:00   \n",
              "0      2022-10-24 18:45:00      2022-10-16 18:45:00       2022-10-09 13:00:00   \n",
              "\n",
              "   local.Historia.Puntos N-1  local.Historia.Puntos N-2  \\\n",
              "0                        1.0                        0.0   \n",
              "0                        1.0                        0.0   \n",
              "0                        1.0                        0.0   \n",
              "0                        0.0                        0.0   \n",
              "0                        0.0                        0.0   \n",
              "0                        0.0                        0.0   \n",
              "0                        0.0                        0.0   \n",
              "0                        0.0                        0.0   \n",
              "0                        1.0                        0.0   \n",
              "0                        0.0                        3.0   \n",
              "\n",
              "   local.Historia.Puntos N-3  local.Historia.Puntos N-4  \\\n",
              "0                        0.0                        3.0   \n",
              "0                        1.0                        0.0   \n",
              "0                        1.0                        0.0   \n",
              "0                        3.0                        1.0   \n",
              "0                        0.0                        0.0   \n",
              "0                        0.0                        0.0   \n",
              "0                        0.0                        0.0   \n",
              "0                        0.0                        0.0   \n",
              "0                        0.0                        0.0   \n",
              "0                        1.0                        0.0   \n",
              "\n",
              "   local.Historia.Puntos N-5  local.Historia.Puntos N-6  \\\n",
              "0                        1.0                        3.0   \n",
              "0                        0.0                        3.0   \n",
              "0                        1.0                        0.0   \n",
              "0                        0.0                        1.0   \n",
              "0                        3.0                        1.0   \n",
              "0                        0.0                        0.0   \n",
              "0                        0.0                        0.0   \n",
              "0                        0.0                        0.0   \n",
              "0                        0.0                        0.0   \n",
              "0                        0.0                        0.0   \n",
              "\n",
              "   local.Historia.Puntos N-7  local.Historia.Puntos N-8  \\\n",
              "0                        0.0                        3.0   \n",
              "0                        1.0                        3.0   \n",
              "0                        0.0                        3.0   \n",
              "0                        0.0                        1.0   \n",
              "0                        0.0                        1.0   \n",
              "0                        3.0                        1.0   \n",
              "0                        0.0                        0.0   \n",
              "0                        0.0                        0.0   \n",
              "0                        0.0                        0.0   \n",
              "0                        0.0                        0.0   \n",
              "\n",
              "   local.Historia.Puntos N-9  local.Historia.Puntos N-10  \\\n",
              "0                        1.0                         0.0   \n",
              "0                        0.0                         3.0   \n",
              "0                        1.0                         3.0   \n",
              "0                        0.0                         0.0   \n",
              "0                        0.0                         1.0   \n",
              "0                        0.0                         1.0   \n",
              "0                        3.0                         1.0   \n",
              "0                        0.0                         3.0   \n",
              "0                        0.0                         0.0   \n",
              "0                        0.0                         0.0   \n",
              "\n",
              "  Visitante.Historia.local N-1 Visitante.Historia.local N-2  \\\n",
              "0                            a                            h   \n",
              "0                            h                            a   \n",
              "0                            h                            a   \n",
              "0                            h                            a   \n",
              "0                            h                            a   \n",
              "0                            h                            a   \n",
              "0                            h                            a   \n",
              "0                            h                            a   \n",
              "0                            h                            a   \n",
              "0                            h                            a   \n",
              "\n",
              "  Visitante.Historia.local N-3 Visitante.Historia.local N-4  \\\n",
              "0                            a                            h   \n",
              "0                            h                            a   \n",
              "0                            h                            h   \n",
              "0                            h                            h   \n",
              "0                            h                            a   \n",
              "0                            h                            a   \n",
              "0                            h                            a   \n",
              "0                            h                            a   \n",
              "0                            h                            a   \n",
              "0                            h                            a   \n",
              "\n",
              "  Visitante.Historia.local N-5 Visitante.Historia.local N-6  \\\n",
              "0                            a                            h   \n",
              "0                            a                            h   \n",
              "0                            a                            h   \n",
              "0                            a                            h   \n",
              "0                            h                            a   \n",
              "0                            h                            a   \n",
              "0                            a                            h   \n",
              "0                            h                            a   \n",
              "0                            h                            h   \n",
              "0                            h                            a   \n",
              "\n",
              "  Visitante.Historia.local N-7 Visitante.Historia.local N-8  \\\n",
              "0                            h                            a   \n",
              "0                            h                            a   \n",
              "0                            a                            h   \n",
              "0                            a                            a   \n",
              "0                            h                            a   \n",
              "0                            a                            h   \n",
              "0                            a                            h   \n",
              "0                            a                            h   \n",
              "0                            a                            h   \n",
              "0                            h                            a   \n",
              "\n",
              "  Visitante.Historia.local N-9 Visitante.Historia.local N-10  \\\n",
              "0                            h                             a   \n",
              "0                            h                             a   \n",
              "0                            a                             h   \n",
              "0                            h                             a   \n",
              "0                            h                             a   \n",
              "0                            a                             h   \n",
              "0                            a                             h   \n",
              "0                            a                             h   \n",
              "0                            a                             h   \n",
              "0                            h                             a   \n",
              "\n",
              "   Visitante.Historia.Goles_Local N-1  Visitante.Historia.Goles_Local N-2  \\\n",
              "0                                 3.0                                 3.0   \n",
              "0                                 1.0                                 2.0   \n",
              "0                                 1.0                                 0.0   \n",
              "0                                 3.0                                 3.0   \n",
              "0                                 2.0                                 3.0   \n",
              "0                                 0.0                                 1.0   \n",
              "0                                 2.0                                 1.0   \n",
              "0                                 1.0                                 1.0   \n",
              "0                                 0.0                                 0.0   \n",
              "0                                 2.0                                 0.0   \n",
              "\n",
              "   Visitante.Historia.Goles_Local N-3  Visitante.Historia.Goles_Local N-4  \\\n",
              "0                                 1.0                                 6.0   \n",
              "0                                 0.0                                 0.0   \n",
              "0                                 0.0                                 0.0   \n",
              "0                                 4.0                                 1.0   \n",
              "0                                 1.0                                 2.0   \n",
              "0                                 2.0                                 2.0   \n",
              "0                                 4.0                                 1.0   \n",
              "0                                 1.0                                 0.0   \n",
              "0                                 0.0                                 2.0   \n",
              "0                                 2.0                                 2.0   \n",
              "\n",
              "   Visitante.Historia.Goles_Local N-5  Visitante.Historia.Goles_Local N-6  \\\n",
              "0                                 2.0                                 1.0   \n",
              "0                                 3.0                                 1.0   \n",
              "0                                 0.0                                 4.0   \n",
              "0                                 2.0                                 0.0   \n",
              "0                                 3.0                                 0.0   \n",
              "0                                 0.0                                 2.0   \n",
              "0                                 0.0                                 3.0   \n",
              "0                                 2.0                                 0.0   \n",
              "0                                 0.0                                 0.0   \n",
              "0                                 2.0                                 1.0   \n",
              "\n",
              "   Visitante.Historia.Goles_Local N-7  Visitante.Historia.Goles_Local N-8  \\\n",
              "0                                 2.0                                 3.0   \n",
              "0                                 4.0                                 3.0   \n",
              "0                                 0.0                                 1.0   \n",
              "0                                 2.0                                 4.0   \n",
              "0                                 2.0                                 1.0   \n",
              "0                                 0.0                                 3.0   \n",
              "0                                 0.0                                 2.0   \n",
              "0                                 0.0                                 2.0   \n",
              "0                                 2.0                                 1.0   \n",
              "0                                 0.0                                 0.0   \n",
              "\n",
              "   Visitante.Historia.Goles_Local N-9  Visitante.Historia.Goles_Local N-10  \\\n",
              "0                                 2.0                                  2.0   \n",
              "0                                 1.0                                  1.0   \n",
              "0                                 1.0                                  1.0   \n",
              "0                                 2.0                                  1.0   \n",
              "0                                 4.0                                  3.0   \n",
              "0                                 1.0                                  1.0   \n",
              "0                                 1.0                                  2.0   \n",
              "0                                 0.0                                  2.0   \n",
              "0                                 1.0                                  0.0   \n",
              "0                                 1.0                                  1.0   \n",
              "\n",
              "   Visitante.Historia.Goles_Visitante N-1  \\\n",
              "0                                     0.0   \n",
              "0                                     1.0   \n",
              "0                                     1.0   \n",
              "0                                     1.0   \n",
              "0                                     0.0   \n",
              "0                                     1.0   \n",
              "0                                     0.0   \n",
              "0                                     1.0   \n",
              "0                                     1.0   \n",
              "0                                     2.0   \n",
              "\n",
              "   Visitante.Historia.Goles_Visitante N-2  \\\n",
              "0                                     0.0   \n",
              "0                                     0.0   \n",
              "0                                     4.0   \n",
              "0                                     1.0   \n",
              "0                                     1.0   \n",
              "0                                     0.0   \n",
              "0                                     0.0   \n",
              "0                                     2.0   \n",
              "0                                     2.0   \n",
              "0                                     0.0   \n",
              "\n",
              "   Visitante.Historia.Goles_Visitante N-3  \\\n",
              "0                                     0.0   \n",
              "0                                     1.0   \n",
              "0                                     0.0   \n",
              "0                                     0.0   \n",
              "0                                     2.0   \n",
              "0                                     1.0   \n",
              "0                                     0.0   \n",
              "0                                     2.0   \n",
              "0                                     0.0   \n",
              "0                                     1.0   \n",
              "\n",
              "   Visitante.Historia.Goles_Visitante N-4  \\\n",
              "0                                     1.0   \n",
              "0                                     2.0   \n",
              "0                                     2.0   \n",
              "0                                     0.0   \n",
              "0                                     1.0   \n",
              "0                                     1.0   \n",
              "0                                     0.0   \n",
              "0                                     1.0   \n",
              "0                                     2.0   \n",
              "0                                     0.0   \n",
              "\n",
              "   Visitante.Historia.Goles_Visitante N-5  \\\n",
              "0                                     3.0   \n",
              "0                                     1.0   \n",
              "0                                     3.0   \n",
              "0                                     1.0   \n",
              "0                                     2.0   \n",
              "0                                     1.0   \n",
              "0                                     2.0   \n",
              "0                                     2.0   \n",
              "0                                     0.0   \n",
              "0                                     1.0   \n",
              "\n",
              "   Visitante.Historia.Goles_Visitante N-6  \\\n",
              "0                                     1.0   \n",
              "0                                     1.0   \n",
              "0                                     1.0   \n",
              "0                                     0.0   \n",
              "0                                     0.0   \n",
              "0                                     1.0   \n",
              "0                                     0.0   \n",
              "0                                     2.0   \n",
              "0                                     1.0   \n",
              "0                                     1.0   \n",
              "\n",
              "   Visitante.Historia.Goles_Visitante N-7  \\\n",
              "0                                     3.0   \n",
              "0                                     4.0   \n",
              "0                                     2.0   \n",
              "0                                     4.0   \n",
              "0                                     0.0   \n",
              "0                                     4.0   \n",
              "0                                     1.0   \n",
              "0                                     4.0   \n",
              "0                                     2.0   \n",
              "0                                     1.0   \n",
              "\n",
              "   Visitante.Historia.Goles_Visitante N-8  \\\n",
              "0                                     1.0   \n",
              "0                                     1.0   \n",
              "0                                     0.0   \n",
              "0                                     0.0   \n",
              "0                                     1.0   \n",
              "0                                     0.0   \n",
              "0                                     2.0   \n",
              "0                                     1.0   \n",
              "0                                     4.0   \n",
              "0                                     2.0   \n",
              "\n",
              "   Visitante.Historia.Goles_Visitante N-9  \\\n",
              "0                                     1.0   \n",
              "0                                     2.0   \n",
              "0                                     1.0   \n",
              "0                                     3.0   \n",
              "0                                     2.0   \n",
              "0                                     1.0   \n",
              "0                                     1.0   \n",
              "0                                     1.0   \n",
              "0                                     1.0   \n",
              "0                                     1.0   \n",
              "\n",
              "   Visitante.Historia.Goles_Visitante N-10 Visitante.Historia.Fecha N-1  \\\n",
              "0                                      1.0          2022-05-22 10:30:00   \n",
              "0                                      2.0          2022-08-21 18:45:00   \n",
              "0                                      2.0          2022-08-31 16:30:00   \n",
              "0                                      1.0          2022-09-18 10:30:00   \n",
              "0                                      0.0          2022-10-08 16:00:00   \n",
              "0                                      0.0          2022-10-23 18:45:00   \n",
              "0                                      0.0          2022-11-06 19:45:00   \n",
              "0                                      2.0          2022-11-08 17:30:00   \n",
              "0                                      4.0          2023-01-04 17:30:00   \n",
              "0                                      2.0          2023-01-14 17:00:00   \n",
              "\n",
              "  Visitante.Historia.Fecha N-2 Visitante.Historia.Fecha N-3  \\\n",
              "0          2022-05-15 13:00:00          2022-05-07 13:00:00   \n",
              "0          2022-08-13 16:30:00          2022-05-21 18:45:00   \n",
              "0          2022-08-28 16:30:00          2022-08-22 18:45:00   \n",
              "0          2022-09-11 13:00:00          2022-09-04 18:45:00   \n",
              "0          2022-10-01 18:45:00          2022-09-18 18:45:00   \n",
              "0          2022-10-17 16:30:00          2022-10-09 18:45:00   \n",
              "0          2022-10-29 16:00:00          2022-10-21 18:45:00   \n",
              "0          2022-11-05 19:45:00          2022-10-30 14:00:00   \n",
              "0          2022-11-11 19:45:00          2022-11-08 19:45:00   \n",
              "0          2023-01-08 14:00:00          2023-01-04 15:30:00   \n",
              "\n",
              "  Visitante.Historia.Fecha N-4 Visitante.Historia.Fecha N-5  \\\n",
              "0          2022-04-30 13:00:00          2022-04-24 13:00:00   \n",
              "0          2022-05-15 16:00:00          2022-05-08 10:30:00   \n",
              "0          2022-08-13 16:30:00          2022-05-22 16:00:00   \n",
              "0          2022-08-31 16:30:00          2022-08-26 16:30:00   \n",
              "0          2022-09-10 18:45:00          2022-09-03 16:00:00   \n",
              "0          2022-10-01 16:00:00          2022-09-18 16:00:00   \n",
              "0          2022-10-15 16:00:00          2022-10-08 16:00:00   \n",
              "0          2022-10-22 13:00:00          2022-10-16 13:00:00   \n",
              "0          2022-11-05 14:00:00          2022-10-30 14:00:00   \n",
              "0          2022-11-12 17:00:00          2022-11-09 17:30:00   \n",
              "\n",
              "  Visitante.Historia.Fecha N-6 Visitante.Historia.Fecha N-7  \\\n",
              "0          2022-04-18 17:00:00          2022-04-10 13:00:00   \n",
              "0          2022-05-02 18:45:00          2022-04-27 20:15:00   \n",
              "0          2022-05-16 16:30:00          2022-05-07 18:45:00   \n",
              "0          2022-08-20 16:30:00          2022-08-13 16:30:00   \n",
              "0          2022-08-30 16:30:00          2022-08-27 18:45:00   \n",
              "0          2022-09-12 18:45:00          2022-09-04 18:45:00   \n",
              "0          2022-10-02 18:45:00          2022-09-18 13:00:00   \n",
              "0          2022-10-09 13:00:00          2022-10-02 10:30:00   \n",
              "0          2022-10-24 16:30:00          2022-10-16 13:00:00   \n",
              "0          2022-11-04 18:45:00          2022-10-29 16:00:00   \n",
              "\n",
              "  Visitante.Historia.Fecha N-8 Visitante.Historia.Fecha N-9  \\\n",
              "0          2022-04-03 13:00:00          2022-03-19 14:00:00   \n",
              "0          2022-04-23 13:00:00          2022-04-18 19:00:00   \n",
              "0          2022-04-30 16:00:00          2022-04-23 18:45:00   \n",
              "0          2022-05-22 19:00:00          2022-05-14 16:00:00   \n",
              "0          2022-08-21 18:45:00          2022-08-13 16:30:00   \n",
              "0          2022-08-30 18:45:00          2022-08-27 16:30:00   \n",
              "0          2022-09-11 18:45:00          2022-09-03 13:00:00   \n",
              "0          2022-09-17 16:00:00          2022-09-10 13:00:00   \n",
              "0          2022-10-09 16:00:00          2022-10-02 13:00:00   \n",
              "0          2022-10-23 13:00:00          2022-10-17 18:45:00   \n",
              "\n",
              "  Visitante.Historia.Fecha N-10  Visitante.Historia.Puntos N-1  \\\n",
              "0           2022-03-13 14:00:00                            3.0   \n",
              "0           2022-04-10 13:00:00                            1.0   \n",
              "0           2022-04-16 12:30:00                            1.0   \n",
              "0           2022-05-07 16:00:00                            3.0   \n",
              "0           2022-05-22 16:00:00                            3.0   \n",
              "0           2022-08-22 16:30:00                            0.0   \n",
              "0           2022-08-31 18:45:00                            3.0   \n",
              "0           2022-09-04 13:00:00                            1.0   \n",
              "0           2022-09-18 13:00:00                            0.0   \n",
              "0           2022-10-09 18:45:00                            1.0   \n",
              "\n",
              "   Visitante.Historia.Puntos N-2  Visitante.Historia.Puntos N-3  \\\n",
              "0                            3.0                            3.0   \n",
              "0                            3.0                            0.0   \n",
              "0                            0.0                            1.0   \n",
              "0                            3.0                            3.0   \n",
              "0                            3.0                            0.0   \n",
              "0                            3.0                            3.0   \n",
              "0                            3.0                            3.0   \n",
              "0                            0.0                            0.0   \n",
              "0                            0.0                            1.0   \n",
              "0                            1.0                            3.0   \n",
              "\n",
              "   Visitante.Historia.Puntos N-4  Visitante.Historia.Puntos N-5  \\\n",
              "0                            3.0                            0.0   \n",
              "0                            0.0                            3.0   \n",
              "0                            0.0                            0.0   \n",
              "0                            3.0                            3.0   \n",
              "0                            3.0                            3.0   \n",
              "0                            3.0                            0.0   \n",
              "0                            3.0                            0.0   \n",
              "0                            0.0                            1.0   \n",
              "0                            1.0                            1.0   \n",
              "0                            3.0                            3.0   \n",
              "\n",
              "   Visitante.Historia.Puntos N-6  Visitante.Historia.Puntos N-7  \\\n",
              "0                            1.0                            0.0   \n",
              "0                            1.0                            1.0   \n",
              "0                            3.0                            0.0   \n",
              "0                            1.0                            0.0   \n",
              "0                            1.0                            3.0   \n",
              "0                            3.0                            0.0   \n",
              "0                            3.0                            0.0   \n",
              "0                            0.0                            0.0   \n",
              "0                            0.0                            1.0   \n",
              "0                            1.0                            0.0   \n",
              "\n",
              "   Visitante.Historia.Puntos N-8  Visitante.Historia.Puntos N-9  \\\n",
              "0                            3.0                            3.0   \n",
              "0                            3.0                            0.0   \n",
              "0                            3.0                            1.0   \n",
              "0                            3.0                            0.0   \n",
              "0                            1.0                            3.0   \n",
              "0                            3.0                            1.0   \n",
              "0                            1.0                            1.0   \n",
              "0                            3.0                            0.0   \n",
              "0                            0.0                            1.0   \n",
              "0                            0.0                            1.0   \n",
              "\n",
              "   Visitante.Historia.Puntos N-10  index Id_Juego Jugado         Fecha_Juego  \\\n",
              "0                             3.0      0    18590   True 2022-08-15 16:30:00   \n",
              "0                             0.0      2    18609   True 2022-08-28 16:30:00   \n",
              "0                             0.0      4    18627   True 2022-09-04 16:00:00   \n",
              "0                             1.0      7    18654   True 2022-10-03 18:45:00   \n",
              "0                             3.0      9    18674   True 2022-10-16 18:45:00   \n",
              "0                             3.0     11    18694   True 2022-10-31 17:30:00   \n",
              "0                             3.0     13    18714   True 2022-11-10 17:30:00   \n",
              "0                             1.0     14    18725   True 2022-11-13 14:00:00   \n",
              "0                             0.0     16    18744   True 2023-01-09 17:30:00   \n",
              "0                             0.0     18    18764   True 2023-01-21 14:00:00   \n",
              "\n",
              "  Resultado_Local Id_Local Id_Visitante Goles_Local Goles_Visitante  \\\n",
              "0               l       94          105           2               5   \n",
              "0               l       94          107           0               1   \n",
              "0               w       94          102           2               1   \n",
              "0               l       94           99           1               2   \n",
              "0               l       94          111           1               2   \n",
              "0               l       94           95           1               3   \n",
              "0               l       94           98           0               1   \n",
              "0               l       94          260           1               2   \n",
              "0               w       94          272           2               0   \n",
              "0               w       94          243           2               0   \n",
              "\n",
              "  Goles_Esperados_local Goles_Esperados_Visitante Probabilidad_Victoria_Local  \\\n",
              "0               1.13087                   2.79803                    0.127051   \n",
              "0              0.369511                  0.843159                    0.153387   \n",
              "0                2.3433                  0.798714                     0.71905   \n",
              "0              0.284674                   2.17728                    0.037251   \n",
              "0               1.93604                    1.7368                     0.43195   \n",
              "0              0.288065                   3.03255                    0.017844   \n",
              "0               1.14515                  0.877959                    0.418104   \n",
              "0               2.16554                  0.752225                     0.69843   \n",
              "0               1.92775                  0.810314                    0.636773   \n",
              "0              0.625033                  0.835357                    0.252802   \n",
              "\n",
              "  Probabilidad_Empate Probabilidad_Derrota_Local  \n",
              "0            0.152316                   0.720633  \n",
              "0            0.397532                   0.449081  \n",
              "0             0.17073                    0.11022  \n",
              "0            0.146894                   0.815854  \n",
              "0            0.215935                   0.352114  \n",
              "0            0.075293                   0.906862  \n",
              "0            0.302597                     0.2793  \n",
              "0            0.185163                   0.116407  \n",
              "0            0.212783                   0.150444  \n",
              "0            0.370125                   0.377073  "
            ],
            "text/html": [
              "\n",
              "  <div id=\"df-0e87312e-ab28-40a2-a1ff-528542c17b2a\">\n",
              "    <div class=\"colab-df-container\">\n",
              "      <div>\n",
              "<style scoped>\n",
              "    .dataframe tbody tr th:only-of-type {\n",
              "        vertical-align: middle;\n",
              "    }\n",
              "\n",
              "    .dataframe tbody tr th {\n",
              "        vertical-align: top;\n",
              "    }\n",
              "\n",
              "    .dataframe thead th {\n",
              "        text-align: right;\n",
              "    }\n",
              "</style>\n",
              "<table border=\"1\" class=\"dataframe\">\n",
              "  <thead>\n",
              "    <tr style=\"text-align: right;\">\n",
              "      <th></th>\n",
              "      <th>local.Historia.local N-1</th>\n",
              "      <th>local.Historia.local N-2</th>\n",
              "      <th>local.Historia.local N-3</th>\n",
              "      <th>local.Historia.local N-4</th>\n",
              "      <th>local.Historia.local N-5</th>\n",
              "      <th>local.Historia.local N-6</th>\n",
              "      <th>local.Historia.local N-7</th>\n",
              "      <th>local.Historia.local N-8</th>\n",
              "      <th>local.Historia.local N-9</th>\n",
              "      <th>local.Historia.local N-10</th>\n",
              "      <th>local.Historia.Goles_Local N-1</th>\n",
              "      <th>local.Historia.Goles_Local N-2</th>\n",
              "      <th>local.Historia.Goles_Local N-3</th>\n",
              "      <th>local.Historia.Goles_Local N-4</th>\n",
              "      <th>local.Historia.Goles_Local N-5</th>\n",
              "      <th>local.Historia.Goles_Local N-6</th>\n",
              "      <th>local.Historia.Goles_Local N-7</th>\n",
              "      <th>local.Historia.Goles_Local N-8</th>\n",
              "      <th>local.Historia.Goles_Local N-9</th>\n",
              "      <th>local.Historia.Goles_Local N-10</th>\n",
              "      <th>local.Historia.Goles_Visitante N-1</th>\n",
              "      <th>local.Historia.Goles_Visitante N-2</th>\n",
              "      <th>local.Historia.Goles_Visitante N-3</th>\n",
              "      <th>local.Historia.Goles_Visitante N-4</th>\n",
              "      <th>local.Historia.Goles_Visitante N-5</th>\n",
              "      <th>local.Historia.Goles_Visitante N-6</th>\n",
              "      <th>local.Historia.Goles_Visitante N-7</th>\n",
              "      <th>local.Historia.Goles_Visitante N-8</th>\n",
              "      <th>local.Historia.Goles_Visitante N-9</th>\n",
              "      <th>local.Historia.Goles_Visitante N-10</th>\n",
              "      <th>local.Historia.Fecha N-1</th>\n",
              "      <th>local.Historia.Fecha N-2</th>\n",
              "      <th>local.Historia.Fecha N-3</th>\n",
              "      <th>local.Historia.Fecha N-4</th>\n",
              "      <th>local.Historia.Fecha N-5</th>\n",
              "      <th>local.Historia.Fecha N-6</th>\n",
              "      <th>local.Historia.Fecha N-7</th>\n",
              "      <th>local.Historia.Fecha N-8</th>\n",
              "      <th>local.Historia.Fecha N-9</th>\n",
              "      <th>local.Historia.Fecha N-10</th>\n",
              "      <th>local.Historia.Puntos N-1</th>\n",
              "      <th>local.Historia.Puntos N-2</th>\n",
              "      <th>local.Historia.Puntos N-3</th>\n",
              "      <th>local.Historia.Puntos N-4</th>\n",
              "      <th>local.Historia.Puntos N-5</th>\n",
              "      <th>local.Historia.Puntos N-6</th>\n",
              "      <th>local.Historia.Puntos N-7</th>\n",
              "      <th>local.Historia.Puntos N-8</th>\n",
              "      <th>local.Historia.Puntos N-9</th>\n",
              "      <th>local.Historia.Puntos N-10</th>\n",
              "      <th>Visitante.Historia.local N-1</th>\n",
              "      <th>Visitante.Historia.local N-2</th>\n",
              "      <th>Visitante.Historia.local N-3</th>\n",
              "      <th>Visitante.Historia.local N-4</th>\n",
              "      <th>Visitante.Historia.local N-5</th>\n",
              "      <th>Visitante.Historia.local N-6</th>\n",
              "      <th>Visitante.Historia.local N-7</th>\n",
              "      <th>Visitante.Historia.local N-8</th>\n",
              "      <th>Visitante.Historia.local N-9</th>\n",
              "      <th>Visitante.Historia.local N-10</th>\n",
              "      <th>Visitante.Historia.Goles_Local N-1</th>\n",
              "      <th>Visitante.Historia.Goles_Local N-2</th>\n",
              "      <th>Visitante.Historia.Goles_Local N-3</th>\n",
              "      <th>Visitante.Historia.Goles_Local N-4</th>\n",
              "      <th>Visitante.Historia.Goles_Local N-5</th>\n",
              "      <th>Visitante.Historia.Goles_Local N-6</th>\n",
              "      <th>Visitante.Historia.Goles_Local N-7</th>\n",
              "      <th>Visitante.Historia.Goles_Local N-8</th>\n",
              "      <th>Visitante.Historia.Goles_Local N-9</th>\n",
              "      <th>Visitante.Historia.Goles_Local N-10</th>\n",
              "      <th>Visitante.Historia.Goles_Visitante N-1</th>\n",
              "      <th>Visitante.Historia.Goles_Visitante N-2</th>\n",
              "      <th>Visitante.Historia.Goles_Visitante N-3</th>\n",
              "      <th>Visitante.Historia.Goles_Visitante N-4</th>\n",
              "      <th>Visitante.Historia.Goles_Visitante N-5</th>\n",
              "      <th>Visitante.Historia.Goles_Visitante N-6</th>\n",
              "      <th>Visitante.Historia.Goles_Visitante N-7</th>\n",
              "      <th>Visitante.Historia.Goles_Visitante N-8</th>\n",
              "      <th>Visitante.Historia.Goles_Visitante N-9</th>\n",
              "      <th>Visitante.Historia.Goles_Visitante N-10</th>\n",
              "      <th>Visitante.Historia.Fecha N-1</th>\n",
              "      <th>Visitante.Historia.Fecha N-2</th>\n",
              "      <th>Visitante.Historia.Fecha N-3</th>\n",
              "      <th>Visitante.Historia.Fecha N-4</th>\n",
              "      <th>Visitante.Historia.Fecha N-5</th>\n",
              "      <th>Visitante.Historia.Fecha N-6</th>\n",
              "      <th>Visitante.Historia.Fecha N-7</th>\n",
              "      <th>Visitante.Historia.Fecha N-8</th>\n",
              "      <th>Visitante.Historia.Fecha N-9</th>\n",
              "      <th>Visitante.Historia.Fecha N-10</th>\n",
              "      <th>Visitante.Historia.Puntos N-1</th>\n",
              "      <th>Visitante.Historia.Puntos N-2</th>\n",
              "      <th>Visitante.Historia.Puntos N-3</th>\n",
              "      <th>Visitante.Historia.Puntos N-4</th>\n",
              "      <th>Visitante.Historia.Puntos N-5</th>\n",
              "      <th>Visitante.Historia.Puntos N-6</th>\n",
              "      <th>Visitante.Historia.Puntos N-7</th>\n",
              "      <th>Visitante.Historia.Puntos N-8</th>\n",
              "      <th>Visitante.Historia.Puntos N-9</th>\n",
              "      <th>Visitante.Historia.Puntos N-10</th>\n",
              "      <th>index</th>\n",
              "      <th>Id_Juego</th>\n",
              "      <th>Jugado</th>\n",
              "      <th>Fecha_Juego</th>\n",
              "      <th>Resultado_Local</th>\n",
              "      <th>Id_Local</th>\n",
              "      <th>Id_Visitante</th>\n",
              "      <th>Goles_Local</th>\n",
              "      <th>Goles_Visitante</th>\n",
              "      <th>Goles_Esperados_local</th>\n",
              "      <th>Goles_Esperados_Visitante</th>\n",
              "      <th>Probabilidad_Victoria_Local</th>\n",
              "      <th>Probabilidad_Empate</th>\n",
              "      <th>Probabilidad_Derrota_Local</th>\n",
              "    </tr>\n",
              "  </thead>\n",
              "  <tbody>\n",
              "    <tr>\n",
              "      <th>0</th>\n",
              "      <td>a</td>\n",
              "      <td>h</td>\n",
              "      <td>h</td>\n",
              "      <td>a</td>\n",
              "      <td>h</td>\n",
              "      <td>a</td>\n",
              "      <td>a</td>\n",
              "      <td>h</td>\n",
              "      <td>a</td>\n",
              "      <td>h</td>\n",
              "      <td>3.0</td>\n",
              "      <td>0.0</td>\n",
              "      <td>1.0</td>\n",
              "      <td>2.0</td>\n",
              "      <td>1.0</td>\n",
              "      <td>2.0</td>\n",
              "      <td>0.0</td>\n",
              "      <td>1.0</td>\n",
              "      <td>1.0</td>\n",
              "      <td>1.0</td>\n",
              "      <td>3.0</td>\n",
              "      <td>1.0</td>\n",
              "      <td>3.0</td>\n",
              "      <td>1.0</td>\n",
              "      <td>1.0</td>\n",
              "      <td>1.0</td>\n",
              "      <td>2.0</td>\n",
              "      <td>0.0</td>\n",
              "      <td>1.0</td>\n",
              "      <td>2.0</td>\n",
              "      <td>2022-05-21 18:45:00</td>\n",
              "      <td>2022-05-14 16:00:00</td>\n",
              "      <td>2022-05-08 18:45:00</td>\n",
              "      <td>2022-04-30 13:00:00</td>\n",
              "      <td>2022-04-23 18:45:00</td>\n",
              "      <td>2022-04-18 19:00:00</td>\n",
              "      <td>2022-04-09 16:00:00</td>\n",
              "      <td>2022-04-04 16:30:00</td>\n",
              "      <td>2022-03-20 14:00:00</td>\n",
              "      <td>2022-03-13 14:00:00</td>\n",
              "      <td>1.0</td>\n",
              "      <td>0.0</td>\n",
              "      <td>0.0</td>\n",
              "      <td>3.0</td>\n",
              "      <td>1.0</td>\n",
              "      <td>3.0</td>\n",
              "      <td>0.0</td>\n",
              "      <td>3.0</td>\n",
              "      <td>1.0</td>\n",
              "      <td>0.0</td>\n",
              "      <td>a</td>\n",
              "      <td>h</td>\n",
              "      <td>a</td>\n",
              "      <td>h</td>\n",
              "      <td>a</td>\n",
              "      <td>h</td>\n",
              "      <td>h</td>\n",
              "      <td>a</td>\n",
              "      <td>h</td>\n",
              "      <td>a</td>\n",
              "      <td>3.0</td>\n",
              "      <td>3.0</td>\n",
              "      <td>1.0</td>\n",
              "      <td>6.0</td>\n",
              "      <td>2.0</td>\n",
              "      <td>1.0</td>\n",
              "      <td>2.0</td>\n",
              "      <td>3.0</td>\n",
              "      <td>2.0</td>\n",
              "      <td>2.0</td>\n",
              "      <td>0.0</td>\n",
              "      <td>0.0</td>\n",
              "      <td>0.0</td>\n",
              "      <td>1.0</td>\n",
              "      <td>3.0</td>\n",
              "      <td>1.0</td>\n",
              "      <td>3.0</td>\n",
              "      <td>1.0</td>\n",
              "      <td>1.0</td>\n",
              "      <td>1.0</td>\n",
              "      <td>2022-05-22 10:30:00</td>\n",
              "      <td>2022-05-15 13:00:00</td>\n",
              "      <td>2022-05-07 13:00:00</td>\n",
              "      <td>2022-04-30 13:00:00</td>\n",
              "      <td>2022-04-24 13:00:00</td>\n",
              "      <td>2022-04-18 17:00:00</td>\n",
              "      <td>2022-04-10 13:00:00</td>\n",
              "      <td>2022-04-03 13:00:00</td>\n",
              "      <td>2022-03-19 14:00:00</td>\n",
              "      <td>2022-03-13 14:00:00</td>\n",
              "      <td>3.0</td>\n",
              "      <td>3.0</td>\n",
              "      <td>3.0</td>\n",
              "      <td>3.0</td>\n",
              "      <td>0.0</td>\n",
              "      <td>1.0</td>\n",
              "      <td>0.0</td>\n",
              "      <td>3.0</td>\n",
              "      <td>3.0</td>\n",
              "      <td>3.0</td>\n",
              "      <td>0</td>\n",
              "      <td>18590</td>\n",
              "      <td>True</td>\n",
              "      <td>2022-08-15 16:30:00</td>\n",
              "      <td>l</td>\n",
              "      <td>94</td>\n",
              "      <td>105</td>\n",
              "      <td>2</td>\n",
              "      <td>5</td>\n",
              "      <td>1.13087</td>\n",
              "      <td>2.79803</td>\n",
              "      <td>0.127051</td>\n",
              "      <td>0.152316</td>\n",
              "      <td>0.720633</td>\n",
              "    </tr>\n",
              "    <tr>\n",
              "      <th>0</th>\n",
              "      <td>a</td>\n",
              "      <td>h</td>\n",
              "      <td>a</td>\n",
              "      <td>h</td>\n",
              "      <td>h</td>\n",
              "      <td>a</td>\n",
              "      <td>h</td>\n",
              "      <td>a</td>\n",
              "      <td>a</td>\n",
              "      <td>h</td>\n",
              "      <td>1.0</td>\n",
              "      <td>2.0</td>\n",
              "      <td>3.0</td>\n",
              "      <td>0.0</td>\n",
              "      <td>1.0</td>\n",
              "      <td>2.0</td>\n",
              "      <td>1.0</td>\n",
              "      <td>2.0</td>\n",
              "      <td>0.0</td>\n",
              "      <td>1.0</td>\n",
              "      <td>1.0</td>\n",
              "      <td>5.0</td>\n",
              "      <td>3.0</td>\n",
              "      <td>1.0</td>\n",
              "      <td>3.0</td>\n",
              "      <td>1.0</td>\n",
              "      <td>1.0</td>\n",
              "      <td>1.0</td>\n",
              "      <td>2.0</td>\n",
              "      <td>0.0</td>\n",
              "      <td>2022-08-21 18:45:00</td>\n",
              "      <td>2022-08-15 16:30:00</td>\n",
              "      <td>2022-05-21 18:45:00</td>\n",
              "      <td>2022-05-14 16:00:00</td>\n",
              "      <td>2022-05-08 18:45:00</td>\n",
              "      <td>2022-04-30 13:00:00</td>\n",
              "      <td>2022-04-23 18:45:00</td>\n",
              "      <td>2022-04-18 19:00:00</td>\n",
              "      <td>2022-04-09 16:00:00</td>\n",
              "      <td>2022-04-04 16:30:00</td>\n",
              "      <td>1.0</td>\n",
              "      <td>0.0</td>\n",
              "      <td>1.0</td>\n",
              "      <td>0.0</td>\n",
              "      <td>0.0</td>\n",
              "      <td>3.0</td>\n",
              "      <td>1.0</td>\n",
              "      <td>3.0</td>\n",
              "      <td>0.0</td>\n",
              "      <td>3.0</td>\n",
              "      <td>h</td>\n",
              "      <td>a</td>\n",
              "      <td>h</td>\n",
              "      <td>a</td>\n",
              "      <td>a</td>\n",
              "      <td>h</td>\n",
              "      <td>h</td>\n",
              "      <td>a</td>\n",
              "      <td>h</td>\n",
              "      <td>a</td>\n",
              "      <td>1.0</td>\n",
              "      <td>2.0</td>\n",
              "      <td>0.0</td>\n",
              "      <td>0.0</td>\n",
              "      <td>3.0</td>\n",
              "      <td>1.0</td>\n",
              "      <td>4.0</td>\n",
              "      <td>3.0</td>\n",
              "      <td>1.0</td>\n",
              "      <td>1.0</td>\n",
              "      <td>1.0</td>\n",
              "      <td>0.0</td>\n",
              "      <td>1.0</td>\n",
              "      <td>2.0</td>\n",
              "      <td>1.0</td>\n",
              "      <td>1.0</td>\n",
              "      <td>4.0</td>\n",
              "      <td>1.0</td>\n",
              "      <td>2.0</td>\n",
              "      <td>2.0</td>\n",
              "      <td>2022-08-21 18:45:00</td>\n",
              "      <td>2022-08-13 16:30:00</td>\n",
              "      <td>2022-05-21 18:45:00</td>\n",
              "      <td>2022-05-15 16:00:00</td>\n",
              "      <td>2022-05-08 10:30:00</td>\n",
              "      <td>2022-05-02 18:45:00</td>\n",
              "      <td>2022-04-27 20:15:00</td>\n",
              "      <td>2022-04-23 13:00:00</td>\n",
              "      <td>2022-04-18 19:00:00</td>\n",
              "      <td>2022-04-10 13:00:00</td>\n",
              "      <td>1.0</td>\n",
              "      <td>3.0</td>\n",
              "      <td>0.0</td>\n",
              "      <td>0.0</td>\n",
              "      <td>3.0</td>\n",
              "      <td>1.0</td>\n",
              "      <td>1.0</td>\n",
              "      <td>3.0</td>\n",
              "      <td>0.0</td>\n",
              "      <td>0.0</td>\n",
              "      <td>2</td>\n",
              "      <td>18609</td>\n",
              "      <td>True</td>\n",
              "      <td>2022-08-28 16:30:00</td>\n",
              "      <td>l</td>\n",
              "      <td>94</td>\n",
              "      <td>107</td>\n",
              "      <td>0</td>\n",
              "      <td>1</td>\n",
              "      <td>0.369511</td>\n",
              "      <td>0.843159</td>\n",
              "      <td>0.153387</td>\n",
              "      <td>0.397532</td>\n",
              "      <td>0.449081</td>\n",
              "    </tr>\n",
              "    <tr>\n",
              "      <th>0</th>\n",
              "      <td>a</td>\n",
              "      <td>h</td>\n",
              "      <td>a</td>\n",
              "      <td>h</td>\n",
              "      <td>a</td>\n",
              "      <td>h</td>\n",
              "      <td>h</td>\n",
              "      <td>a</td>\n",
              "      <td>h</td>\n",
              "      <td>a</td>\n",
              "      <td>1.0</td>\n",
              "      <td>0.0</td>\n",
              "      <td>1.0</td>\n",
              "      <td>2.0</td>\n",
              "      <td>3.0</td>\n",
              "      <td>0.0</td>\n",
              "      <td>1.0</td>\n",
              "      <td>2.0</td>\n",
              "      <td>1.0</td>\n",
              "      <td>2.0</td>\n",
              "      <td>1.0</td>\n",
              "      <td>1.0</td>\n",
              "      <td>1.0</td>\n",
              "      <td>5.0</td>\n",
              "      <td>3.0</td>\n",
              "      <td>1.0</td>\n",
              "      <td>3.0</td>\n",
              "      <td>1.0</td>\n",
              "      <td>1.0</td>\n",
              "      <td>1.0</td>\n",
              "      <td>2022-08-31 16:30:00</td>\n",
              "      <td>2022-08-28 16:30:00</td>\n",
              "      <td>2022-08-21 18:45:00</td>\n",
              "      <td>2022-08-15 16:30:00</td>\n",
              "      <td>2022-05-21 18:45:00</td>\n",
              "      <td>2022-05-14 16:00:00</td>\n",
              "      <td>2022-05-08 18:45:00</td>\n",
              "      <td>2022-04-30 13:00:00</td>\n",
              "      <td>2022-04-23 18:45:00</td>\n",
              "      <td>2022-04-18 19:00:00</td>\n",
              "      <td>1.0</td>\n",
              "      <td>0.0</td>\n",
              "      <td>1.0</td>\n",
              "      <td>0.0</td>\n",
              "      <td>1.0</td>\n",
              "      <td>0.0</td>\n",
              "      <td>0.0</td>\n",
              "      <td>3.0</td>\n",
              "      <td>1.0</td>\n",
              "      <td>3.0</td>\n",
              "      <td>h</td>\n",
              "      <td>a</td>\n",
              "      <td>h</td>\n",
              "      <td>h</td>\n",
              "      <td>a</td>\n",
              "      <td>h</td>\n",
              "      <td>a</td>\n",
              "      <td>h</td>\n",
              "      <td>a</td>\n",
              "      <td>h</td>\n",
              "      <td>1.0</td>\n",
              "      <td>0.0</td>\n",
              "      <td>0.0</td>\n",
              "      <td>0.0</td>\n",
              "      <td>0.0</td>\n",
              "      <td>4.0</td>\n",
              "      <td>0.0</td>\n",
              "      <td>1.0</td>\n",
              "      <td>1.0</td>\n",
              "      <td>1.0</td>\n",
              "      <td>1.0</td>\n",
              "      <td>4.0</td>\n",
              "      <td>0.0</td>\n",
              "      <td>2.0</td>\n",
              "      <td>3.0</td>\n",
              "      <td>1.0</td>\n",
              "      <td>2.0</td>\n",
              "      <td>0.0</td>\n",
              "      <td>1.0</td>\n",
              "      <td>2.0</td>\n",
              "      <td>2022-08-31 16:30:00</td>\n",
              "      <td>2022-08-28 16:30:00</td>\n",
              "      <td>2022-08-22 18:45:00</td>\n",
              "      <td>2022-08-13 16:30:00</td>\n",
              "      <td>2022-05-22 16:00:00</td>\n",
              "      <td>2022-05-16 16:30:00</td>\n",
              "      <td>2022-05-07 18:45:00</td>\n",
              "      <td>2022-04-30 16:00:00</td>\n",
              "      <td>2022-04-23 18:45:00</td>\n",
              "      <td>2022-04-16 12:30:00</td>\n",
              "      <td>1.0</td>\n",
              "      <td>0.0</td>\n",
              "      <td>1.0</td>\n",
              "      <td>0.0</td>\n",
              "      <td>0.0</td>\n",
              "      <td>3.0</td>\n",
              "      <td>0.0</td>\n",
              "      <td>3.0</td>\n",
              "      <td>1.0</td>\n",
              "      <td>0.0</td>\n",
              "      <td>4</td>\n",
              "      <td>18627</td>\n",
              "      <td>True</td>\n",
              "      <td>2022-09-04 16:00:00</td>\n",
              "      <td>w</td>\n",
              "      <td>94</td>\n",
              "      <td>102</td>\n",
              "      <td>2</td>\n",
              "      <td>1</td>\n",
              "      <td>2.3433</td>\n",
              "      <td>0.798714</td>\n",
              "      <td>0.71905</td>\n",
              "      <td>0.17073</td>\n",
              "      <td>0.11022</td>\n",
              "    </tr>\n",
              "    <tr>\n",
              "      <th>0</th>\n",
              "      <td>a</td>\n",
              "      <td>a</td>\n",
              "      <td>h</td>\n",
              "      <td>a</td>\n",
              "      <td>h</td>\n",
              "      <td>a</td>\n",
              "      <td>h</td>\n",
              "      <td>a</td>\n",
              "      <td>h</td>\n",
              "      <td>h</td>\n",
              "      <td>0.0</td>\n",
              "      <td>0.0</td>\n",
              "      <td>2.0</td>\n",
              "      <td>1.0</td>\n",
              "      <td>0.0</td>\n",
              "      <td>1.0</td>\n",
              "      <td>2.0</td>\n",
              "      <td>3.0</td>\n",
              "      <td>0.0</td>\n",
              "      <td>1.0</td>\n",
              "      <td>2.0</td>\n",
              "      <td>2.0</td>\n",
              "      <td>1.0</td>\n",
              "      <td>1.0</td>\n",
              "      <td>1.0</td>\n",
              "      <td>1.0</td>\n",
              "      <td>5.0</td>\n",
              "      <td>3.0</td>\n",
              "      <td>1.0</td>\n",
              "      <td>3.0</td>\n",
              "      <td>2022-09-18 13:00:00</td>\n",
              "      <td>2022-09-11 16:00:00</td>\n",
              "      <td>2022-09-04 16:00:00</td>\n",
              "      <td>2022-08-31 16:30:00</td>\n",
              "      <td>2022-08-28 16:30:00</td>\n",
              "      <td>2022-08-21 18:45:00</td>\n",
              "      <td>2022-08-15 16:30:00</td>\n",
              "      <td>2022-05-21 18:45:00</td>\n",
              "      <td>2022-05-14 16:00:00</td>\n",
              "      <td>2022-05-08 18:45:00</td>\n",
              "      <td>0.0</td>\n",
              "      <td>0.0</td>\n",
              "      <td>3.0</td>\n",
              "      <td>1.0</td>\n",
              "      <td>0.0</td>\n",
              "      <td>1.0</td>\n",
              "      <td>0.0</td>\n",
              "      <td>1.0</td>\n",
              "      <td>0.0</td>\n",
              "      <td>0.0</td>\n",
              "      <td>h</td>\n",
              "      <td>a</td>\n",
              "      <td>h</td>\n",
              "      <td>h</td>\n",
              "      <td>a</td>\n",
              "      <td>h</td>\n",
              "      <td>a</td>\n",
              "      <td>a</td>\n",
              "      <td>h</td>\n",
              "      <td>a</td>\n",
              "      <td>3.0</td>\n",
              "      <td>3.0</td>\n",
              "      <td>4.0</td>\n",
              "      <td>1.0</td>\n",
              "      <td>2.0</td>\n",
              "      <td>0.0</td>\n",
              "      <td>2.0</td>\n",
              "      <td>4.0</td>\n",
              "      <td>2.0</td>\n",
              "      <td>1.0</td>\n",
              "      <td>1.0</td>\n",
              "      <td>1.0</td>\n",
              "      <td>0.0</td>\n",
              "      <td>0.0</td>\n",
              "      <td>1.0</td>\n",
              "      <td>0.0</td>\n",
              "      <td>4.0</td>\n",
              "      <td>0.0</td>\n",
              "      <td>3.0</td>\n",
              "      <td>1.0</td>\n",
              "      <td>2022-09-18 10:30:00</td>\n",
              "      <td>2022-09-11 13:00:00</td>\n",
              "      <td>2022-09-04 18:45:00</td>\n",
              "      <td>2022-08-31 16:30:00</td>\n",
              "      <td>2022-08-26 16:30:00</td>\n",
              "      <td>2022-08-20 16:30:00</td>\n",
              "      <td>2022-08-13 16:30:00</td>\n",
              "      <td>2022-05-22 19:00:00</td>\n",
              "      <td>2022-05-14 16:00:00</td>\n",
              "      <td>2022-05-07 16:00:00</td>\n",
              "      <td>3.0</td>\n",
              "      <td>3.0</td>\n",
              "      <td>3.0</td>\n",
              "      <td>3.0</td>\n",
              "      <td>3.0</td>\n",
              "      <td>1.0</td>\n",
              "      <td>0.0</td>\n",
              "      <td>3.0</td>\n",
              "      <td>0.0</td>\n",
              "      <td>1.0</td>\n",
              "      <td>7</td>\n",
              "      <td>18654</td>\n",
              "      <td>True</td>\n",
              "      <td>2022-10-03 18:45:00</td>\n",
              "      <td>l</td>\n",
              "      <td>94</td>\n",
              "      <td>99</td>\n",
              "      <td>1</td>\n",
              "      <td>2</td>\n",
              "      <td>0.284674</td>\n",
              "      <td>2.17728</td>\n",
              "      <td>0.037251</td>\n",
              "      <td>0.146894</td>\n",
              "      <td>0.815854</td>\n",
              "    </tr>\n",
              "    <tr>\n",
              "      <th>0</th>\n",
              "      <td>a</td>\n",
              "      <td>h</td>\n",
              "      <td>a</td>\n",
              "      <td>a</td>\n",
              "      <td>h</td>\n",
              "      <td>a</td>\n",
              "      <td>h</td>\n",
              "      <td>a</td>\n",
              "      <td>h</td>\n",
              "      <td>a</td>\n",
              "      <td>1.0</td>\n",
              "      <td>1.0</td>\n",
              "      <td>0.0</td>\n",
              "      <td>0.0</td>\n",
              "      <td>2.0</td>\n",
              "      <td>1.0</td>\n",
              "      <td>0.0</td>\n",
              "      <td>1.0</td>\n",
              "      <td>2.0</td>\n",
              "      <td>3.0</td>\n",
              "      <td>2.0</td>\n",
              "      <td>2.0</td>\n",
              "      <td>2.0</td>\n",
              "      <td>2.0</td>\n",
              "      <td>1.0</td>\n",
              "      <td>1.0</td>\n",
              "      <td>1.0</td>\n",
              "      <td>1.0</td>\n",
              "      <td>5.0</td>\n",
              "      <td>3.0</td>\n",
              "      <td>2022-10-09 13:00:00</td>\n",
              "      <td>2022-10-03 18:45:00</td>\n",
              "      <td>2022-09-18 13:00:00</td>\n",
              "      <td>2022-09-11 16:00:00</td>\n",
              "      <td>2022-09-04 16:00:00</td>\n",
              "      <td>2022-08-31 16:30:00</td>\n",
              "      <td>2022-08-28 16:30:00</td>\n",
              "      <td>2022-08-21 18:45:00</td>\n",
              "      <td>2022-08-15 16:30:00</td>\n",
              "      <td>2022-05-21 18:45:00</td>\n",
              "      <td>0.0</td>\n",
              "      <td>0.0</td>\n",
              "      <td>0.0</td>\n",
              "      <td>0.0</td>\n",
              "      <td>3.0</td>\n",
              "      <td>1.0</td>\n",
              "      <td>0.0</td>\n",
              "      <td>1.0</td>\n",
              "      <td>0.0</td>\n",
              "      <td>1.0</td>\n",
              "      <td>h</td>\n",
              "      <td>a</td>\n",
              "      <td>h</td>\n",
              "      <td>a</td>\n",
              "      <td>h</td>\n",
              "      <td>a</td>\n",
              "      <td>h</td>\n",
              "      <td>a</td>\n",
              "      <td>h</td>\n",
              "      <td>a</td>\n",
              "      <td>2.0</td>\n",
              "      <td>3.0</td>\n",
              "      <td>1.0</td>\n",
              "      <td>2.0</td>\n",
              "      <td>3.0</td>\n",
              "      <td>0.0</td>\n",
              "      <td>2.0</td>\n",
              "      <td>1.0</td>\n",
              "      <td>4.0</td>\n",
              "      <td>3.0</td>\n",
              "      <td>0.0</td>\n",
              "      <td>1.0</td>\n",
              "      <td>2.0</td>\n",
              "      <td>1.0</td>\n",
              "      <td>2.0</td>\n",
              "      <td>0.0</td>\n",
              "      <td>0.0</td>\n",
              "      <td>1.0</td>\n",
              "      <td>2.0</td>\n",
              "      <td>0.0</td>\n",
              "      <td>2022-10-08 16:00:00</td>\n",
              "      <td>2022-10-01 18:45:00</td>\n",
              "      <td>2022-09-18 18:45:00</td>\n",
              "      <td>2022-09-10 18:45:00</td>\n",
              "      <td>2022-09-03 16:00:00</td>\n",
              "      <td>2022-08-30 16:30:00</td>\n",
              "      <td>2022-08-27 18:45:00</td>\n",
              "      <td>2022-08-21 18:45:00</td>\n",
              "      <td>2022-08-13 16:30:00</td>\n",
              "      <td>2022-05-22 16:00:00</td>\n",
              "      <td>3.0</td>\n",
              "      <td>3.0</td>\n",
              "      <td>0.0</td>\n",
              "      <td>3.0</td>\n",
              "      <td>3.0</td>\n",
              "      <td>1.0</td>\n",
              "      <td>3.0</td>\n",
              "      <td>1.0</td>\n",
              "      <td>3.0</td>\n",
              "      <td>3.0</td>\n",
              "      <td>9</td>\n",
              "      <td>18674</td>\n",
              "      <td>True</td>\n",
              "      <td>2022-10-16 18:45:00</td>\n",
              "      <td>l</td>\n",
              "      <td>94</td>\n",
              "      <td>111</td>\n",
              "      <td>1</td>\n",
              "      <td>2</td>\n",
              "      <td>1.93604</td>\n",
              "      <td>1.7368</td>\n",
              "      <td>0.43195</td>\n",
              "      <td>0.215935</td>\n",
              "      <td>0.352114</td>\n",
              "    </tr>\n",
              "    <tr>\n",
              "      <th>0</th>\n",
              "      <td>a</td>\n",
              "      <td>h</td>\n",
              "      <td>a</td>\n",
              "      <td>h</td>\n",
              "      <td>a</td>\n",
              "      <td>a</td>\n",
              "      <td>h</td>\n",
              "      <td>a</td>\n",
              "      <td>h</td>\n",
              "      <td>a</td>\n",
              "      <td>1.0</td>\n",
              "      <td>1.0</td>\n",
              "      <td>1.0</td>\n",
              "      <td>1.0</td>\n",
              "      <td>0.0</td>\n",
              "      <td>0.0</td>\n",
              "      <td>2.0</td>\n",
              "      <td>1.0</td>\n",
              "      <td>0.0</td>\n",
              "      <td>1.0</td>\n",
              "      <td>2.0</td>\n",
              "      <td>2.0</td>\n",
              "      <td>2.0</td>\n",
              "      <td>2.0</td>\n",
              "      <td>2.0</td>\n",
              "      <td>2.0</td>\n",
              "      <td>1.0</td>\n",
              "      <td>1.0</td>\n",
              "      <td>1.0</td>\n",
              "      <td>1.0</td>\n",
              "      <td>2022-10-24 18:45:00</td>\n",
              "      <td>2022-10-16 18:45:00</td>\n",
              "      <td>2022-10-09 13:00:00</td>\n",
              "      <td>2022-10-03 18:45:00</td>\n",
              "      <td>2022-09-18 13:00:00</td>\n",
              "      <td>2022-09-11 16:00:00</td>\n",
              "      <td>2022-09-04 16:00:00</td>\n",
              "      <td>2022-08-31 16:30:00</td>\n",
              "      <td>2022-08-28 16:30:00</td>\n",
              "      <td>2022-08-21 18:45:00</td>\n",
              "      <td>0.0</td>\n",
              "      <td>0.0</td>\n",
              "      <td>0.0</td>\n",
              "      <td>0.0</td>\n",
              "      <td>0.0</td>\n",
              "      <td>0.0</td>\n",
              "      <td>3.0</td>\n",
              "      <td>1.0</td>\n",
              "      <td>0.0</td>\n",
              "      <td>1.0</td>\n",
              "      <td>h</td>\n",
              "      <td>a</td>\n",
              "      <td>h</td>\n",
              "      <td>a</td>\n",
              "      <td>h</td>\n",
              "      <td>a</td>\n",
              "      <td>a</td>\n",
              "      <td>h</td>\n",
              "      <td>a</td>\n",
              "      <td>h</td>\n",
              "      <td>0.0</td>\n",
              "      <td>1.0</td>\n",
              "      <td>2.0</td>\n",
              "      <td>2.0</td>\n",
              "      <td>0.0</td>\n",
              "      <td>2.0</td>\n",
              "      <td>0.0</td>\n",
              "      <td>3.0</td>\n",
              "      <td>1.0</td>\n",
              "      <td>1.0</td>\n",
              "      <td>1.0</td>\n",
              "      <td>0.0</td>\n",
              "      <td>1.0</td>\n",
              "      <td>1.0</td>\n",
              "      <td>1.0</td>\n",
              "      <td>1.0</td>\n",
              "      <td>4.0</td>\n",
              "      <td>0.0</td>\n",
              "      <td>1.0</td>\n",
              "      <td>0.0</td>\n",
              "      <td>2022-10-23 18:45:00</td>\n",
              "      <td>2022-10-17 16:30:00</td>\n",
              "      <td>2022-10-09 18:45:00</td>\n",
              "      <td>2022-10-01 16:00:00</td>\n",
              "      <td>2022-09-18 16:00:00</td>\n",
              "      <td>2022-09-12 18:45:00</td>\n",
              "      <td>2022-09-04 18:45:00</td>\n",
              "      <td>2022-08-30 18:45:00</td>\n",
              "      <td>2022-08-27 16:30:00</td>\n",
              "      <td>2022-08-22 16:30:00</td>\n",
              "      <td>0.0</td>\n",
              "      <td>3.0</td>\n",
              "      <td>3.0</td>\n",
              "      <td>3.0</td>\n",
              "      <td>0.0</td>\n",
              "      <td>3.0</td>\n",
              "      <td>0.0</td>\n",
              "      <td>3.0</td>\n",
              "      <td>1.0</td>\n",
              "      <td>3.0</td>\n",
              "      <td>11</td>\n",
              "      <td>18694</td>\n",
              "      <td>True</td>\n",
              "      <td>2022-10-31 17:30:00</td>\n",
              "      <td>l</td>\n",
              "      <td>94</td>\n",
              "      <td>95</td>\n",
              "      <td>1</td>\n",
              "      <td>3</td>\n",
              "      <td>0.288065</td>\n",
              "      <td>3.03255</td>\n",
              "      <td>0.017844</td>\n",
              "      <td>0.075293</td>\n",
              "      <td>0.906862</td>\n",
              "    </tr>\n",
              "    <tr>\n",
              "      <th>0</th>\n",
              "      <td>a</td>\n",
              "      <td>h</td>\n",
              "      <td>a</td>\n",
              "      <td>h</td>\n",
              "      <td>a</td>\n",
              "      <td>h</td>\n",
              "      <td>a</td>\n",
              "      <td>a</td>\n",
              "      <td>h</td>\n",
              "      <td>a</td>\n",
              "      <td>0.0</td>\n",
              "      <td>1.0</td>\n",
              "      <td>1.0</td>\n",
              "      <td>1.0</td>\n",
              "      <td>1.0</td>\n",
              "      <td>1.0</td>\n",
              "      <td>0.0</td>\n",
              "      <td>0.0</td>\n",
              "      <td>2.0</td>\n",
              "      <td>1.0</td>\n",
              "      <td>2.0</td>\n",
              "      <td>3.0</td>\n",
              "      <td>2.0</td>\n",
              "      <td>2.0</td>\n",
              "      <td>2.0</td>\n",
              "      <td>2.0</td>\n",
              "      <td>2.0</td>\n",
              "      <td>2.0</td>\n",
              "      <td>1.0</td>\n",
              "      <td>1.0</td>\n",
              "      <td>2022-11-06 14:00:00</td>\n",
              "      <td>2022-10-31 17:30:00</td>\n",
              "      <td>2022-10-24 18:45:00</td>\n",
              "      <td>2022-10-16 18:45:00</td>\n",
              "      <td>2022-10-09 13:00:00</td>\n",
              "      <td>2022-10-03 18:45:00</td>\n",
              "      <td>2022-09-18 13:00:00</td>\n",
              "      <td>2022-09-11 16:00:00</td>\n",
              "      <td>2022-09-04 16:00:00</td>\n",
              "      <td>2022-08-31 16:30:00</td>\n",
              "      <td>0.0</td>\n",
              "      <td>0.0</td>\n",
              "      <td>0.0</td>\n",
              "      <td>0.0</td>\n",
              "      <td>0.0</td>\n",
              "      <td>0.0</td>\n",
              "      <td>0.0</td>\n",
              "      <td>0.0</td>\n",
              "      <td>3.0</td>\n",
              "      <td>1.0</td>\n",
              "      <td>h</td>\n",
              "      <td>a</td>\n",
              "      <td>h</td>\n",
              "      <td>a</td>\n",
              "      <td>a</td>\n",
              "      <td>h</td>\n",
              "      <td>a</td>\n",
              "      <td>h</td>\n",
              "      <td>a</td>\n",
              "      <td>h</td>\n",
              "      <td>2.0</td>\n",
              "      <td>1.0</td>\n",
              "      <td>4.0</td>\n",
              "      <td>1.0</td>\n",
              "      <td>0.0</td>\n",
              "      <td>3.0</td>\n",
              "      <td>0.0</td>\n",
              "      <td>2.0</td>\n",
              "      <td>1.0</td>\n",
              "      <td>2.0</td>\n",
              "      <td>0.0</td>\n",
              "      <td>0.0</td>\n",
              "      <td>0.0</td>\n",
              "      <td>0.0</td>\n",
              "      <td>2.0</td>\n",
              "      <td>0.0</td>\n",
              "      <td>1.0</td>\n",
              "      <td>2.0</td>\n",
              "      <td>1.0</td>\n",
              "      <td>0.0</td>\n",
              "      <td>2022-11-06 19:45:00</td>\n",
              "      <td>2022-10-29 16:00:00</td>\n",
              "      <td>2022-10-21 18:45:00</td>\n",
              "      <td>2022-10-15 16:00:00</td>\n",
              "      <td>2022-10-08 16:00:00</td>\n",
              "      <td>2022-10-02 18:45:00</td>\n",
              "      <td>2022-09-18 13:00:00</td>\n",
              "      <td>2022-09-11 18:45:00</td>\n",
              "      <td>2022-09-03 13:00:00</td>\n",
              "      <td>2022-08-31 18:45:00</td>\n",
              "      <td>3.0</td>\n",
              "      <td>3.0</td>\n",
              "      <td>3.0</td>\n",
              "      <td>3.0</td>\n",
              "      <td>0.0</td>\n",
              "      <td>3.0</td>\n",
              "      <td>0.0</td>\n",
              "      <td>1.0</td>\n",
              "      <td>1.0</td>\n",
              "      <td>3.0</td>\n",
              "      <td>13</td>\n",
              "      <td>18714</td>\n",
              "      <td>True</td>\n",
              "      <td>2022-11-10 17:30:00</td>\n",
              "      <td>l</td>\n",
              "      <td>94</td>\n",
              "      <td>98</td>\n",
              "      <td>0</td>\n",
              "      <td>1</td>\n",
              "      <td>1.14515</td>\n",
              "      <td>0.877959</td>\n",
              "      <td>0.418104</td>\n",
              "      <td>0.302597</td>\n",
              "      <td>0.2793</td>\n",
              "    </tr>\n",
              "    <tr>\n",
              "      <th>0</th>\n",
              "      <td>h</td>\n",
              "      <td>a</td>\n",
              "      <td>h</td>\n",
              "      <td>a</td>\n",
              "      <td>h</td>\n",
              "      <td>a</td>\n",
              "      <td>h</td>\n",
              "      <td>a</td>\n",
              "      <td>a</td>\n",
              "      <td>h</td>\n",
              "      <td>0.0</td>\n",
              "      <td>0.0</td>\n",
              "      <td>1.0</td>\n",
              "      <td>1.0</td>\n",
              "      <td>1.0</td>\n",
              "      <td>1.0</td>\n",
              "      <td>1.0</td>\n",
              "      <td>0.0</td>\n",
              "      <td>0.0</td>\n",
              "      <td>2.0</td>\n",
              "      <td>1.0</td>\n",
              "      <td>2.0</td>\n",
              "      <td>3.0</td>\n",
              "      <td>2.0</td>\n",
              "      <td>2.0</td>\n",
              "      <td>2.0</td>\n",
              "      <td>2.0</td>\n",
              "      <td>2.0</td>\n",
              "      <td>2.0</td>\n",
              "      <td>1.0</td>\n",
              "      <td>2022-11-10 17:30:00</td>\n",
              "      <td>2022-11-06 14:00:00</td>\n",
              "      <td>2022-10-31 17:30:00</td>\n",
              "      <td>2022-10-24 18:45:00</td>\n",
              "      <td>2022-10-16 18:45:00</td>\n",
              "      <td>2022-10-09 13:00:00</td>\n",
              "      <td>2022-10-03 18:45:00</td>\n",
              "      <td>2022-09-18 13:00:00</td>\n",
              "      <td>2022-09-11 16:00:00</td>\n",
              "      <td>2022-09-04 16:00:00</td>\n",
              "      <td>0.0</td>\n",
              "      <td>0.0</td>\n",
              "      <td>0.0</td>\n",
              "      <td>0.0</td>\n",
              "      <td>0.0</td>\n",
              "      <td>0.0</td>\n",
              "      <td>0.0</td>\n",
              "      <td>0.0</td>\n",
              "      <td>0.0</td>\n",
              "      <td>3.0</td>\n",
              "      <td>h</td>\n",
              "      <td>a</td>\n",
              "      <td>h</td>\n",
              "      <td>a</td>\n",
              "      <td>h</td>\n",
              "      <td>a</td>\n",
              "      <td>a</td>\n",
              "      <td>h</td>\n",
              "      <td>a</td>\n",
              "      <td>h</td>\n",
              "      <td>1.0</td>\n",
              "      <td>1.0</td>\n",
              "      <td>1.0</td>\n",
              "      <td>0.0</td>\n",
              "      <td>2.0</td>\n",
              "      <td>0.0</td>\n",
              "      <td>0.0</td>\n",
              "      <td>2.0</td>\n",
              "      <td>0.0</td>\n",
              "      <td>2.0</td>\n",
              "      <td>1.0</td>\n",
              "      <td>2.0</td>\n",
              "      <td>2.0</td>\n",
              "      <td>1.0</td>\n",
              "      <td>2.0</td>\n",
              "      <td>2.0</td>\n",
              "      <td>4.0</td>\n",
              "      <td>1.0</td>\n",
              "      <td>1.0</td>\n",
              "      <td>2.0</td>\n",
              "      <td>2022-11-08 17:30:00</td>\n",
              "      <td>2022-11-05 19:45:00</td>\n",
              "      <td>2022-10-30 14:00:00</td>\n",
              "      <td>2022-10-22 13:00:00</td>\n",
              "      <td>2022-10-16 13:00:00</td>\n",
              "      <td>2022-10-09 13:00:00</td>\n",
              "      <td>2022-10-02 10:30:00</td>\n",
              "      <td>2022-09-17 16:00:00</td>\n",
              "      <td>2022-09-10 13:00:00</td>\n",
              "      <td>2022-09-04 13:00:00</td>\n",
              "      <td>1.0</td>\n",
              "      <td>0.0</td>\n",
              "      <td>0.0</td>\n",
              "      <td>0.0</td>\n",
              "      <td>1.0</td>\n",
              "      <td>0.0</td>\n",
              "      <td>0.0</td>\n",
              "      <td>3.0</td>\n",
              "      <td>0.0</td>\n",
              "      <td>1.0</td>\n",
              "      <td>14</td>\n",
              "      <td>18725</td>\n",
              "      <td>True</td>\n",
              "      <td>2022-11-13 14:00:00</td>\n",
              "      <td>l</td>\n",
              "      <td>94</td>\n",
              "      <td>260</td>\n",
              "      <td>1</td>\n",
              "      <td>2</td>\n",
              "      <td>2.16554</td>\n",
              "      <td>0.752225</td>\n",
              "      <td>0.69843</td>\n",
              "      <td>0.185163</td>\n",
              "      <td>0.116407</td>\n",
              "    </tr>\n",
              "    <tr>\n",
              "      <th>0</th>\n",
              "      <td>a</td>\n",
              "      <td>h</td>\n",
              "      <td>h</td>\n",
              "      <td>a</td>\n",
              "      <td>h</td>\n",
              "      <td>a</td>\n",
              "      <td>h</td>\n",
              "      <td>a</td>\n",
              "      <td>h</td>\n",
              "      <td>a</td>\n",
              "      <td>1.0</td>\n",
              "      <td>1.0</td>\n",
              "      <td>0.0</td>\n",
              "      <td>0.0</td>\n",
              "      <td>1.0</td>\n",
              "      <td>1.0</td>\n",
              "      <td>1.0</td>\n",
              "      <td>1.0</td>\n",
              "      <td>1.0</td>\n",
              "      <td>0.0</td>\n",
              "      <td>1.0</td>\n",
              "      <td>2.0</td>\n",
              "      <td>1.0</td>\n",
              "      <td>2.0</td>\n",
              "      <td>3.0</td>\n",
              "      <td>2.0</td>\n",
              "      <td>2.0</td>\n",
              "      <td>2.0</td>\n",
              "      <td>2.0</td>\n",
              "      <td>2.0</td>\n",
              "      <td>2023-01-04 13:30:00</td>\n",
              "      <td>2022-11-13 14:00:00</td>\n",
              "      <td>2022-11-10 17:30:00</td>\n",
              "      <td>2022-11-06 14:00:00</td>\n",
              "      <td>2022-10-31 17:30:00</td>\n",
              "      <td>2022-10-24 18:45:00</td>\n",
              "      <td>2022-10-16 18:45:00</td>\n",
              "      <td>2022-10-09 13:00:00</td>\n",
              "      <td>2022-10-03 18:45:00</td>\n",
              "      <td>2022-09-18 13:00:00</td>\n",
              "      <td>1.0</td>\n",
              "      <td>0.0</td>\n",
              "      <td>0.0</td>\n",
              "      <td>0.0</td>\n",
              "      <td>0.0</td>\n",
              "      <td>0.0</td>\n",
              "      <td>0.0</td>\n",
              "      <td>0.0</td>\n",
              "      <td>0.0</td>\n",
              "      <td>0.0</td>\n",
              "      <td>h</td>\n",
              "      <td>a</td>\n",
              "      <td>h</td>\n",
              "      <td>a</td>\n",
              "      <td>h</td>\n",
              "      <td>h</td>\n",
              "      <td>a</td>\n",
              "      <td>h</td>\n",
              "      <td>a</td>\n",
              "      <td>h</td>\n",
              "      <td>0.0</td>\n",
              "      <td>0.0</td>\n",
              "      <td>0.0</td>\n",
              "      <td>2.0</td>\n",
              "      <td>0.0</td>\n",
              "      <td>0.0</td>\n",
              "      <td>2.0</td>\n",
              "      <td>1.0</td>\n",
              "      <td>1.0</td>\n",
              "      <td>0.0</td>\n",
              "      <td>1.0</td>\n",
              "      <td>2.0</td>\n",
              "      <td>0.0</td>\n",
              "      <td>2.0</td>\n",
              "      <td>0.0</td>\n",
              "      <td>1.0</td>\n",
              "      <td>2.0</td>\n",
              "      <td>4.0</td>\n",
              "      <td>1.0</td>\n",
              "      <td>4.0</td>\n",
              "      <td>2023-01-04 17:30:00</td>\n",
              "      <td>2022-11-11 19:45:00</td>\n",
              "      <td>2022-11-08 19:45:00</td>\n",
              "      <td>2022-11-05 14:00:00</td>\n",
              "      <td>2022-10-30 14:00:00</td>\n",
              "      <td>2022-10-24 16:30:00</td>\n",
              "      <td>2022-10-16 13:00:00</td>\n",
              "      <td>2022-10-09 16:00:00</td>\n",
              "      <td>2022-10-02 13:00:00</td>\n",
              "      <td>2022-09-18 13:00:00</td>\n",
              "      <td>0.0</td>\n",
              "      <td>0.0</td>\n",
              "      <td>1.0</td>\n",
              "      <td>1.0</td>\n",
              "      <td>1.0</td>\n",
              "      <td>0.0</td>\n",
              "      <td>1.0</td>\n",
              "      <td>0.0</td>\n",
              "      <td>1.0</td>\n",
              "      <td>0.0</td>\n",
              "      <td>16</td>\n",
              "      <td>18744</td>\n",
              "      <td>True</td>\n",
              "      <td>2023-01-09 17:30:00</td>\n",
              "      <td>w</td>\n",
              "      <td>94</td>\n",
              "      <td>272</td>\n",
              "      <td>2</td>\n",
              "      <td>0</td>\n",
              "      <td>1.92775</td>\n",
              "      <td>0.810314</td>\n",
              "      <td>0.636773</td>\n",
              "      <td>0.212783</td>\n",
              "      <td>0.150444</td>\n",
              "    </tr>\n",
              "    <tr>\n",
              "      <th>0</th>\n",
              "      <td>a</td>\n",
              "      <td>h</td>\n",
              "      <td>a</td>\n",
              "      <td>h</td>\n",
              "      <td>h</td>\n",
              "      <td>a</td>\n",
              "      <td>h</td>\n",
              "      <td>a</td>\n",
              "      <td>h</td>\n",
              "      <td>a</td>\n",
              "      <td>0.0</td>\n",
              "      <td>2.0</td>\n",
              "      <td>1.0</td>\n",
              "      <td>1.0</td>\n",
              "      <td>0.0</td>\n",
              "      <td>0.0</td>\n",
              "      <td>1.0</td>\n",
              "      <td>1.0</td>\n",
              "      <td>1.0</td>\n",
              "      <td>1.0</td>\n",
              "      <td>1.0</td>\n",
              "      <td>0.0</td>\n",
              "      <td>1.0</td>\n",
              "      <td>2.0</td>\n",
              "      <td>1.0</td>\n",
              "      <td>2.0</td>\n",
              "      <td>3.0</td>\n",
              "      <td>2.0</td>\n",
              "      <td>2.0</td>\n",
              "      <td>2.0</td>\n",
              "      <td>2023-01-14 19:45:00</td>\n",
              "      <td>2023-01-09 17:30:00</td>\n",
              "      <td>2023-01-04 13:30:00</td>\n",
              "      <td>2022-11-13 14:00:00</td>\n",
              "      <td>2022-11-10 17:30:00</td>\n",
              "      <td>2022-11-06 14:00:00</td>\n",
              "      <td>2022-10-31 17:30:00</td>\n",
              "      <td>2022-10-24 18:45:00</td>\n",
              "      <td>2022-10-16 18:45:00</td>\n",
              "      <td>2022-10-09 13:00:00</td>\n",
              "      <td>0.0</td>\n",
              "      <td>3.0</td>\n",
              "      <td>1.0</td>\n",
              "      <td>0.0</td>\n",
              "      <td>0.0</td>\n",
              "      <td>0.0</td>\n",
              "      <td>0.0</td>\n",
              "      <td>0.0</td>\n",
              "      <td>0.0</td>\n",
              "      <td>0.0</td>\n",
              "      <td>h</td>\n",
              "      <td>a</td>\n",
              "      <td>h</td>\n",
              "      <td>a</td>\n",
              "      <td>h</td>\n",
              "      <td>a</td>\n",
              "      <td>h</td>\n",
              "      <td>a</td>\n",
              "      <td>h</td>\n",
              "      <td>a</td>\n",
              "      <td>2.0</td>\n",
              "      <td>0.0</td>\n",
              "      <td>2.0</td>\n",
              "      <td>2.0</td>\n",
              "      <td>2.0</td>\n",
              "      <td>1.0</td>\n",
              "      <td>0.0</td>\n",
              "      <td>0.0</td>\n",
              "      <td>1.0</td>\n",
              "      <td>1.0</td>\n",
              "      <td>2.0</td>\n",
              "      <td>0.0</td>\n",
              "      <td>1.0</td>\n",
              "      <td>0.0</td>\n",
              "      <td>1.0</td>\n",
              "      <td>1.0</td>\n",
              "      <td>1.0</td>\n",
              "      <td>2.0</td>\n",
              "      <td>1.0</td>\n",
              "      <td>2.0</td>\n",
              "      <td>2023-01-14 17:00:00</td>\n",
              "      <td>2023-01-08 14:00:00</td>\n",
              "      <td>2023-01-04 15:30:00</td>\n",
              "      <td>2022-11-12 17:00:00</td>\n",
              "      <td>2022-11-09 17:30:00</td>\n",
              "      <td>2022-11-04 18:45:00</td>\n",
              "      <td>2022-10-29 16:00:00</td>\n",
              "      <td>2022-10-23 13:00:00</td>\n",
              "      <td>2022-10-17 18:45:00</td>\n",
              "      <td>2022-10-09 18:45:00</td>\n",
              "      <td>1.0</td>\n",
              "      <td>1.0</td>\n",
              "      <td>3.0</td>\n",
              "      <td>3.0</td>\n",
              "      <td>3.0</td>\n",
              "      <td>1.0</td>\n",
              "      <td>0.0</td>\n",
              "      <td>0.0</td>\n",
              "      <td>1.0</td>\n",
              "      <td>0.0</td>\n",
              "      <td>18</td>\n",
              "      <td>18764</td>\n",
              "      <td>True</td>\n",
              "      <td>2023-01-21 14:00:00</td>\n",
              "      <td>w</td>\n",
              "      <td>94</td>\n",
              "      <td>243</td>\n",
              "      <td>2</td>\n",
              "      <td>0</td>\n",
              "      <td>0.625033</td>\n",
              "      <td>0.835357</td>\n",
              "      <td>0.252802</td>\n",
              "      <td>0.370125</td>\n",
              "      <td>0.377073</td>\n",
              "    </tr>\n",
              "  </tbody>\n",
              "</table>\n",
              "</div>\n",
              "      <button class=\"colab-df-convert\" onclick=\"convertToInteractive('df-0e87312e-ab28-40a2-a1ff-528542c17b2a')\"\n",
              "              title=\"Convert this dataframe to an interactive table.\"\n",
              "              style=\"display:none;\">\n",
              "        \n",
              "  <svg xmlns=\"http://www.w3.org/2000/svg\" height=\"24px\"viewBox=\"0 0 24 24\"\n",
              "       width=\"24px\">\n",
              "    <path d=\"M0 0h24v24H0V0z\" fill=\"none\"/>\n",
              "    <path d=\"M18.56 5.44l.94 2.06.94-2.06 2.06-.94-2.06-.94-.94-2.06-.94 2.06-2.06.94zm-11 1L8.5 8.5l.94-2.06 2.06-.94-2.06-.94L8.5 2.5l-.94 2.06-2.06.94zm10 10l.94 2.06.94-2.06 2.06-.94-2.06-.94-.94-2.06-.94 2.06-2.06.94z\"/><path d=\"M17.41 7.96l-1.37-1.37c-.4-.4-.92-.59-1.43-.59-.52 0-1.04.2-1.43.59L10.3 9.45l-7.72 7.72c-.78.78-.78 2.05 0 2.83L4 21.41c.39.39.9.59 1.41.59.51 0 1.02-.2 1.41-.59l7.78-7.78 2.81-2.81c.8-.78.8-2.07 0-2.86zM5.41 20L4 18.59l7.72-7.72 1.47 1.35L5.41 20z\"/>\n",
              "  </svg>\n",
              "      </button>\n",
              "      \n",
              "  <style>\n",
              "    .colab-df-container {\n",
              "      display:flex;\n",
              "      flex-wrap:wrap;\n",
              "      gap: 12px;\n",
              "    }\n",
              "\n",
              "    .colab-df-convert {\n",
              "      background-color: #E8F0FE;\n",
              "      border: none;\n",
              "      border-radius: 50%;\n",
              "      cursor: pointer;\n",
              "      display: none;\n",
              "      fill: #1967D2;\n",
              "      height: 32px;\n",
              "      padding: 0 0 0 0;\n",
              "      width: 32px;\n",
              "    }\n",
              "\n",
              "    .colab-df-convert:hover {\n",
              "      background-color: #E2EBFA;\n",
              "      box-shadow: 0px 1px 2px rgba(60, 64, 67, 0.3), 0px 1px 3px 1px rgba(60, 64, 67, 0.15);\n",
              "      fill: #174EA6;\n",
              "    }\n",
              "\n",
              "    [theme=dark] .colab-df-convert {\n",
              "      background-color: #3B4455;\n",
              "      fill: #D2E3FC;\n",
              "    }\n",
              "\n",
              "    [theme=dark] .colab-df-convert:hover {\n",
              "      background-color: #434B5C;\n",
              "      box-shadow: 0px 1px 3px 1px rgba(0, 0, 0, 0.15);\n",
              "      filter: drop-shadow(0px 1px 2px rgba(0, 0, 0, 0.3));\n",
              "      fill: #FFFFFF;\n",
              "    }\n",
              "  </style>\n",
              "\n",
              "      <script>\n",
              "        const buttonEl =\n",
              "          document.querySelector('#df-0e87312e-ab28-40a2-a1ff-528542c17b2a button.colab-df-convert');\n",
              "        buttonEl.style.display =\n",
              "          google.colab.kernel.accessAllowed ? 'block' : 'none';\n",
              "\n",
              "        async function convertToInteractive(key) {\n",
              "          const element = document.querySelector('#df-0e87312e-ab28-40a2-a1ff-528542c17b2a');\n",
              "          const dataTable =\n",
              "            await google.colab.kernel.invokeFunction('convertToInteractive',\n",
              "                                                     [key], {});\n",
              "          if (!dataTable) return;\n",
              "\n",
              "          const docLinkHtml = 'Like what you see? Visit the ' +\n",
              "            '<a target=\"_blank\" href=https://colab.research.google.com/notebooks/data_table.ipynb>data table notebook</a>'\n",
              "            + ' to learn more about interactive tables.';\n",
              "          element.innerHTML = '';\n",
              "          dataTable['output_type'] = 'display_data';\n",
              "          await google.colab.output.renderOutput(dataTable, element);\n",
              "          const docLink = document.createElement('div');\n",
              "          docLink.innerHTML = docLinkHtml;\n",
              "          element.appendChild(docLink);\n",
              "        }\n",
              "      </script>\n",
              "    </div>\n",
              "  </div>\n",
              "  "
            ]
          },
          "metadata": {},
          "execution_count": 12
        }
      ]
    },
    {
      "cell_type": "code",
      "source": [
        "df_juegos_informacion_historica=df_juegos_informacion_historica.drop(['index','Id_Juego','Goles_Esperados_local',\n",
        "                                                                      'Goles_Esperados_Visitante','Probabilidad_Victoria_Local','Probabilidad_Empate'\n",
        "                                                                      ,'Probabilidad_Derrota_Local'], axis=1)  "
      ],
      "metadata": {
        "id": "183wJw4fH8hH"
      },
      "execution_count": null,
      "outputs": []
    },
    {
      "cell_type": "markdown",
      "source": [
        "#limpieza de datos"
      ],
      "metadata": {
        "id": "avdqVDdcICNe"
      }
    },
    {
      "cell_type": "markdown",
      "source": [
        "Separo partidos jugados y partidos sin jugar"
      ],
      "metadata": {
        "id": "DLuVBlCiIgV_"
      }
    },
    {
      "cell_type": "code",
      "source": [
        "df=df_juegos_informacion_historica[df_juegos_informacion_historica['Jugado']==True]\n",
        "df_partidos_sin_jugar=df_juegos_informacion_historica[df_juegos_informacion_historica['Jugado']==False]"
      ],
      "metadata": {
        "id": "QDvbziAhIe7G"
      },
      "execution_count": null,
      "outputs": []
    },
    {
      "cell_type": "markdown",
      "source": [
        "Se eliminan los partidos registros que no tienen hisotria para ninguno de los equipos y llevan menos de 3 partidos jugados"
      ],
      "metadata": {
        "id": "jLz-FV5jJdeH"
      }
    },
    {
      "cell_type": "code",
      "source": [
        "df=df[-((df['local.Historia.local N-1'].isnull()) & (df['Visitante.Historia.local N-1'].isnull()))]\n",
        "df=df[-((df['local.Historia.local N-2'].isnull()) & (df['Visitante.Historia.local N-2'].isnull()))]\n",
        "df=df[-((df['local.Historia.local N-3'].isnull()) & (df['Visitante.Historia.local N-3'].isnull()))]"
      ],
      "metadata": {
        "id": "2pTJiD_xJbHU"
      },
      "execution_count": null,
      "outputs": []
    },
    {
      "cell_type": "markdown",
      "source": [
        "Se eliminan los partidos donde se tenga informacion de menos de 3 partidos"
      ],
      "metadata": {
        "id": "0f78gygEJee_"
      }
    },
    {
      "cell_type": "code",
      "source": [
        "\n",
        "df=df[-((df['local.Historia.local N-1'].isnull()) & (df['Visitante.Historia.local N-2'].isnull()))]\n",
        "df=df[-((df['local.Historia.local N-2'].isnull()) & (df['Visitante.Historia.local N-1'].isnull()))]\n",
        "df=df[-((df['local.Historia.local N-1'].isnull()) & (df['Visitante.Historia.local N-3'].isnull()))]\n",
        "df=df[-((df['local.Historia.local N-3'].isnull()) & (df['Visitante.Historia.local N-1'].isnull()))]\n",
        "df=df[-((df['local.Historia.local N-1'].isnull()) & (df['Visitante.Historia.local N-4'].isnull()))]\n",
        "df=df[-((df['local.Historia.local N-4'].isnull()) & (df['Visitante.Historia.local N-1'].isnull()))]"
      ],
      "metadata": {
        "id": "W2ywSZvEIx8n"
      },
      "execution_count": null,
      "outputs": []
    },
    {
      "cell_type": "markdown",
      "source": [
        "Se reemplazan los valores faltantes por -1 para que se tenga en cuenta con los valores de los partidos jugados"
      ],
      "metadata": {
        "id": "cHen7HA3KTJ2"
      }
    },
    {
      "cell_type": "code",
      "source": [
        "#Rellenar espacios vacios con (-1)\n",
        "for _ in df.columns:\n",
        "    if df[_].dtype != 'datetime64[ns]':\n",
        "      df[_].fillna(-1, inplace=True)"
      ],
      "metadata": {
        "id": "gmFwTUsnKUwc"
      },
      "execution_count": null,
      "outputs": []
    },
    {
      "cell_type": "code",
      "source": [
        "df = df.reset_index(drop=True)"
      ],
      "metadata": {
        "id": "9LnvYcZLKmcm"
      },
      "execution_count": null,
      "outputs": []
    },
    {
      "cell_type": "markdown",
      "source": [
        "#Preparación de los datos"
      ],
      "metadata": {
        "id": "PwY34sLjV0Bu"
      }
    },
    {
      "cell_type": "markdown",
      "source": [
        "Las columnas de fechas se les reemplará por los días entre la fecha que se jugó y la fecha del juego que se analiza en esa fila"
      ],
      "metadata": {
        "id": "nNGn_0j5J1pv"
      }
    },
    {
      "cell_type": "code",
      "source": [
        "df['local.Historia.Fecha N-1'] = (pd.to_datetime(df['Fecha_Juego']) - pd.to_datetime(df['local.Historia.Fecha N-1'])).dt.days\n",
        "df['local.Historia.Fecha N-2'] = (pd.to_datetime(df['Fecha_Juego']) - pd.to_datetime(df['local.Historia.Fecha N-2'])).dt.days\n",
        "df['local.Historia.Fecha N-3'] = (pd.to_datetime(df['Fecha_Juego']) - pd.to_datetime(df['local.Historia.Fecha N-3'])).dt.days\n",
        "df['local.Historia.Fecha N-4'] = (pd.to_datetime(df['Fecha_Juego']) - pd.to_datetime(df['local.Historia.Fecha N-4'])).dt.days\n",
        "df['local.Historia.Fecha N-5'] = (pd.to_datetime(df['Fecha_Juego']) - pd.to_datetime(df['local.Historia.Fecha N-5'])).dt.days\n",
        "df['local.Historia.Fecha N-6'] = (pd.to_datetime(df['Fecha_Juego']) - pd.to_datetime(df['local.Historia.Fecha N-6'])).dt.days\n",
        "df['local.Historia.Fecha N-7'] = (pd.to_datetime(df['Fecha_Juego']) - pd.to_datetime(df['local.Historia.Fecha N-7'])).dt.days\n",
        "df['local.Historia.Fecha N-8'] = (pd.to_datetime(df['Fecha_Juego']) - pd.to_datetime(df['local.Historia.Fecha N-8'])).dt.days\n",
        "df['local.Historia.Fecha N-9'] = (pd.to_datetime(df['Fecha_Juego']) - pd.to_datetime(df['local.Historia.Fecha N-9'])).dt.days\n",
        "df['local.Historia.Fecha N-10'] = (pd.to_datetime(df['Fecha_Juego']) - pd.to_datetime(df['local.Historia.Fecha N-10'])).dt.days\n",
        "df['Visitante.Historia.Fecha N-1'] = (pd.to_datetime(df['Fecha_Juego']) - pd.to_datetime(df['Visitante.Historia.Fecha N-1'])).dt.days\n",
        "df['Visitante.Historia.Fecha N-2'] = (pd.to_datetime(df['Fecha_Juego']) - pd.to_datetime(df['Visitante.Historia.Fecha N-2'])).dt.days\n",
        "df['Visitante.Historia.Fecha N-3'] = (pd.to_datetime(df['Fecha_Juego']) - pd.to_datetime(df['Visitante.Historia.Fecha N-3'])).dt.days\n",
        "df['Visitante.Historia.Fecha N-4'] = (pd.to_datetime(df['Fecha_Juego']) - pd.to_datetime(df['Visitante.Historia.Fecha N-4'])).dt.days\n",
        "df['Visitante.Historia.Fecha N-5'] = (pd.to_datetime(df['Fecha_Juego']) - pd.to_datetime(df['Visitante.Historia.Fecha N-5'])).dt.days\n",
        "df['Visitante.Historia.Fecha N-6'] = (pd.to_datetime(df['Fecha_Juego']) - pd.to_datetime(df['Visitante.Historia.Fecha N-6'])).dt.days\n",
        "df['Visitante.Historia.Fecha N-7'] = (pd.to_datetime(df['Fecha_Juego']) - pd.to_datetime(df['Visitante.Historia.Fecha N-7'])).dt.days\n",
        "df['Visitante.Historia.Fecha N-8'] = (pd.to_datetime(df['Fecha_Juego']) - pd.to_datetime(df['Visitante.Historia.Fecha N-8'])).dt.days\n",
        "df['Visitante.Historia.Fecha N-9'] = (pd.to_datetime(df['Fecha_Juego']) - pd.to_datetime(df['Visitante.Historia.Fecha N-9'])).dt.days\n",
        "df['Visitante.Historia.Fecha N-10'] = (pd.to_datetime(df['Fecha_Juego']) - pd.to_datetime(df['Visitante.Historia.Fecha N-10'])).dt.days"
      ],
      "metadata": {
        "id": "a3nNBKVJJ_Kw"
      },
      "execution_count": null,
      "outputs": []
    },
    {
      "cell_type": "markdown",
      "source": [
        "Ordeno el df por fecha, de mas viejo a mas nuevo\n"
      ],
      "metadata": {
        "id": "QIsIS2yDYimt"
      }
    },
    {
      "cell_type": "code",
      "source": [
        "df = df.sort_values('Fecha_Juego')"
      ],
      "metadata": {
        "id": "b2_e06D4Yzu9"
      },
      "execution_count": null,
      "outputs": []
    },
    {
      "cell_type": "markdown",
      "source": [
        "Se pone en la columna fecha los dias que faltan para que acabe el año del partido en analisis"
      ],
      "metadata": {
        "id": "UC34BmIDKkF4"
      }
    },
    {
      "cell_type": "code",
      "source": [
        "df['Fecha_Juego'] = (12 - df['Fecha_Juego'].dt.month  ) # Calculamos los meses restantes"
      ],
      "metadata": {
        "id": "UDvUXqXIPk9m"
      },
      "execution_count": null,
      "outputs": []
    },
    {
      "cell_type": "markdown",
      "source": [
        "**Codificación de etiquetas**\n",
        "Para las columnas de local.historia, visitante.historia y resultado local\n",
        "\n",
        "local-historia: si la columna contiene la 'a' de visitante se le asigna un 1 y 'h' de local se le asigna el cero, si tiene el -1 es porque no se tiene información.\n",
        "\n",
        "Visitante.Historia: si la columna contiene la 'a' de visitante se le asigna un 1 y 'h' de local se le asigna el cero, si tiene el -1 es porque no se tiene información.\n",
        "\n",
        "La columna jugado nos dice True si el partido ya se jugo y False si el partido aún no se ha jugado, pero como se puede observar esta columna tiene un único valor por lo que no nos aporta en el modelo y se elimina\n",
        "\n",
        "La variable Resultado_Local tiene tres posibles resultados, 'W' ganador, 'l' perdedor, 'd' empate.\n",
        "['l' 'w' 'd']"
      ],
      "metadata": {
        "id": "A-0uTtNhR2Cu"
      }
    },
    {
      "cell_type": "code",
      "source": [
        "df['local.Historia.local N-1'] = df['local.Historia.local N-1'].replace(['a','h'],[1,0])\n",
        "df['local.Historia.local N-2'] = df['local.Historia.local N-2'].replace(['a','h'],[1,0])\n",
        "df['local.Historia.local N-3'] = df['local.Historia.local N-3'].replace(['a','h'],[1,0])\n",
        "df['local.Historia.local N-4'] = df['local.Historia.local N-4'].replace(['a','h'],[1,0])\n",
        "df['local.Historia.local N-5'] = df['local.Historia.local N-5'].replace(['a','h'],[1,0])\n",
        "df['local.Historia.local N-6'] = df['local.Historia.local N-6'].replace(['a','h'],[1,0])\n",
        "df['local.Historia.local N-7'] = df['local.Historia.local N-7'].replace(['a','h'],[1,0])\n",
        "df['local.Historia.local N-8'] = df['local.Historia.local N-8'].replace(['a','h'],[1,0])\n",
        "df['local.Historia.local N-9'] = df['local.Historia.local N-9'].replace(['a','h'],[1,0])\n",
        "df['local.Historia.local N-10'] = df['local.Historia.local N-10'].replace(['a','h'],[1,0])\n",
        "df['Visitante.Historia.local N-1'] = df['Visitante.Historia.local N-1'].replace(['a','h'],[1,0])\n",
        "df['Visitante.Historia.local N-2'] = df['Visitante.Historia.local N-2'].replace(['a','h'],[1,0])\n",
        "df['Visitante.Historia.local N-3'] = df['Visitante.Historia.local N-3'].replace(['a','h'],[1,0])\n",
        "df['Visitante.Historia.local N-4'] = df['Visitante.Historia.local N-4'].replace(['a','h'],[1,0])\n",
        "df['Visitante.Historia.local N-5'] = df['Visitante.Historia.local N-5'].replace(['a','h'],[1,0])\n",
        "df['Visitante.Historia.local N-6'] = df['Visitante.Historia.local N-6'].replace(['a','h'],[1,0])\n",
        "df['Visitante.Historia.local N-7'] = df['Visitante.Historia.local N-7'].replace(['a','h'],[1,0])\n",
        "df['Visitante.Historia.local N-8'] = df['Visitante.Historia.local N-8'].replace(['a','h'],[1,0])\n",
        "df['Visitante.Historia.local N-9'] = df['Visitante.Historia.local N-9'].replace(['a','h'],[1,0])\n",
        "df['Visitante.Historia.local N-10'] = df['Visitante.Historia.local N-10'].replace(['a','h'],[1,0])\n",
        "df['Resultado_Local'] = df['Resultado_Local'].replace(['w','l','d'],[2,1,0])"
      ],
      "metadata": {
        "id": "lFeOwRsuR0Wh"
      },
      "execution_count": null,
      "outputs": []
    },
    {
      "cell_type": "code",
      "source": [
        "df = df.drop(['Jugado'], axis=1)"
      ],
      "metadata": {
        "id": "gVovXn3_Tur3"
      },
      "execution_count": null,
      "outputs": []
    },
    {
      "cell_type": "markdown",
      "source": [
        "Se realiza un One Hot Encoder para las columnas de Id Local y Id Visitante"
      ],
      "metadata": {
        "id": "EujWwT2iSKJG"
      }
    },
    {
      "cell_type": "code",
      "source": [
        "one_hot_encoding = pd.get_dummies(df['Id_Local'],prefix='Local')\n",
        "df = pd.concat([df, one_hot_encoding], axis=1)"
      ],
      "metadata": {
        "id": "cF4-gtTZTYY1"
      },
      "execution_count": null,
      "outputs": []
    },
    {
      "cell_type": "code",
      "source": [
        "one_hot_encoding = pd.get_dummies(df['Id_Visitante'],prefix='Visita')\n",
        "df = pd.concat([df, one_hot_encoding], axis=1)"
      ],
      "metadata": {
        "id": "MA9nbw-RUuEv"
      },
      "execution_count": null,
      "outputs": []
    },
    {
      "cell_type": "markdown",
      "source": [
        "Convierto todo a float"
      ],
      "metadata": {
        "id": "ut-9mNzwVNqd"
      }
    },
    {
      "cell_type": "code",
      "source": [
        "df=df.astype('float64')"
      ],
      "metadata": {
        "id": "7BjUhEs-SIX2"
      },
      "execution_count": null,
      "outputs": []
    },
    {
      "cell_type": "markdown",
      "source": [
        "Reemplazo todos los Nulos por -1"
      ],
      "metadata": {
        "id": "EDghBpc2iNIu"
      }
    },
    {
      "cell_type": "code",
      "source": [
        "df.fillna(-1, inplace=True)"
      ],
      "metadata": {
        "id": "pOCJGwgIiPnM"
      },
      "execution_count": null,
      "outputs": []
    },
    {
      "cell_type": "markdown",
      "source": [
        "# Dividir el conjunto de datos"
      ],
      "metadata": {
        "id": "D50fjs3wPXMb"
      }
    },
    {
      "cell_type": "markdown",
      "source": [
        "Ordeno las variables dependientes, Doonde se separa la etiqueta de goles, 0 o 1 gol valor de etiqueta 0, 2 o mas goles valor de etiqueta 1"
      ],
      "metadata": {
        "id": "wsl-l1QsXKhR"
      }
    },
    {
      "cell_type": "code",
      "source": [
        "dfy_resultado_local=df['Resultado_Local']\n",
        "dfy_goles_local=np.where(df['Goles_Local'] <= 1,0 , 1)\n",
        "dfy_goles_visita=np.where(df['Goles_Visitante'] <= 1,0 , 1)\n",
        "\n",
        "Y = dfy_goles_local\n",
        "X = df.drop(['Goles_Local','Goles_Visitante','Resultado_Local'], axis=1) "
      ],
      "metadata": {
        "id": "oodDVrG_V-Rl"
      },
      "execution_count": null,
      "outputs": []
    },
    {
      "cell_type": "markdown",
      "source": [
        "Separo las variables de entrenamiento y prueba, buscando que los ultimos registros (los mas nuevos) sean los de prueba"
      ],
      "metadata": {
        "id": "8pULRTQ9bl_N"
      }
    },
    {
      "cell_type": "code",
      "source": [
        "porcentaje_entrenamiento = 0.8\n",
        "porcentaje_prueba = 1 - porcentaje_entrenamiento\n",
        "\n",
        "# Calcular índice de separación de los datos\n",
        "indice_separacion = int(len(df) * porcentaje_entrenamiento)\n",
        "\n",
        "# Separar los datos en conjuntos de entrenamiento y prueba\n",
        "datos_entrenamiento_completos = df[:indice_separacion]\n",
        "datos_prueba_completos = df[indice_separacion:]"
      ],
      "metadata": {
        "id": "bMyNyIueb0AG"
      },
      "execution_count": null,
      "outputs": []
    },
    {
      "cell_type": "markdown",
      "source": [
        "Datos train"
      ],
      "metadata": {
        "id": "lV_HM7KnbA7y"
      }
    },
    {
      "cell_type": "code",
      "source": [
        "y_train_Goles_Local=np.where(datos_entrenamiento_completos['Goles_Local'] <= 1,0 , 1)\n",
        "y_train_Goles_Visitante= np.where(datos_entrenamiento_completos['Goles_Visitante'] <= 1,0 , 1) \n",
        "y_train_Resultado_Local=datos_entrenamiento_completos['Resultado_Local']\n",
        "\n",
        "x_train=datos_entrenamiento_completos.drop(['Goles_Local','Goles_Visitante','Resultado_Local'], axis=1).copy()"
      ],
      "metadata": {
        "id": "bmmBjydLa-zl"
      },
      "execution_count": null,
      "outputs": []
    },
    {
      "cell_type": "markdown",
      "source": [
        "Datos Test"
      ],
      "metadata": {
        "id": "YM199ocydko9"
      }
    },
    {
      "cell_type": "code",
      "source": [
        "y_test_Goles_Local= np.where(datos_prueba_completos['Goles_Local'] <= 1,0 , 1) \n",
        "y_test_Goles_Visitante= np.where(datos_prueba_completos['Goles_Visitante'] <= 1,0 , 1)  \n",
        "y_test_Resultado_Local=datos_prueba_completos['Resultado_Local']\n",
        "\n",
        "x_test=datos_prueba_completos.drop(['Goles_Local','Goles_Visitante','Resultado_Local'], axis=1).copy()"
      ],
      "metadata": {
        "id": "xQdK7T4SdgDd"
      },
      "execution_count": null,
      "outputs": []
    },
    {
      "cell_type": "markdown",
      "source": [
        "#GFradient Boosting"
      ],
      "metadata": {
        "id": "W8QNjexxebHu"
      }
    },
    {
      "cell_type": "code",
      "source": [
        "X_train_GFradient = x_train.copy()\n",
        "y_train_GFradient = y_train_Goles_Local.copy()\n",
        "X_test_GFradient = x_test.copy()\n",
        "y_test_GFradient = y_test_Goles_Local.copy()"
      ],
      "metadata": {
        "id": "dKnBdIIZedTU"
      },
      "execution_count": null,
      "outputs": []
    },
    {
      "cell_type": "markdown",
      "source": [
        "### Entrenamiento del modelo"
      ],
      "metadata": {
        "id": "FFaZHVNbPkqI"
      }
    },
    {
      "cell_type": "code",
      "source": [
        "# Definición de hiperparámetros\n",
        "params = {\n",
        "    \"n_estimators\": 100,\n",
        "    \"learning_rate\": 0.1,\n",
        "    \"max_depth\": 3\n",
        "}\n",
        "\n",
        "# Entrenamiento del modelo\n",
        "model_Gradient = GradientBoostingClassifier(**params)\n",
        "model_Gradient.fit(X_train_GFradient, y_train_GFradient)\n",
        "\n",
        "# Evaluación del modelo\n",
        "y_pred_GF = model_Gradient.predict(X_test_GFradient)\n",
        "accuracy = accuracy_score(y_test_GFradient, y_pred_GF)\n",
        "print(f\"Precisión: {accuracy}\")"
      ],
      "metadata": {
        "colab": {
          "base_uri": "https://localhost:8080/"
        },
        "id": "eKPQjX-Sep-l",
        "outputId": "05fc3ffc-d9a8-4431-92ed-a222f5cef8bb"
      },
      "execution_count": null,
      "outputs": [
        {
          "output_type": "stream",
          "name": "stdout",
          "text": [
            "Precisión: 0.6448979591836734\n"
          ]
        }
      ]
    },
    {
      "cell_type": "markdown",
      "source": [
        "### Matriz de confusión"
      ],
      "metadata": {
        "id": "3FqVVU2FPm8g"
      }
    },
    {
      "cell_type": "code",
      "source": [
        "conf_mat = confusion_matrix(y_test_GFradient, y_pred_GF)\n",
        "\n",
        "fig, ax = plt.subplots(figsize=(6,4))\n",
        "sns.heatmap(conf_mat\n",
        "            , annot=True\n",
        "            , fmt='d'\n",
        "            , xticklabels=np.unique(Y.sort())\n",
        "            , yticklabels=np.unique(Y.sort())\n",
        "           )\n",
        "plt.ylabel('Actual')\n",
        "plt.xlabel('Predicted')\n",
        "plt.show()\n",
        "\n",
        "print(metrics.classification_report(y_test_GFradient, y_pred_GF))\n",
        "print(classification_report(y_test_GFradient, y_pred_GF))"
      ],
      "metadata": {
        "colab": {
          "base_uri": "https://localhost:8080/",
          "height": 687
        },
        "id": "ro07n5_gpaR0",
        "outputId": "cc36cee1-56df-4bea-e3fc-b7badb4ae863"
      },
      "execution_count": null,
      "outputs": [
        {
          "output_type": "display_data",
          "data": {
            "text/plain": [
              "<Figure size 600x400 with 2 Axes>"
            ],
            "image/png": "[encoded data removed]"
          },
          "metadata": {}
        },
        {
          "output_type": "stream",
          "name": "stdout",
          "text": [
            "              precision    recall  f1-score   support\n",
            "\n",
            "           0       0.69      0.85      0.76       484\n",
            "           1       0.46      0.25      0.33       251\n",
            "\n",
            "    accuracy                           0.64       735\n",
            "   macro avg       0.57      0.55      0.54       735\n",
            "weighted avg       0.61      0.64      0.61       735\n",
            "\n",
            "              precision    recall  f1-score   support\n",
            "\n",
            "           0       0.69      0.85      0.76       484\n",
            "           1       0.46      0.25      0.33       251\n",
            "\n",
            "    accuracy                           0.64       735\n",
            "   macro avg       0.57      0.55      0.54       735\n",
            "weighted avg       0.61      0.64      0.61       735\n",
            "\n"
          ]
        }
      ]
    },
    {
      "cell_type": "markdown",
      "source": [
        "### Curva ROC"
      ],
      "metadata": {
        "id": "bIhakMmNPqPM"
      }
    },
    {
      "cell_type": "code",
      "source": [
        "# Calcular la curva ROC\n",
        "fpr, tpr, thresholds = roc_curve(y_test_GFradient, y_pred_GF)\n",
        "\n",
        "# Calcular el área bajo la curva (AUC)\n",
        "roc_auc = auc(fpr, tpr)\n",
        "\n",
        "# Graficar la curva ROC\n",
        "plt.plot(fpr, tpr, label='Curva ROC (AUC = %0.2f)' % roc_auc)\n",
        "plt.plot([0, 1], [0, 1], 'k--')\n",
        "plt.xlim([0.0, 1.0])\n",
        "plt.ylim([0.0, 1.05])\n",
        "plt.xlabel('Tasa de Falsos Positivos (FPR)')\n",
        "plt.ylabel('Tasa de Verdaderos Positivos (TPR)')\n",
        "plt.title('Curva ROC')\n",
        "plt.legend(loc=\"lower right\")\n",
        "plt.show()"
      ],
      "metadata": {
        "colab": {
          "base_uri": "https://localhost:8080/",
          "height": 472
        },
        "id": "R2vm53BdPsC7",
        "outputId": "65dfa549-fc62-4123-8586-cca3d84fed8b"
      },
      "execution_count": null,
      "outputs": [
        {
          "output_type": "display_data",
          "data": {
            "text/plain": [
              "<Figure size 640x480 with 1 Axes>"
            ],
            "image/png": "[encoded data removed]"
          },
          "metadata": {}
        }
      ]
    },
    {
      "cell_type": "markdown",
      "source": [
        "### Validacíón cruzada"
      ],
      "metadata": {
        "id": "Fm27Tu1RPwA2"
      }
    },
    {
      "cell_type": "code",
      "source": [
        "# Valores de ccp_alpha evaluados\n",
        "param_grid = param_grid = {\n",
        "    \"n_estimators\": [50, 100, 200],\n",
        "    \"learning_rate\": [0.05, 0.1, 0.2],\n",
        "    \"max_depth\": [3, 5, 7]\n",
        "}\n",
        "\n",
        "# Búsqueda por validación cruzada\n",
        "grid = GridSearchCV(\n",
        "        # El árbol se crece al máximo posible antes de aplicar el pruning\n",
        "        estimator = GradientBoostingClassifier(),\n",
        "        param_grid = param_grid,\n",
        "        scoring    = 'f1',\n",
        "        cv         = 10,\n",
        "        refit      = True,\n",
        "        return_train_score = True\n",
        "      )\n",
        "\n",
        "grid.fit(X_train_GFradient, y_train_GFradient)"
      ],
      "metadata": {
        "colab": {
          "base_uri": "https://localhost:8080/",
          "height": 119
        },
        "id": "kl2byWfGPvRk",
        "outputId": "d7c01eda-6716-4937-b118-f9e2251f9d9e"
      },
      "execution_count": null,
      "outputs": [
        {
          "output_type": "execute_result",
          "data": {
            "text/plain": [
              "GridSearchCV(cv=10, estimator=GradientBoostingClassifier(),\n",
              "             param_grid={'learning_rate': [0.05, 0.1, 0.2],\n",
              "                         'max_depth': [3, 5, 7],\n",
              "                         'n_estimators': [50, 100, 200]},\n",
              "             return_train_score=True, scoring='f1')"
            ],
            "text/html": [
              "<style>#sk-container-id-1 {color: black;background-color: white;}#sk-container-id-1 pre{padding: 0;}#sk-container-id-1 div.sk-toggleable {background-color: white;}#sk-container-id-1 label.sk-toggleable__label {cursor: pointer;display: block;width: 100%;margin-bottom: 0;padding: 0.3em;box-sizing: border-box;text-align: center;}#sk-container-id-1 label.sk-toggleable__label-arrow:before {content: \"▸\";float: left;margin-right: 0.25em;color: #696969;}#sk-container-id-1 label.sk-toggleable__label-arrow:hover:before {color: black;}#sk-container-id-1 div.sk-estimator:hover label.sk-toggleable__label-arrow:before {color: black;}#sk-container-id-1 div.sk-toggleable__content {max-height: 0;max-width: 0;overflow: hidden;text-align: left;background-color: #f0f8ff;}#sk-container-id-1 div.sk-toggleable__content pre {margin: 0.2em;color: black;border-radius: 0.25em;background-color: #f0f8ff;}#sk-container-id-1 input.sk-toggleable__control:checked~div.sk-toggleable__content {max-height: 200px;max-width: 100%;overflow: auto;}#sk-container-id-1 input.sk-toggleable__control:checked~label.sk-toggleable__label-arrow:before {content: \"▾\";}#sk-container-id-1 div.sk-estimator input.sk-toggleable__control:checked~label.sk-toggleable__label {background-color: #d4ebff;}#sk-container-id-1 div.sk-label input.sk-toggleable__control:checked~label.sk-toggleable__label {background-color: #d4ebff;}#sk-container-id-1 input.sk-hidden--visually {border: 0;clip: rect(1px 1px 1px 1px);clip: rect(1px, 1px, 1px, 1px);height: 1px;margin: -1px;overflow: hidden;padding: 0;position: absolute;width: 1px;}#sk-container-id-1 div.sk-estimator {font-family: monospace;background-color: #f0f8ff;border: 1px dotted black;border-radius: 0.25em;box-sizing: border-box;margin-bottom: 0.5em;}#sk-container-id-1 div.sk-estimator:hover {background-color: #d4ebff;}#sk-container-id-1 div.sk-parallel-item::after {content: \"\";width: 100%;border-bottom: 1px solid gray;flex-grow: 1;}#sk-container-id-1 div.sk-label:hover label.sk-toggleable__label {background-color: #d4ebff;}#sk-container-id-1 div.sk-serial::before {content: \"\";position: absolute;border-left: 1px solid gray;box-sizing: border-box;top: 0;bottom: 0;left: 50%;z-index: 0;}#sk-container-id-1 div.sk-serial {display: flex;flex-direction: column;align-items: center;background-color: white;padding-right: 0.2em;padding-left: 0.2em;position: relative;}#sk-container-id-1 div.sk-item {position: relative;z-index: 1;}#sk-container-id-1 div.sk-parallel {display: flex;align-items: stretch;justify-content: center;background-color: white;position: relative;}#sk-container-id-1 div.sk-item::before, #sk-container-id-1 div.sk-parallel-item::before {content: \"\";position: absolute;border-left: 1px solid gray;box-sizing: border-box;top: 0;bottom: 0;left: 50%;z-index: -1;}#sk-container-id-1 div.sk-parallel-item {display: flex;flex-direction: column;z-index: 1;position: relative;background-color: white;}#sk-container-id-1 div.sk-parallel-item:first-child::after {align-self: flex-end;width: 50%;}#sk-container-id-1 div.sk-parallel-item:last-child::after {align-self: flex-start;width: 50%;}#sk-container-id-1 div.sk-parallel-item:only-child::after {width: 0;}#sk-container-id-1 div.sk-dashed-wrapped {border: 1px dashed gray;margin: 0 0.4em 0.5em 0.4em;box-sizing: border-box;padding-bottom: 0.4em;background-color: white;}#sk-container-id-1 div.sk-label label {font-family: monospace;font-weight: bold;display: inline-block;line-height: 1.2em;}#sk-container-id-1 div.sk-label-container {text-align: center;}#sk-container-id-1 div.sk-container {/* jupyter's `normalize.less` sets `[hidden] { display: none; }` but bootstrap.min.css set `[hidden] { display: none !important; }` so we also need the `!important` here to be able to override the default hidden behavior on the sphinx rendered scikit-learn.org. See: https://github.com/scikit-learn/scikit-learn/issues/21755 */display: inline-block !important;position: relative;}#sk-container-id-1 div.sk-text-repr-fallback {display: none;}</style><div id=\"sk-container-id-1\" class=\"sk-top-container\"><div class=\"sk-text-repr-fallback\"><pre>GridSearchCV(cv=10, estimator=GradientBoostingClassifier(),\n",
              "             param_grid={&#x27;learning_rate&#x27;: [0.05, 0.1, 0.2],\n",
              "                         &#x27;max_depth&#x27;: [3, 5, 7],\n",
              "                         &#x27;n_estimators&#x27;: [50, 100, 200]},\n",
              "             return_train_score=True, scoring=&#x27;f1&#x27;)</pre><b>In a Jupyter environment, please rerun this cell to show the HTML representation or trust the notebook. <br />On GitHub, the HTML representation is unable to render, please try loading this page with nbviewer.org.</b></div><div class=\"sk-container\" hidden><div class=\"sk-item sk-dashed-wrapped\"><div class=\"sk-label-container\"><div class=\"sk-label sk-toggleable\"><input class=\"sk-toggleable__control sk-hidden--visually\" id=\"sk-estimator-id-1\" type=\"checkbox\" ><label for=\"sk-estimator-id-1\" class=\"sk-toggleable__label sk-toggleable__label-arrow\">GridSearchCV</label><div class=\"sk-toggleable__content\"><pre>GridSearchCV(cv=10, estimator=GradientBoostingClassifier(),\n",
              "             param_grid={&#x27;learning_rate&#x27;: [0.05, 0.1, 0.2],\n",
              "                         &#x27;max_depth&#x27;: [3, 5, 7],\n",
              "                         &#x27;n_estimators&#x27;: [50, 100, 200]},\n",
              "             return_train_score=True, scoring=&#x27;f1&#x27;)</pre></div></div></div><div class=\"sk-parallel\"><div class=\"sk-parallel-item\"><div class=\"sk-item\"><div class=\"sk-label-container\"><div class=\"sk-label sk-toggleable\"><input class=\"sk-toggleable__control sk-hidden--visually\" id=\"sk-estimator-id-2\" type=\"checkbox\" ><label for=\"sk-estimator-id-2\" class=\"sk-toggleable__label sk-toggleable__label-arrow\">estimator: GradientBoostingClassifier</label><div class=\"sk-toggleable__content\"><pre>GradientBoostingClassifier()</pre></div></div></div><div class=\"sk-serial\"><div class=\"sk-item\"><div class=\"sk-estimator sk-toggleable\"><input class=\"sk-toggleable__control sk-hidden--visually\" id=\"sk-estimator-id-3\" type=\"checkbox\" ><label for=\"sk-estimator-id-3\" class=\"sk-toggleable__label sk-toggleable__label-arrow\">GradientBoostingClassifier</label><div class=\"sk-toggleable__content\"><pre>GradientBoostingClassifier()</pre></div></div></div></div></div></div></div></div></div></div>"
            ]
          },
          "metadata": {},
          "execution_count": 36
        }
      ]
    },
    {
      "cell_type": "code",
      "source": [
        "# Evaluación del modelo\n",
        "y_pred_GF = grid.predict(X_test_GFradient)\n",
        "accuracy = accuracy_score(y_test_GFradient, y_pred_GF)\n",
        "print(f\"Precisión: {accuracy}\")"
      ],
      "metadata": {
        "colab": {
          "base_uri": "https://localhost:8080/"
        },
        "id": "xz8EfJqtc8Xs",
        "outputId": "42cec444-a872-4f03-e6de-ddf432d72206"
      },
      "execution_count": null,
      "outputs": [
        {
          "output_type": "stream",
          "name": "stdout",
          "text": [
            "Precisión: 0.6231292517006802\n"
          ]
        }
      ]
    },
    {
      "cell_type": "markdown",
      "source": [
        "##Mejores Hiperparametros"
      ],
      "metadata": {
        "id": "BHtEF4pDGiye"
      }
    },
    {
      "cell_type": "code",
      "source": [
        "param_grid = {\n",
        "    'learning_rate': [0.5,0.1, 0.01],\n",
        "    'n_estimators': [50, 100, 200],\n",
        "    'max_depth': [3, 5],\n",
        "    'min_samples_split': [2, 5, 10],\n",
        "    'min_samples_leaf': [1, 2, 4],\n",
        "    'subsample': [0.5, 0.8, 1.0]\n",
        "}\n",
        "scoring = 'accuracy'\n",
        "gb = GradientBoostingClassifier()\n",
        "grid = GridSearchCV(gb, param_grid=param_grid, scoring=scoring, cv=5)\n",
        "grid.fit(X_train_GFradient, y_train_Goles_Local)\n",
        "print(f\"Mejores parámetros: {grid.best_params_}\")\n",
        "print(f\"Rendimiento: {grid.best_score_}\")\n",
        "\n"
      ],
      "metadata": {
        "id": "eZ_paBuvGh5A",
        "colab": {
          "base_uri": "https://localhost:8080/"
        },
        "outputId": "9533503b-bd1a-4d1d-fea0-cbef40093c3f"
      },
      "execution_count": null,
      "outputs": [
        {
          "output_type": "stream",
          "name": "stdout",
          "text": [
            "Mejores parámetros: {'learning_rate': 0.01, 'max_depth': 3, 'min_samples_leaf': 1, 'min_samples_split': 2, 'n_estimators': 200, 'subsample': 0.5}\n",
            "Rendimiento: 0.5935374149659864\n"
          ]
        }
      ]
    },
    {
      "cell_type": "code",
      "source": [
        "\n",
        "y_pred_grid = grid.predict(X_test_GFradient)\n",
        "accuracy = accuracy_score(y_test_GFradient, y_pred_grid)\n",
        "print(f\"Precisión: {accuracy}\")"
      ],
      "metadata": {
        "id": "0K3aph94Ow0H",
        "colab": {
          "base_uri": "https://localhost:8080/"
        },
        "outputId": "96e4ac4e-3576-430a-dfcf-ec674bc654a6"
      },
      "execution_count": null,
      "outputs": [
        {
          "metadata": {
            "tags": null
          },
          "name": "stdout",
          "output_type": "stream",
          "text": [
            "Precisión: 0.6585034013605442\n"
          ]
        }
      ]
    },
    {
      "cell_type": "markdown",
      "source": [
        "##Nueva Matriz de confusión"
      ],
      "metadata": {
        "id": "Glo7-mNMNW0W"
      }
    },
    {
      "cell_type": "code",
      "source": [
        "conf_mat = confusion_matrix(y_test_GFradient, y_pred_grid)\n",
        "\n",
        "fig, ax = plt.subplots(figsize=(6,4))\n",
        "sns.heatmap(conf_mat\n",
        "            , annot=True\n",
        "            , fmt='d'\n",
        "            , xticklabels=np.unique(Y.sort())\n",
        "            , yticklabels=np.unique(Y.sort())\n",
        "           )\n",
        "plt.ylabel('Actual')\n",
        "plt.xlabel('Predicted')\n",
        "plt.show()\n",
        "\n",
        "print(metrics.classification_report(y_test_GFradient, y_pred_grid))\n",
        "print(classification_report(y_test_GFradient, y_pred_grid))"
      ],
      "metadata": {
        "id": "oy_HnUq7NVOP",
        "colab": {
          "base_uri": "https://localhost:8080/",
          "height": 687
        },
        "outputId": "809ecfb8-32a5-4813-e776-89c0085639c5"
      },
      "execution_count": null,
      "outputs": [
        {
          "output_type": "display_data",
          "data": {
            "text/plain": [
              "<Figure size 600x400 with 2 Axes>"
            ],
            "image/png": "[encoded data removed]"
          },
          "metadata": {}
        },
        {
          "output_type": "stream",
          "name": "stdout",
          "text": [
            "              precision    recall  f1-score   support\n",
            "\n",
            "           0       0.68      0.93      0.78       484\n",
            "           1       0.50      0.14      0.22       251\n",
            "\n",
            "    accuracy                           0.66       735\n",
            "   macro avg       0.59      0.53      0.50       735\n",
            "weighted avg       0.62      0.66      0.59       735\n",
            "\n",
            "              precision    recall  f1-score   support\n",
            "\n",
            "           0       0.68      0.93      0.78       484\n",
            "           1       0.50      0.14      0.22       251\n",
            "\n",
            "    accuracy                           0.66       735\n",
            "   macro avg       0.59      0.53      0.50       735\n",
            "weighted avg       0.62      0.66      0.59       735\n",
            "\n"
          ]
        }
      ]
    },
    {
      "cell_type": "markdown",
      "source": [
        "#Regresion logistica"
      ],
      "metadata": {
        "id": "wJIzpM2Sj2NV"
      }
    },
    {
      "cell_type": "code",
      "source": [
        "X_train_RL = x_train.copy()\n",
        "y_train_RL = y_train_Goles_Local.copy()\n",
        "X_test_RL = x_test.copy()\n",
        "y_test_RL = y_test_Goles_Local.copy()"
      ],
      "metadata": {
        "id": "kK4Z-Gwrj6N3"
      },
      "execution_count": null,
      "outputs": []
    },
    {
      "cell_type": "markdown",
      "source": [
        "### Entreamiento del modelo"
      ],
      "metadata": {
        "id": "KFm7q7Mfdeh-"
      }
    },
    {
      "cell_type": "code",
      "source": [
        "logreg = LogisticRegression(max_iter=1000,solver=\"sag\",)\n",
        "logreg.fit(X_train_RL, y_train_RL)\n",
        "y_pred_RL = logreg.predict(X_test_RL)"
      ],
      "metadata": {
        "colab": {
          "base_uri": "https://localhost:8080/"
        },
        "id": "8JuWCG2-kCNv",
        "outputId": "6ba5826e-2b10-4020-e28d-e4c95d324f14"
      },
      "execution_count": null,
      "outputs": [
        {
          "output_type": "stream",
          "name": "stderr",
          "text": [
            "/usr/local/lib/python3.9/dist-packages/sklearn/linear_model/_sag.py:350: ConvergenceWarning: The max_iter was reached which means the coef_ did not converge\n",
            "  warnings.warn(\n"
          ]
        }
      ]
    },
    {
      "cell_type": "code",
      "source": [
        "print(\"Modelo Regresión Logistica:\",metrics.accuracy_score(y_test_RL, y_pred_RL))"
      ],
      "metadata": {
        "colab": {
          "base_uri": "https://localhost:8080/"
        },
        "id": "MaHPXYPfkErN",
        "outputId": "d8c59ab6-ca30-4477-97d2-68cfefdae5d0"
      },
      "execution_count": null,
      "outputs": [
        {
          "output_type": "stream",
          "name": "stdout",
          "text": [
            "Modelo Regresión Logistica: 0.6598639455782312\n"
          ]
        }
      ]
    },
    {
      "cell_type": "markdown",
      "source": [
        "### Matriz de confusión"
      ],
      "metadata": {
        "id": "7BaS2HKpdi5o"
      }
    },
    {
      "cell_type": "code",
      "source": [
        "conf_mat = confusion_matrix(y_test_RL, y_pred_RL)\n",
        "\n",
        "fig, ax = plt.subplots(figsize=(6,4))\n",
        "sns.heatmap(conf_mat\n",
        "            , annot=True\n",
        "            , fmt='d'\n",
        "            , xticklabels=np.unique(Y.sort())\n",
        "            , yticklabels=np.unique(Y.sort())\n",
        "           )\n",
        "plt.ylabel('Actual')\n",
        "plt.xlabel('Predicted')\n",
        "plt.show()\n",
        "\n",
        "print(metrics.classification_report(y_test_RL, y_pred_RL))\n",
        "print(classification_report(y_test_RL, y_pred_RL))"
      ],
      "metadata": {
        "colab": {
          "base_uri": "https://localhost:8080/",
          "height": 687
        },
        "id": "2I4y23fykUgP",
        "outputId": "d876089f-668c-490a-f2fb-84c7a6dda110"
      },
      "execution_count": null,
      "outputs": [
        {
          "output_type": "display_data",
          "data": {
            "text/plain": [
              "<Figure size 600x400 with 2 Axes>"
            ],
            "image/png": "[encoded data removed]"
          },
          "metadata": {}
        },
        {
          "output_type": "stream",
          "name": "stdout",
          "text": [
            "              precision    recall  f1-score   support\n",
            "\n",
            "           0       0.69      0.89      0.77       484\n",
            "           1       0.50      0.22      0.31       251\n",
            "\n",
            "    accuracy                           0.66       735\n",
            "   macro avg       0.60      0.55      0.54       735\n",
            "weighted avg       0.62      0.66      0.61       735\n",
            "\n",
            "              precision    recall  f1-score   support\n",
            "\n",
            "           0       0.69      0.89      0.77       484\n",
            "           1       0.50      0.22      0.31       251\n",
            "\n",
            "    accuracy                           0.66       735\n",
            "   macro avg       0.60      0.55      0.54       735\n",
            "weighted avg       0.62      0.66      0.61       735\n",
            "\n"
          ]
        }
      ]
    },
    {
      "cell_type": "markdown",
      "source": [
        "### Curva ROC"
      ],
      "metadata": {
        "id": "HyBZjcKVdnv5"
      }
    },
    {
      "cell_type": "code",
      "source": [
        "# Calcular la curva ROC\n",
        "fpr, tpr, thresholds = roc_curve(y_test_RL, y_pred_RL)\n",
        "\n",
        "# Calcular el área bajo la curva (AUC)\n",
        "roc_auc = auc(fpr, tpr)\n",
        "\n",
        "# Graficar la curva ROC\n",
        "plt.plot(fpr, tpr, label='Curva ROC (AUC = %0.2f)' % roc_auc)\n",
        "plt.plot([0, 1], [0, 1], 'k--')\n",
        "plt.xlim([0.0, 1.0])\n",
        "plt.ylim([0.0, 1.05])\n",
        "plt.xlabel('Tasa de Falsos Positivos (FPR)')\n",
        "plt.ylabel('Tasa de Verdaderos Positivos (TPR)')\n",
        "plt.title('Curva ROC')\n",
        "plt.legend(loc=\"lower right\")\n",
        "plt.show()"
      ],
      "metadata": {
        "colab": {
          "base_uri": "https://localhost:8080/",
          "height": 472
        },
        "id": "m5ekKMQudrbm",
        "outputId": "296ef0dd-56c5-4465-b4b0-62f9830b625c"
      },
      "execution_count": null,
      "outputs": [
        {
          "output_type": "display_data",
          "data": {
            "text/plain": [
              "<Figure size 640x480 with 1 Axes>"
            ],
            "image/png": "[encoded data removed]"
          },
          "metadata": {}
        }
      ]
    },
    {
      "cell_type": "markdown",
      "source": [
        "### Validación cruzada"
      ],
      "metadata": {
        "id": "wizsu3lfeMxt"
      }
    },
    {
      "cell_type": "code",
      "source": [
        "# Valores de ccp_alpha evaluados\n",
        "param_grid = param_grid = {\n",
        "    \"n_estimators\": [50, 100, 200],\n",
        "    \"learning_rate\": [0.05, 0.1, 0.2],\n",
        "    \"max_depth\": [3, 5, 7]\n",
        "}\n",
        "\n",
        "# Búsqueda por validación cruzada\n",
        "grid = GridSearchCV(\n",
        "        # El árbol se crece al máximo posible antes de aplicar el pruning\n",
        "        estimator = GradientBoostingClassifier(),\n",
        "        param_grid = param_grid,\n",
        "        scoring    = 'f1',\n",
        "        cv         = 10,\n",
        "        refit      = True,\n",
        "        return_train_score = True\n",
        "      )\n",
        "\n",
        "grid.fit(X_train_RL, y_train_RL)"
      ],
      "metadata": {
        "id": "BbsGC6WZeMWs",
        "colab": {
          "base_uri": "https://localhost:8080/",
          "height": 119
        },
        "outputId": "badbed66-a0b4-434b-f6ad-7af86e61afc7"
      },
      "execution_count": null,
      "outputs": [
        {
          "output_type": "execute_result",
          "data": {
            "text/plain": [
              "GridSearchCV(cv=10, estimator=GradientBoostingClassifier(),\n",
              "             param_grid={'learning_rate': [0.05, 0.1, 0.2],\n",
              "                         'max_depth': [3, 5, 7],\n",
              "                         'n_estimators': [50, 100, 200]},\n",
              "             return_train_score=True, scoring='f1')"
            ],
            "text/html": [
              "<style>#sk-container-id-2 {color: black;background-color: white;}#sk-container-id-2 pre{padding: 0;}#sk-container-id-2 div.sk-toggleable {background-color: white;}#sk-container-id-2 label.sk-toggleable__label {cursor: pointer;display: block;width: 100%;margin-bottom: 0;padding: 0.3em;box-sizing: border-box;text-align: center;}#sk-container-id-2 label.sk-toggleable__label-arrow:before {content: \"▸\";float: left;margin-right: 0.25em;color: #696969;}#sk-container-id-2 label.sk-toggleable__label-arrow:hover:before {color: black;}#sk-container-id-2 div.sk-estimator:hover label.sk-toggleable__label-arrow:before {color: black;}#sk-container-id-2 div.sk-toggleable__content {max-height: 0;max-width: 0;overflow: hidden;text-align: left;background-color: #f0f8ff;}#sk-container-id-2 div.sk-toggleable__content pre {margin: 0.2em;color: black;border-radius: 0.25em;background-color: #f0f8ff;}#sk-container-id-2 input.sk-toggleable__control:checked~div.sk-toggleable__content {max-height: 200px;max-width: 100%;overflow: auto;}#sk-container-id-2 input.sk-toggleable__control:checked~label.sk-toggleable__label-arrow:before {content: \"▾\";}#sk-container-id-2 div.sk-estimator input.sk-toggleable__control:checked~label.sk-toggleable__label {background-color: #d4ebff;}#sk-container-id-2 div.sk-label input.sk-toggleable__control:checked~label.sk-toggleable__label {background-color: #d4ebff;}#sk-container-id-2 input.sk-hidden--visually {border: 0;clip: rect(1px 1px 1px 1px);clip: rect(1px, 1px, 1px, 1px);height: 1px;margin: -1px;overflow: hidden;padding: 0;position: absolute;width: 1px;}#sk-container-id-2 div.sk-estimator {font-family: monospace;background-color: #f0f8ff;border: 1px dotted black;border-radius: 0.25em;box-sizing: border-box;margin-bottom: 0.5em;}#sk-container-id-2 div.sk-estimator:hover {background-color: #d4ebff;}#sk-container-id-2 div.sk-parallel-item::after {content: \"\";width: 100%;border-bottom: 1px solid gray;flex-grow: 1;}#sk-container-id-2 div.sk-label:hover label.sk-toggleable__label {background-color: #d4ebff;}#sk-container-id-2 div.sk-serial::before {content: \"\";position: absolute;border-left: 1px solid gray;box-sizing: border-box;top: 0;bottom: 0;left: 50%;z-index: 0;}#sk-container-id-2 div.sk-serial {display: flex;flex-direction: column;align-items: center;background-color: white;padding-right: 0.2em;padding-left: 0.2em;position: relative;}#sk-container-id-2 div.sk-item {position: relative;z-index: 1;}#sk-container-id-2 div.sk-parallel {display: flex;align-items: stretch;justify-content: center;background-color: white;position: relative;}#sk-container-id-2 div.sk-item::before, #sk-container-id-2 div.sk-parallel-item::before {content: \"\";position: absolute;border-left: 1px solid gray;box-sizing: border-box;top: 0;bottom: 0;left: 50%;z-index: -1;}#sk-container-id-2 div.sk-parallel-item {display: flex;flex-direction: column;z-index: 1;position: relative;background-color: white;}#sk-container-id-2 div.sk-parallel-item:first-child::after {align-self: flex-end;width: 50%;}#sk-container-id-2 div.sk-parallel-item:last-child::after {align-self: flex-start;width: 50%;}#sk-container-id-2 div.sk-parallel-item:only-child::after {width: 0;}#sk-container-id-2 div.sk-dashed-wrapped {border: 1px dashed gray;margin: 0 0.4em 0.5em 0.4em;box-sizing: border-box;padding-bottom: 0.4em;background-color: white;}#sk-container-id-2 div.sk-label label {font-family: monospace;font-weight: bold;display: inline-block;line-height: 1.2em;}#sk-container-id-2 div.sk-label-container {text-align: center;}#sk-container-id-2 div.sk-container {/* jupyter's `normalize.less` sets `[hidden] { display: none; }` but bootstrap.min.css set `[hidden] { display: none !important; }` so we also need the `!important` here to be able to override the default hidden behavior on the sphinx rendered scikit-learn.org. See: https://github.com/scikit-learn/scikit-learn/issues/21755 */display: inline-block !important;position: relative;}#sk-container-id-2 div.sk-text-repr-fallback {display: none;}</style><div id=\"sk-container-id-2\" class=\"sk-top-container\"><div class=\"sk-text-repr-fallback\"><pre>GridSearchCV(cv=10, estimator=GradientBoostingClassifier(),\n",
              "             param_grid={&#x27;learning_rate&#x27;: [0.05, 0.1, 0.2],\n",
              "                         &#x27;max_depth&#x27;: [3, 5, 7],\n",
              "                         &#x27;n_estimators&#x27;: [50, 100, 200]},\n",
              "             return_train_score=True, scoring=&#x27;f1&#x27;)</pre><b>In a Jupyter environment, please rerun this cell to show the HTML representation or trust the notebook. <br />On GitHub, the HTML representation is unable to render, please try loading this page with nbviewer.org.</b></div><div class=\"sk-container\" hidden><div class=\"sk-item sk-dashed-wrapped\"><div class=\"sk-label-container\"><div class=\"sk-label sk-toggleable\"><input class=\"sk-toggleable__control sk-hidden--visually\" id=\"sk-estimator-id-4\" type=\"checkbox\" ><label for=\"sk-estimator-id-4\" class=\"sk-toggleable__label sk-toggleable__label-arrow\">GridSearchCV</label><div class=\"sk-toggleable__content\"><pre>GridSearchCV(cv=10, estimator=GradientBoostingClassifier(),\n",
              "             param_grid={&#x27;learning_rate&#x27;: [0.05, 0.1, 0.2],\n",
              "                         &#x27;max_depth&#x27;: [3, 5, 7],\n",
              "                         &#x27;n_estimators&#x27;: [50, 100, 200]},\n",
              "             return_train_score=True, scoring=&#x27;f1&#x27;)</pre></div></div></div><div class=\"sk-parallel\"><div class=\"sk-parallel-item\"><div class=\"sk-item\"><div class=\"sk-label-container\"><div class=\"sk-label sk-toggleable\"><input class=\"sk-toggleable__control sk-hidden--visually\" id=\"sk-estimator-id-5\" type=\"checkbox\" ><label for=\"sk-estimator-id-5\" class=\"sk-toggleable__label sk-toggleable__label-arrow\">estimator: GradientBoostingClassifier</label><div class=\"sk-toggleable__content\"><pre>GradientBoostingClassifier()</pre></div></div></div><div class=\"sk-serial\"><div class=\"sk-item\"><div class=\"sk-estimator sk-toggleable\"><input class=\"sk-toggleable__control sk-hidden--visually\" id=\"sk-estimator-id-6\" type=\"checkbox\" ><label for=\"sk-estimator-id-6\" class=\"sk-toggleable__label sk-toggleable__label-arrow\">GradientBoostingClassifier</label><div class=\"sk-toggleable__content\"><pre>GradientBoostingClassifier()</pre></div></div></div></div></div></div></div></div></div></div>"
            ]
          },
          "metadata": {},
          "execution_count": 46
        }
      ]
    },
    {
      "cell_type": "code",
      "source": [
        "# Evaluación del modelo\n",
        "y_pred_RL = grid.predict(X_test_RL)\n",
        "accuracy = accuracy_score(y_test_RL, y_pred_RL)\n",
        "print(f\"Precisión: {accuracy}\")"
      ],
      "metadata": {
        "id": "050GqtrlfhFa"
      },
      "execution_count": null,
      "outputs": []
    },
    {
      "cell_type": "markdown",
      "source": [
        "##Mejores Hiperparametros"
      ],
      "metadata": {
        "id": "RrNTIm3fMpfv"
      }
    },
    {
      "cell_type": "code",
      "source": [
        "parameters = {'penalty': ['none', 'l2'],'max_iter':[1000,10000],'solver':[\"sag\",\"newton-cg\", \"lbfgs\", \"liblinear\"],'multi_class':[\"ovr\",\"multinomial\"]}\n",
        "grid = GridSearchCV(logreg, parameters, cv=5)\n",
        "grid.fit(X_train_RL, y_train_RL)\n",
        "print(\"Mejores parámetros: \", grid.best_params_)\n",
        "print(\"Puntaje de validación cruzada promedio: \", grid.best_score_)\n",
        "print(\"Puntaje en los datos de prueba: \", grid.score(X_test_RL, y_test_RL))\n",
        "\n",
        "y_pred_RL_Grid = grid.predict(X_test_RL)"
      ],
      "metadata": {
        "id": "fHjHBImfMunl"
      },
      "execution_count": null,
      "outputs": []
    },
    {
      "cell_type": "markdown",
      "source": [
        "##Nueva Matriz de confusión"
      ],
      "metadata": {
        "id": "Og_z_snwNL5e"
      }
    },
    {
      "cell_type": "code",
      "source": [
        "conf_mat = confusion_matrix(y_test_GFradient, y_pred_RL_Grid)\n",
        "\n",
        "fig, ax = plt.subplots(figsize=(6,4))\n",
        "sns.heatmap(conf_mat\n",
        "            , annot=True\n",
        "            , fmt='d'\n",
        "            , xticklabels=np.unique(Y.sort())\n",
        "            , yticklabels=np.unique(Y.sort())\n",
        "           )\n",
        "plt.ylabel('Actual')\n",
        "plt.xlabel('Predicted')\n",
        "plt.show()\n",
        "\n",
        "print(metrics.classification_report(y_test_GFradient, y_pred_RL_Grid))\n",
        "print(classification_report(y_test_GFradient, y_pred_RL_Grid))"
      ],
      "metadata": {
        "id": "ZZk1Ba8SNO5m"
      },
      "execution_count": null,
      "outputs": []
    },
    {
      "cell_type": "markdown",
      "source": [
        "Dado que no se esta obteniendo los valores deseados, se realizá una reducción de dimensionalidad"
      ],
      "metadata": {
        "id": "by6ZnjiPpf-6"
      }
    },
    {
      "cell_type": "markdown",
      "source": [
        "# T -SNE "
      ],
      "metadata": {
        "id": "jG1a4bU7pkji"
      }
    },
    {
      "cell_type": "code",
      "source": [
        "Y_goles_local = pd.DataFrame(dfy_goles_local)"
      ],
      "metadata": {
        "id": "NLyMZeN1tonK"
      },
      "execution_count": null,
      "outputs": []
    },
    {
      "cell_type": "code",
      "source": [
        "X.info()"
      ],
      "metadata": {
        "colab": {
          "base_uri": "https://localhost:8080/"
        },
        "id": "3pDT8575iF54",
        "outputId": "a0e4dfdb-e6f0-4a4e-dab6-f1b33531140a"
      },
      "execution_count": null,
      "outputs": [
        {
          "output_type": "stream",
          "name": "stdout",
          "text": [
            "<class 'pandas.core.frame.DataFrame'>\n",
            "Int64Index: 3675 entries, 850 to 298\n",
            "Columns: 162 entries, local.Historia.local N-1 to Visita_99\n",
            "dtypes: float64(162)\n",
            "memory usage: 4.6 MB\n"
          ]
        }
      ]
    },
    {
      "cell_type": "code",
      "source": [
        "tsne = TSNE(n_components=2, perplexity=30, n_iter=1000, random_state=0)\n",
        "X_tsne = tsne.fit_transform(X)\n",
        "\n",
        "plt.scatter(X_tsne[:, 0], X_tsne[:, 1])\n",
        "plt.show()"
      ],
      "metadata": {
        "colab": {
          "base_uri": "https://localhost:8080/",
          "height": 430
        },
        "id": "83SO95p-pmxR",
        "outputId": "0c0c5828-00ed-428c-b6ac-01dd3bd09fd1"
      },
      "execution_count": null,
      "outputs": [
        {
          "output_type": "display_data",
          "data": {
            "text/plain": [
              "<Figure size 640x480 with 1 Axes>"
            ],
            "image/png": "[encoded data removed]"
          },
          "metadata": {}
        }
      ]
    },
    {
      "cell_type": "code",
      "source": [
        "X_train_tsne, X_test_tsne, y_train_tsne, y_test_tsne = train_test_split(\n",
        "                                        X_tsne,\n",
        "                                        Y_goles_local.values.reshape(-1,1), \n",
        "                                        train_size   = 0.8,\n",
        "                                        random_state = 1234,\n",
        "                                        shuffle      = True\n",
        "                                    )"
      ],
      "metadata": {
        "id": "OidoV9up0vvO"
      },
      "execution_count": null,
      "outputs": []
    },
    {
      "cell_type": "markdown",
      "source": [
        "# Random Forest"
      ],
      "metadata": {
        "id": "T6LkRkMmeTWC"
      }
    },
    {
      "cell_type": "code",
      "source": [
        "X_train_Random_Forest = x_train.copy()\n",
        "y_train_Random_Forest = y_train_Goles_Local.copy()\n",
        "X_test_Random_Forest = x_test.copy()\n",
        "y_test_Random_Forest = y_test_Goles_Local.copy()"
      ],
      "metadata": {
        "id": "8stJa4rkjyMq"
      },
      "execution_count": null,
      "outputs": []
    },
    {
      "cell_type": "markdown",
      "source": [
        "###Dataset Completo"
      ],
      "metadata": {
        "id": "eJ6JuUjR2lL5"
      }
    },
    {
      "cell_type": "markdown",
      "source": [
        "#### Entrenamiento del modelo"
      ],
      "metadata": {
        "id": "5FAAtJrWfyTg"
      }
    },
    {
      "cell_type": "code",
      "source": [
        "rfc = RandomForestClassifier(n_estimators=100, random_state=0)\n",
        "rfc.fit(X_train_Random_Forest, y_train_Random_Forest)\n",
        "\n",
        "# Hacer predicciones sobre nuevas instancias\n",
        "y_pred_RF = rfc.predict(X_test_Random_Forest)\n",
        "print(\"Precisión del modelo: \", accuracy_score(y_test_Random_Forest, y_pred_RF))"
      ],
      "metadata": {
        "id": "vBWMngK9f1FM",
        "colab": {
          "base_uri": "https://localhost:8080/"
        },
        "outputId": "c2b94562-ad98-45d8-8fe0-0c3f8f388310"
      },
      "execution_count": null,
      "outputs": [
        {
          "output_type": "stream",
          "name": "stdout",
          "text": [
            "Precisión del modelo:  0.6598639455782312\n"
          ]
        }
      ]
    },
    {
      "cell_type": "markdown",
      "source": [
        "#### Matriz de confusión"
      ],
      "metadata": {
        "id": "opgy_K4Ef0mw"
      }
    },
    {
      "cell_type": "code",
      "source": [
        "conf_mat = confusion_matrix(y_test_Random_Forest, y_pred_RF)\n",
        "\n",
        "fig, ax = plt.subplots(figsize=(6,4))\n",
        "sns.heatmap(conf_mat\n",
        "            , annot=True\n",
        "            , fmt='d'\n",
        "            , xticklabels=np.unique(Y.sort())\n",
        "            , yticklabels=np.unique(Y.sort())\n",
        "           )\n",
        "plt.ylabel('Actual')\n",
        "plt.xlabel('Predicted')\n",
        "plt.show()\n",
        "\n",
        "print(metrics.classification_report(y_test_Random_Forest, y_pred_RF))\n",
        "print(classification_report(y_test_Random_Forest, y_pred_RF))"
      ],
      "metadata": {
        "id": "pdMQUaJWfxpN",
        "colab": {
          "base_uri": "https://localhost:8080/",
          "height": 687
        },
        "outputId": "b9b65de3-9c4c-46ac-eefc-f10f5ea92749"
      },
      "execution_count": null,
      "outputs": [
        {
          "output_type": "display_data",
          "data": {
            "text/plain": [
              "<Figure size 600x400 with 2 Axes>"
            ],
            "image/png": "[encoded data removed]"
          },
          "metadata": {}
        },
        {
          "output_type": "stream",
          "name": "stdout",
          "text": [
            "              precision    recall  f1-score   support\n",
            "\n",
            "           0       0.69      0.88      0.77       484\n",
            "           1       0.50      0.24      0.32       251\n",
            "\n",
            "    accuracy                           0.66       735\n",
            "   macro avg       0.60      0.56      0.55       735\n",
            "weighted avg       0.63      0.66      0.62       735\n",
            "\n",
            "              precision    recall  f1-score   support\n",
            "\n",
            "           0       0.69      0.88      0.77       484\n",
            "           1       0.50      0.24      0.32       251\n",
            "\n",
            "    accuracy                           0.66       735\n",
            "   macro avg       0.60      0.56      0.55       735\n",
            "weighted avg       0.63      0.66      0.62       735\n",
            "\n"
          ]
        }
      ]
    },
    {
      "cell_type": "markdown",
      "source": [
        "#### Curva ROC"
      ],
      "metadata": {
        "id": "o-EgXhnEf4j3"
      }
    },
    {
      "cell_type": "code",
      "source": [
        "# Calcular la curva ROC\n",
        "fpr, tpr, thresholds = roc_curve(y_test_Random_Forest, y_pred_RF)\n",
        "\n",
        "# Calcular el área bajo la curva (AUC)\n",
        "roc_auc = auc(fpr, tpr)\n",
        "\n",
        "# Graficar la curva ROC\n",
        "plt.plot(fpr, tpr, label='Curva ROC (AUC = %0.2f)' % roc_auc)\n",
        "plt.plot([0, 1], [0, 1], 'k--')\n",
        "plt.xlim([0.0, 1.0])\n",
        "plt.ylim([0.0, 1.05])\n",
        "plt.xlabel('Tasa de Falsos Positivos (FPR)')\n",
        "plt.ylabel('Tasa de Verdaderos Positivos (TPR)')\n",
        "plt.title('Curva ROC')\n",
        "plt.legend(loc=\"lower right\")\n",
        "plt.show()"
      ],
      "metadata": {
        "id": "GOjK41WCf6yi",
        "colab": {
          "base_uri": "https://localhost:8080/",
          "height": 472
        },
        "outputId": "92038f59-c5fa-4c80-d997-4637515248ca"
      },
      "execution_count": null,
      "outputs": [
        {
          "output_type": "display_data",
          "data": {
            "text/plain": [
              "<Figure size 640x480 with 1 Axes>"
            ],
            "image/png": "[encoded data removed]"
          },
          "metadata": {}
        }
      ]
    },
    {
      "cell_type": "markdown",
      "source": [
        "#### Validación cruzada"
      ],
      "metadata": {
        "id": "Bxgvw3Mpf7Ri"
      }
    },
    {
      "cell_type": "code",
      "source": [
        "# ==============================================================================\n",
        "param_grid = {'n_estimators': [200],\n",
        "              'max_features': [5, 7, 9],\n",
        "              'max_depth'   : [None, 10, 20],\n",
        "              'criterion'   : ['gini', 'entropy']\n",
        "             }\n",
        "\n",
        "# Búsqueda por grid search con validación cruzada\n",
        "# ==============================================================================\n",
        "grid = GridSearchCV(\n",
        "        estimator  = RandomForestClassifier(random_state = 123),\n",
        "        param_grid = param_grid,\n",
        "        scoring    = 'f1',\n",
        "        n_jobs     = multiprocessing.cpu_count() - 1,\n",
        "        cv         = RepeatedKFold(n_splits=5, n_repeats=3, random_state=123), \n",
        "        refit      = True,\n",
        "        verbose    = 0,\n",
        "        return_train_score = True\n",
        "       )\n",
        "\n",
        "grid.fit(X = X_train_Random_Forest , y = y_train_Random_Forest)\n",
        "\n",
        "# Resultados\n",
        "# ==============================================================================\n",
        "resultados = pd.DataFrame(grid.cv_results_)\n",
        "resultados.filter(regex = '(param*|mean_t|std_t)') \\\n",
        "    .drop(columns = 'params') \\\n",
        "    .sort_values('mean_test_score', ascending = False) \\\n",
        "    .head(4)"
      ],
      "metadata": {
        "id": "gLAzeH3QgDGj"
      },
      "execution_count": null,
      "outputs": []
    },
    {
      "cell_type": "code",
      "source": [
        "print(\"Mejores hiperparámetros encontrados (cv)\")\n",
        "print(\"----------------------------------------\")\n",
        "print(grid.best_params_, \":\", grid.best_score_, grid.scoring)"
      ],
      "metadata": {
        "id": "hTijYq-IyXcj"
      },
      "execution_count": null,
      "outputs": []
    },
    {
      "cell_type": "code",
      "source": [
        "modelo_final_RF = grid"
      ],
      "metadata": {
        "id": "lJ_MJjlHzCvx"
      },
      "execution_count": null,
      "outputs": []
    },
    {
      "cell_type": "code",
      "source": [
        "# Error de test del modelo final\n",
        "# ==============================================================================\n",
        "predicciones = modelo_final_RF.predict(X = X_test_Random_Forest)"
      ],
      "metadata": {
        "id": "uxiFYeQozMiv"
      },
      "execution_count": null,
      "outputs": []
    },
    {
      "cell_type": "code",
      "source": [
        "#Exactitud\n",
        "print(\"Accuracy:\",metrics.accuracy_score(y_test_Random_Forest, predicciones))"
      ],
      "metadata": {
        "id": "IZF_ClcNzNOE"
      },
      "execution_count": null,
      "outputs": []
    },
    {
      "cell_type": "markdown",
      "source": [
        "#### Nueva Matriz de confusión"
      ],
      "metadata": {
        "id": "voT9jI2sz3bs"
      }
    },
    {
      "cell_type": "code",
      "source": [
        "conf_mat = confusion_matrix(y_test_Random_Forest, predicciones)\n",
        "\n",
        "fig, ax = plt.subplots(figsize=(6,4))\n",
        "sns.heatmap(conf_mat\n",
        "            , annot=True\n",
        "            , fmt='d'\n",
        "            , xticklabels=np.unique(Y.sort())\n",
        "            , yticklabels=np.unique(Y.sort())\n",
        "           )\n",
        "plt.ylabel('Actual')\n",
        "plt.xlabel('Predicted')\n",
        "plt.show()\n",
        "\n",
        "print(metrics.classification_report(y_test_Random_Forest, predicciones))\n",
        "print(classification_report(y_test_Random_Forest, predicciones))"
      ],
      "metadata": {
        "id": "KWJQREUIz8CC"
      },
      "execution_count": null,
      "outputs": []
    },
    {
      "cell_type": "markdown",
      "source": [
        "###Dataset Reducido T-SNE"
      ],
      "metadata": {
        "id": "17G9npLh2thn"
      }
    },
    {
      "cell_type": "code",
      "source": [
        "rfc = RandomForestClassifier(n_estimators=100, random_state=0)\n",
        "rfc.fit(X_train_tsne, y_train_tsne)\n",
        "\n",
        "# Hacer predicciones sobre nuevas instancias\n",
        "y_pred_RF = rfc.predict(X_test_tsne)\n",
        "print(\"Precisión del modelo: \", accuracy_score(y_test_tsne, y_pred_RF))"
      ],
      "metadata": {
        "colab": {
          "base_uri": "https://localhost:8080/"
        },
        "id": "kC7LyMnO2ymJ",
        "outputId": "a0197371-bba6-41dd-9002-a34469f9b0b7"
      },
      "execution_count": null,
      "outputs": [
        {
          "output_type": "stream",
          "name": "stderr",
          "text": [
            "<ipython-input-64-f7f09e51ee86>:2: DataConversionWarning: A column-vector y was passed when a 1d array was expected. Please change the shape of y to (n_samples,), for example using ravel().\n",
            "  rfc.fit(X_train_tsne, y_train_tsne)\n"
          ]
        },
        {
          "output_type": "stream",
          "name": "stdout",
          "text": [
            "Precisión del modelo:  0.8884353741496599\n"
          ]
        }
      ]
    },
    {
      "cell_type": "markdown",
      "source": [
        "#### Matriz de Confusión T-SNE"
      ],
      "metadata": {
        "id": "tHRpT-Lo3zt_"
      }
    },
    {
      "cell_type": "code",
      "source": [
        "conf_mat = confusion_matrix(y_test_tsne, y_pred_RF)\n",
        "\n",
        "fig, ax = plt.subplots(figsize=(6,4))\n",
        "sns.heatmap(conf_mat\n",
        "            , annot=True\n",
        "            , fmt='d'\n",
        "            , xticklabels=np.unique(Y.sort())\n",
        "            , yticklabels=np.unique(Y.sort())\n",
        "           )\n",
        "plt.ylabel('Actual')\n",
        "plt.xlabel('Predicted')\n",
        "plt.show()\n",
        "\n",
        "print(metrics.classification_report(y_test_tsne, y_pred_RF))\n",
        "print(classification_report(y_test_tsne, y_pred_RF))"
      ],
      "metadata": {
        "colab": {
          "base_uri": "https://localhost:8080/",
          "height": 687
        },
        "id": "6zcMiTT234aH",
        "outputId": "36709b9c-8bad-4868-c393-6873b145da4b"
      },
      "execution_count": null,
      "outputs": [
        {
          "output_type": "display_data",
          "data": {
            "text/plain": [
              "<Figure size 600x400 with 2 Axes>"
            ],
            "image/png": "[encoded data removed]"
          },
          "metadata": {}
        },
        {
          "output_type": "stream",
          "name": "stdout",
          "text": [
            "              precision    recall  f1-score   support\n",
            "\n",
            "           0       0.87      0.95      0.91       420\n",
            "           1       0.92      0.81      0.86       315\n",
            "\n",
            "    accuracy                           0.89       735\n",
            "   macro avg       0.90      0.88      0.88       735\n",
            "weighted avg       0.89      0.89      0.89       735\n",
            "\n",
            "              precision    recall  f1-score   support\n",
            "\n",
            "           0       0.87      0.95      0.91       420\n",
            "           1       0.92      0.81      0.86       315\n",
            "\n",
            "    accuracy                           0.89       735\n",
            "   macro avg       0.90      0.88      0.88       735\n",
            "weighted avg       0.89      0.89      0.89       735\n",
            "\n"
          ]
        }
      ]
    },
    {
      "cell_type": "markdown",
      "source": [
        "# Ada Boots"
      ],
      "metadata": {
        "id": "VCCE-WTVf_c-"
      }
    },
    {
      "cell_type": "code",
      "source": [
        "X_train_AdaBoots = x_train.copy()\n",
        "y_train_AdaBoots = y_train_Goles_Local.copy()\n",
        "X_test_AdaBoots = x_test.copy()\n",
        "y_test_AdaBoots = y_test_Goles_Local.copy()"
      ],
      "metadata": {
        "id": "30ck7IsCl0UH"
      },
      "execution_count": null,
      "outputs": []
    },
    {
      "cell_type": "markdown",
      "source": [
        "###Dataset Completo"
      ],
      "metadata": {
        "id": "b4uMGL5M4Uo4"
      }
    },
    {
      "cell_type": "markdown",
      "source": [
        "#### Entrenamiento del modelo"
      ],
      "metadata": {
        "id": "FjHI_-tdgDpt"
      }
    },
    {
      "cell_type": "code",
      "source": [
        "#Crear un clasificador base\n",
        "base_clf = DecisionTreeClassifier(max_depth=1)\n",
        "# modelo\n",
        "ada_clf = AdaBoostClassifier(base_estimator=base_clf, n_estimators=50, learning_rate=1)\n",
        "# entrenar\n",
        "ada_clf.fit(X_train_AdaBoots, y_train_AdaBoots)\n",
        "y_pred_AB = ada_clf.predict(X_test_AdaBoots)\n",
        "accuracy = accuracy_score(y_test_AdaBoots, y_pred_AB)\n",
        "print(f\"Precisión del modelo AdaBoost: {accuracy:.2f}\")"
      ],
      "metadata": {
        "id": "J3pYbqIEgGVV",
        "colab": {
          "base_uri": "https://localhost:8080/"
        },
        "outputId": "a9efcc06-bab9-47df-a2d1-1324c4d48374"
      },
      "execution_count": null,
      "outputs": [
        {
          "output_type": "stream",
          "name": "stderr",
          "text": [
            "/usr/local/lib/python3.9/dist-packages/sklearn/ensemble/_base.py:166: FutureWarning: `base_estimator` was renamed to `estimator` in version 1.2 and will be removed in 1.4.\n",
            "  warnings.warn(\n"
          ]
        },
        {
          "output_type": "stream",
          "name": "stdout",
          "text": [
            "Precisión del modelo AdaBoost: 0.65\n"
          ]
        }
      ]
    },
    {
      "cell_type": "markdown",
      "source": [
        "#### Matriz de confusión"
      ],
      "metadata": {
        "id": "iygCP4RtgGkr"
      }
    },
    {
      "cell_type": "code",
      "source": [
        "conf_mat = confusion_matrix(y_test_AdaBoots, y_pred_AB)\n",
        "\n",
        "fig, ax = plt.subplots(figsize=(6,4))\n",
        "sns.heatmap(conf_mat\n",
        "            , annot=True\n",
        "            , fmt='d'\n",
        "            , xticklabels=np.unique(Y.sort())\n",
        "            , yticklabels=np.unique(Y.sort())\n",
        "           )\n",
        "plt.ylabel('Actual')\n",
        "plt.xlabel('Predicted')\n",
        "plt.show()\n",
        "\n",
        "print(metrics.classification_report(y_test_AdaBoots, y_pred_AB))\n",
        "print(classification_report(y_test_AdaBoots, y_pred_AB))"
      ],
      "metadata": {
        "id": "c2gX0VQ8gI3B",
        "colab": {
          "base_uri": "https://localhost:8080/",
          "height": 687
        },
        "outputId": "ebc730c0-5ac0-4902-b4ce-bc2e6487d258"
      },
      "execution_count": null,
      "outputs": [
        {
          "output_type": "display_data",
          "data": {
            "text/plain": [
              "<Figure size 600x400 with 2 Axes>"
            ],
            "image/png": "[encoded data removed]"
          },
          "metadata": {}
        },
        {
          "output_type": "stream",
          "name": "stdout",
          "text": [
            "              precision    recall  f1-score   support\n",
            "\n",
            "           0       0.69      0.85      0.76       484\n",
            "           1       0.48      0.27      0.35       251\n",
            "\n",
            "    accuracy                           0.65       735\n",
            "   macro avg       0.59      0.56      0.56       735\n",
            "weighted avg       0.62      0.65      0.62       735\n",
            "\n",
            "              precision    recall  f1-score   support\n",
            "\n",
            "           0       0.69      0.85      0.76       484\n",
            "           1       0.48      0.27      0.35       251\n",
            "\n",
            "    accuracy                           0.65       735\n",
            "   macro avg       0.59      0.56      0.56       735\n",
            "weighted avg       0.62      0.65      0.62       735\n",
            "\n"
          ]
        }
      ]
    },
    {
      "cell_type": "markdown",
      "source": [
        "#### Curva ROC"
      ],
      "metadata": {
        "id": "x431G7MqgJQz"
      }
    },
    {
      "cell_type": "code",
      "source": [
        "# Calcular la curva ROC\n",
        "fpr, tpr, thresholds = roc_curve(y_test_AdaBoots, y_pred_AB)\n",
        "\n",
        "# Calcular el área bajo la curva (AUC)\n",
        "roc_auc = auc(fpr, tpr)\n",
        "\n",
        "# Graficar la curva ROC\n",
        "plt.plot(fpr, tpr, label='Curva ROC (AUC = %0.2f)' % roc_auc)\n",
        "plt.plot([0, 1], [0, 1], 'k--')\n",
        "plt.xlim([0.0, 1.0])\n",
        "plt.ylim([0.0, 1.05])\n",
        "plt.xlabel('Tasa de Falsos Positivos (FPR)')\n",
        "plt.ylabel('Tasa de Verdaderos Positivos (TPR)')\n",
        "plt.title('Curva ROC')\n",
        "plt.legend(loc=\"lower right\")\n",
        "plt.show()"
      ],
      "metadata": {
        "id": "3y2iPmJCgKsB",
        "colab": {
          "base_uri": "https://localhost:8080/",
          "height": 472
        },
        "outputId": "e2e9e488-16a9-420d-cfde-e05bb10f20b7"
      },
      "execution_count": null,
      "outputs": [
        {
          "output_type": "display_data",
          "data": {
            "text/plain": [
              "<Figure size 640x480 with 1 Axes>"
            ],
            "image/png": "[encoded data removed]"
          },
          "metadata": {}
        }
      ]
    },
    {
      "cell_type": "markdown",
      "source": [
        "#### Validación cruzada"
      ],
      "metadata": {
        "id": "ctMptGyxrKKl"
      }
    },
    {
      "cell_type": "code",
      "source": [
        "# Definir la cuadrícula de valores para los hiperparámetros\n",
        "param_grid = {'n_estimators': [50, 100, 200],\n",
        "              'learning_rate': [0.1, 0.5, 1.0]}\n",
        "\n",
        "# Crear el modelo AdaBoost\n",
        "ada_clf = AdaBoostClassifier(base_estimator=DecisionTreeClassifier(max_depth=1))\n",
        "\n",
        "# Crear el objeto GridSearchCV\n",
        "grid_search = GridSearchCV(ada_clf, param_grid, cv=5)\n",
        "\n",
        "# Ajustar el modelo con los datos de entrenamiento\n",
        "grid_search.fit(X_train_AdaBoots, y_train_AdaBoots)\n",
        "\n",
        "# Obtener los hiperparámetros óptimos y la precisión del modelo\n",
        "print(\"Mejores hiperparámetros:\", grid_search.best_params_)\n",
        "print(\"Precisión del modelo:\", grid_search.best_score_)"
      ],
      "metadata": {
        "id": "tPBe443ygNdh"
      },
      "execution_count": null,
      "outputs": []
    },
    {
      "cell_type": "code",
      "source": [
        "modelo_final_AB = grid"
      ],
      "metadata": {
        "id": "LVRuSoKcutA6"
      },
      "execution_count": null,
      "outputs": []
    },
    {
      "cell_type": "code",
      "source": [
        "# Error de test del modelo final\n",
        "# ==============================================================================\n",
        "predicciones_AB = modelo_final_AB.predict(X = X_test_AdaBoots)\n",
        "predicciones_AB[:10]"
      ],
      "metadata": {
        "id": "ghoCsHiKut1h"
      },
      "execution_count": null,
      "outputs": []
    },
    {
      "cell_type": "code",
      "source": [
        "#Exactitud\n",
        "print(\"Accuracy:\",metrics.accuracy_score(y_test_AdaBoots, predicciones_AB))"
      ],
      "metadata": {
        "id": "scCjTwEPu3EZ"
      },
      "execution_count": null,
      "outputs": []
    },
    {
      "cell_type": "markdown",
      "source": [
        "#### Nueva Matriz de confusión"
      ],
      "metadata": {
        "id": "f03HpJeynjS5"
      }
    },
    {
      "cell_type": "code",
      "source": [
        "conf_mat = confusion_matrix(y_test_AdaBoots, predicciones_AB)\n",
        "\n",
        "fig, ax = plt.subplots(figsize=(6,4))\n",
        "sns.heatmap(conf_mat\n",
        "            , annot=True\n",
        "            , fmt='d'\n",
        "            , xticklabels=np.unique(Y.sort())\n",
        "            , yticklabels=np.unique(Y.sort())\n",
        "           )\n",
        "plt.ylabel('Actual')\n",
        "plt.xlabel('Predicted')\n",
        "plt.show()\n",
        "\n",
        "print(metrics.classification_report(y_test_AdaBoots, predicciones_AB))\n",
        "print(classification_report(y_test_AdaBoots, predicciones_AB))"
      ],
      "metadata": {
        "id": "7zkGkRV-noBs"
      },
      "execution_count": null,
      "outputs": []
    },
    {
      "cell_type": "markdown",
      "source": [
        "###Dataset T-SNE"
      ],
      "metadata": {
        "id": "RqNESaEb4k6J"
      }
    },
    {
      "cell_type": "code",
      "source": [
        "#Crear un clasificador base\n",
        "base_clf = DecisionTreeClassifier(max_depth=1)\n",
        "# modelo\n",
        "ada_clf = AdaBoostClassifier(base_estimator=base_clf, n_estimators=50, learning_rate=1)\n",
        "# entrenar\n",
        "ada_clf.fit(X_train_tsne, y_train_tsne)\n",
        "y_pred_AB = ada_clf.predict(X_test_tsne)\n",
        "accuracy = accuracy_score(y_test_tsne, y_pred_AB)\n",
        "print(f\"Precisión del modelo AdaBoost: {accuracy:.2f}\")"
      ],
      "metadata": {
        "colab": {
          "base_uri": "https://localhost:8080/"
        },
        "id": "VGLlVvGM4sKI",
        "outputId": "3412a3ea-eafc-45b2-e203-cf2a4297e2e9"
      },
      "execution_count": null,
      "outputs": [
        {
          "output_type": "stream",
          "name": "stdout",
          "text": [
            "Precisión del modelo AdaBoost: 0.75\n"
          ]
        },
        {
          "output_type": "stream",
          "name": "stderr",
          "text": [
            "/usr/local/lib/python3.9/dist-packages/sklearn/utils/validation.py:1143: DataConversionWarning: A column-vector y was passed when a 1d array was expected. Please change the shape of y to (n_samples, ), for example using ravel().\n",
            "  y = column_or_1d(y, warn=True)\n",
            "/usr/local/lib/python3.9/dist-packages/sklearn/ensemble/_base.py:166: FutureWarning: `base_estimator` was renamed to `estimator` in version 1.2 and will be removed in 1.4.\n",
            "  warnings.warn(\n"
          ]
        }
      ]
    },
    {
      "cell_type": "markdown",
      "source": [
        "####Matriz de confusión T-SNE"
      ],
      "metadata": {
        "id": "BBjto8m643lG"
      }
    },
    {
      "cell_type": "code",
      "source": [
        "conf_mat = confusion_matrix(y_test_tsne, y_pred_AB)\n",
        "\n",
        "fig, ax = plt.subplots(figsize=(6,4))\n",
        "sns.heatmap(conf_mat\n",
        "            , annot=True\n",
        "            , fmt='d'\n",
        "            , xticklabels=np.unique(Y.sort())\n",
        "            , yticklabels=np.unique(Y.sort())\n",
        "           )\n",
        "plt.ylabel('Actual')\n",
        "plt.xlabel('Predicted')\n",
        "plt.show()\n",
        "\n",
        "print(metrics.classification_report(y_test_tsne, y_pred_AB))\n",
        "print(classification_report(y_test_tsne, y_pred_AB))"
      ],
      "metadata": {
        "colab": {
          "base_uri": "https://localhost:8080/",
          "height": 687
        },
        "id": "fG2fU_j848aP",
        "outputId": "c7fdc6df-55ad-4df6-aa2c-9f3f6bb695b4"
      },
      "execution_count": null,
      "outputs": [
        {
          "output_type": "display_data",
          "data": {
            "text/plain": [
              "<Figure size 600x400 with 2 Axes>"
            ],
            "image/png": "[encoded data removed]"
          },
          "metadata": {}
        },
        {
          "output_type": "stream",
          "name": "stdout",
          "text": [
            "              precision    recall  f1-score   support\n",
            "\n",
            "           0       0.74      0.85      0.79       420\n",
            "           1       0.76      0.60      0.67       315\n",
            "\n",
            "    accuracy                           0.75       735\n",
            "   macro avg       0.75      0.73      0.73       735\n",
            "weighted avg       0.75      0.75      0.74       735\n",
            "\n",
            "              precision    recall  f1-score   support\n",
            "\n",
            "           0       0.74      0.85      0.79       420\n",
            "           1       0.76      0.60      0.67       315\n",
            "\n",
            "    accuracy                           0.75       735\n",
            "   macro avg       0.75      0.73      0.73       735\n",
            "weighted avg       0.75      0.75      0.74       735\n",
            "\n"
          ]
        }
      ]
    },
    {
      "cell_type": "markdown",
      "source": [
        "# Extrem Gradient Boosting"
      ],
      "metadata": {
        "id": "1gBEPZAagOBP"
      }
    },
    {
      "cell_type": "code",
      "source": [
        "X_train_XGB = x_train.copy()\n",
        "y_train_XGB = y_train_Goles_Local.copy()\n",
        "X_test_XGB = x_test.copy()\n",
        "y_test_XGB = y_test_Goles_Local.copy()"
      ],
      "metadata": {
        "id": "7QM2us13SfG_"
      },
      "execution_count": null,
      "outputs": []
    },
    {
      "cell_type": "markdown",
      "source": [
        "###Dataset Completo"
      ],
      "metadata": {
        "id": "apghyybf5Qum"
      }
    },
    {
      "cell_type": "markdown",
      "source": [
        "#### Entrenamiento del modelo"
      ],
      "metadata": {
        "id": "-d72BCCNgUn2"
      }
    },
    {
      "cell_type": "code",
      "source": [
        "# Create XGBoost model\n",
        "xgb_model = xgb.XGBClassifier(objective='binary:logistic', max_depth=3, learning_rate=0.1, n_estimators=100)\n",
        "# Train the model\n",
        "xgb_model.fit(X_train_XGB, y_train_XGB)"
      ],
      "metadata": {
        "id": "sMcMi5VqSVAP",
        "colab": {
          "base_uri": "https://localhost:8080/",
          "height": 249
        },
        "outputId": "5fc5ceb6-40a7-46ed-815d-750e410a03a2"
      },
      "execution_count": null,
      "outputs": [
        {
          "output_type": "execute_result",
          "data": {
            "text/plain": [
              "XGBClassifier(base_score=None, booster=None, callbacks=None,\n",
              "              colsample_bylevel=None, colsample_bynode=None,\n",
              "              colsample_bytree=None, early_stopping_rounds=None,\n",
              "              enable_categorical=False, eval_metric=None, feature_types=None,\n",
              "              gamma=None, gpu_id=None, grow_policy=None, importance_type=None,\n",
              "              interaction_constraints=None, learning_rate=0.1, max_bin=None,\n",
              "              max_cat_threshold=None, max_cat_to_onehot=None,\n",
              "              max_delta_step=None, max_depth=3, max_leaves=None,\n",
              "              min_child_weight=None, missing=nan, monotone_constraints=None,\n",
              "              n_estimators=100, n_jobs=None, num_parallel_tree=None,\n",
              "              predictor=None, random_state=None, ...)"
            ],
            "text/html": [
              "<style>#sk-container-id-3 {color: black;background-color: white;}#sk-container-id-3 pre{padding: 0;}#sk-container-id-3 div.sk-toggleable {background-color: white;}#sk-container-id-3 label.sk-toggleable__label {cursor: pointer;display: block;width: 100%;margin-bottom: 0;padding: 0.3em;box-sizing: border-box;text-align: center;}#sk-container-id-3 label.sk-toggleable__label-arrow:before {content: \"▸\";float: left;margin-right: 0.25em;color: #696969;}#sk-container-id-3 label.sk-toggleable__label-arrow:hover:before {color: black;}#sk-container-id-3 div.sk-estimator:hover label.sk-toggleable__label-arrow:before {color: black;}#sk-container-id-3 div.sk-toggleable__content {max-height: 0;max-width: 0;overflow: hidden;text-align: left;background-color: #f0f8ff;}#sk-container-id-3 div.sk-toggleable__content pre {margin: 0.2em;color: black;border-radius: 0.25em;background-color: #f0f8ff;}#sk-container-id-3 input.sk-toggleable__control:checked~div.sk-toggleable__content {max-height: 200px;max-width: 100%;overflow: auto;}#sk-container-id-3 input.sk-toggleable__control:checked~label.sk-toggleable__label-arrow:before {content: \"▾\";}#sk-container-id-3 div.sk-estimator input.sk-toggleable__control:checked~label.sk-toggleable__label {background-color: #d4ebff;}#sk-container-id-3 div.sk-label input.sk-toggleable__control:checked~label.sk-toggleable__label {background-color: #d4ebff;}#sk-container-id-3 input.sk-hidden--visually {border: 0;clip: rect(1px 1px 1px 1px);clip: rect(1px, 1px, 1px, 1px);height: 1px;margin: -1px;overflow: hidden;padding: 0;position: absolute;width: 1px;}#sk-container-id-3 div.sk-estimator {font-family: monospace;background-color: #f0f8ff;border: 1px dotted black;border-radius: 0.25em;box-sizing: border-box;margin-bottom: 0.5em;}#sk-container-id-3 div.sk-estimator:hover {background-color: #d4ebff;}#sk-container-id-3 div.sk-parallel-item::after {content: \"\";width: 100%;border-bottom: 1px solid gray;flex-grow: 1;}#sk-container-id-3 div.sk-label:hover label.sk-toggleable__label {background-color: #d4ebff;}#sk-container-id-3 div.sk-serial::before {content: \"\";position: absolute;border-left: 1px solid gray;box-sizing: border-box;top: 0;bottom: 0;left: 50%;z-index: 0;}#sk-container-id-3 div.sk-serial {display: flex;flex-direction: column;align-items: center;background-color: white;padding-right: 0.2em;padding-left: 0.2em;position: relative;}#sk-container-id-3 div.sk-item {position: relative;z-index: 1;}#sk-container-id-3 div.sk-parallel {display: flex;align-items: stretch;justify-content: center;background-color: white;position: relative;}#sk-container-id-3 div.sk-item::before, #sk-container-id-3 div.sk-parallel-item::before {content: \"\";position: absolute;border-left: 1px solid gray;box-sizing: border-box;top: 0;bottom: 0;left: 50%;z-index: -1;}#sk-container-id-3 div.sk-parallel-item {display: flex;flex-direction: column;z-index: 1;position: relative;background-color: white;}#sk-container-id-3 div.sk-parallel-item:first-child::after {align-self: flex-end;width: 50%;}#sk-container-id-3 div.sk-parallel-item:last-child::after {align-self: flex-start;width: 50%;}#sk-container-id-3 div.sk-parallel-item:only-child::after {width: 0;}#sk-container-id-3 div.sk-dashed-wrapped {border: 1px dashed gray;margin: 0 0.4em 0.5em 0.4em;box-sizing: border-box;padding-bottom: 0.4em;background-color: white;}#sk-container-id-3 div.sk-label label {font-family: monospace;font-weight: bold;display: inline-block;line-height: 1.2em;}#sk-container-id-3 div.sk-label-container {text-align: center;}#sk-container-id-3 div.sk-container {/* jupyter's `normalize.less` sets `[hidden] { display: none; }` but bootstrap.min.css set `[hidden] { display: none !important; }` so we also need the `!important` here to be able to override the default hidden behavior on the sphinx rendered scikit-learn.org. See: https://github.com/scikit-learn/scikit-learn/issues/21755 */display: inline-block !important;position: relative;}#sk-container-id-3 div.sk-text-repr-fallback {display: none;}</style><div id=\"sk-container-id-3\" class=\"sk-top-container\"><div class=\"sk-text-repr-fallback\"><pre>XGBClassifier(base_score=None, booster=None, callbacks=None,\n",
              "              colsample_bylevel=None, colsample_bynode=None,\n",
              "              colsample_bytree=None, early_stopping_rounds=None,\n",
              "              enable_categorical=False, eval_metric=None, feature_types=None,\n",
              "              gamma=None, gpu_id=None, grow_policy=None, importance_type=None,\n",
              "              interaction_constraints=None, learning_rate=0.1, max_bin=None,\n",
              "              max_cat_threshold=None, max_cat_to_onehot=None,\n",
              "              max_delta_step=None, max_depth=3, max_leaves=None,\n",
              "              min_child_weight=None, missing=nan, monotone_constraints=None,\n",
              "              n_estimators=100, n_jobs=None, num_parallel_tree=None,\n",
              "              predictor=None, random_state=None, ...)</pre><b>In a Jupyter environment, please rerun this cell to show the HTML representation or trust the notebook. <br />On GitHub, the HTML representation is unable to render, please try loading this page with nbviewer.org.</b></div><div class=\"sk-container\" hidden><div class=\"sk-item\"><div class=\"sk-estimator sk-toggleable\"><input class=\"sk-toggleable__control sk-hidden--visually\" id=\"sk-estimator-id-7\" type=\"checkbox\" checked><label for=\"sk-estimator-id-7\" class=\"sk-toggleable__label sk-toggleable__label-arrow\">XGBClassifier</label><div class=\"sk-toggleable__content\"><pre>XGBClassifier(base_score=None, booster=None, callbacks=None,\n",
              "              colsample_bylevel=None, colsample_bynode=None,\n",
              "              colsample_bytree=None, early_stopping_rounds=None,\n",
              "              enable_categorical=False, eval_metric=None, feature_types=None,\n",
              "              gamma=None, gpu_id=None, grow_policy=None, importance_type=None,\n",
              "              interaction_constraints=None, learning_rate=0.1, max_bin=None,\n",
              "              max_cat_threshold=None, max_cat_to_onehot=None,\n",
              "              max_delta_step=None, max_depth=3, max_leaves=None,\n",
              "              min_child_weight=None, missing=nan, monotone_constraints=None,\n",
              "              n_estimators=100, n_jobs=None, num_parallel_tree=None,\n",
              "              predictor=None, random_state=None, ...)</pre></div></div></div></div></div>"
            ]
          },
          "metadata": {},
          "execution_count": 73
        }
      ]
    },
    {
      "cell_type": "code",
      "source": [
        "y_pred_XGB = xgb_model.predict(X_test_XGB)\n",
        "\n",
        "# Calculate accuracy of predictions\n",
        "accuracy = accuracy_score(y_test_XGB, y_pred_XGB)\n",
        "print(\"Accuracy: %.2f%%\" % (accuracy * 100.0))"
      ],
      "metadata": {
        "id": "Og-h8K7OScDO",
        "colab": {
          "base_uri": "https://localhost:8080/"
        },
        "outputId": "0dcb74ab-30d3-4204-bc9a-359645953574"
      },
      "execution_count": null,
      "outputs": [
        {
          "output_type": "stream",
          "name": "stdout",
          "text": [
            "Accuracy: 64.90%\n"
          ]
        }
      ]
    },
    {
      "cell_type": "markdown",
      "source": [
        "#### Matriz de confusión"
      ],
      "metadata": {
        "id": "Q9LeZHCAgXzf"
      }
    },
    {
      "cell_type": "code",
      "source": [
        "conf_mat = confusion_matrix(y_test_XGB, y_pred_XGB)\n",
        "\n",
        "fig, ax = plt.subplots(figsize=(6,4))\n",
        "sns.heatmap(conf_mat\n",
        "            , annot=True\n",
        "            , fmt='d'\n",
        "            , xticklabels=np.unique(Y.sort())\n",
        "            , yticklabels=np.unique(Y.sort())\n",
        "           )\n",
        "plt.ylabel('Actual')\n",
        "plt.xlabel('Predicted')\n",
        "plt.show()\n",
        "\n",
        "print(metrics.classification_report(y_test_XGB, y_pred_XGB))\n",
        "print(classification_report(y_test_XGB, y_pred_XGB))"
      ],
      "metadata": {
        "id": "VAu3nNrygaXj",
        "colab": {
          "base_uri": "https://localhost:8080/",
          "height": 687
        },
        "outputId": "356ac540-6c48-49aa-aef5-5ab299cd1942"
      },
      "execution_count": null,
      "outputs": [
        {
          "output_type": "display_data",
          "data": {
            "text/plain": [
              "<Figure size 600x400 with 2 Axes>"
            ],
            "image/png": "[encoded data removed]"
          },
          "metadata": {}
        },
        {
          "output_type": "stream",
          "name": "stdout",
          "text": [
            "              precision    recall  f1-score   support\n",
            "\n",
            "           0       0.69      0.86      0.76       484\n",
            "           1       0.47      0.25      0.32       251\n",
            "\n",
            "    accuracy                           0.65       735\n",
            "   macro avg       0.58      0.55      0.54       735\n",
            "weighted avg       0.61      0.65      0.61       735\n",
            "\n",
            "              precision    recall  f1-score   support\n",
            "\n",
            "           0       0.69      0.86      0.76       484\n",
            "           1       0.47      0.25      0.32       251\n",
            "\n",
            "    accuracy                           0.65       735\n",
            "   macro avg       0.58      0.55      0.54       735\n",
            "weighted avg       0.61      0.65      0.61       735\n",
            "\n"
          ]
        }
      ]
    },
    {
      "cell_type": "markdown",
      "source": [
        "#### Curva ROC"
      ],
      "metadata": {
        "id": "gCR_YJZp-UYF"
      }
    },
    {
      "cell_type": "code",
      "source": [
        "# Calcular la curva ROC\n",
        "fpr, tpr, thresholds = roc_curve(y_test_XGB, y_pred_XGB)\n",
        "\n",
        "# Calcular el área bajo la curva (AUC)\n",
        "roc_auc = auc(fpr, tpr)\n",
        "\n",
        "# Graficar la curva ROC\n",
        "plt.plot(fpr, tpr, label='Curva ROC (AUC = %0.2f)' % roc_auc)\n",
        "plt.plot([0, 1], [0, 1], 'k--')\n",
        "plt.xlim([0.0, 1.0])\n",
        "plt.ylim([0.0, 1.05])\n",
        "plt.xlabel('Tasa de Falsos Positivos (FPR)')\n",
        "plt.ylabel('Tasa de Verdaderos Positivos (TPR)')\n",
        "plt.title('Curva ROC')\n",
        "plt.legend(loc=\"lower right\")\n",
        "plt.show()"
      ],
      "metadata": {
        "colab": {
          "base_uri": "https://localhost:8080/",
          "height": 472
        },
        "id": "f7oYWWL3-ruB",
        "outputId": "3bd3cf55-902b-416b-9398-f698673f4969"
      },
      "execution_count": null,
      "outputs": [
        {
          "output_type": "display_data",
          "data": {
            "text/plain": [
              "<Figure size 640x480 with 1 Axes>"
            ],
            "image/png": "[encoded data removed]"
          },
          "metadata": {}
        }
      ]
    },
    {
      "cell_type": "markdown",
      "source": [
        "#### Mejores parametros"
      ],
      "metadata": {
        "id": "31TI14-8gdzL"
      }
    },
    {
      "cell_type": "code",
      "source": [
        "param_grid = {\n",
        "    'max_depth': [3, 4, 5],\n",
        "    'learning_rate': [0.1, 0.01],\n",
        "    'n_estimators': [100, 200]\n",
        "}\n",
        "\n",
        "# Create XGBoost model\n",
        "xgb_model = xgb.XGBClassifier(objective='binary:logistic')\n",
        "\n",
        "# Perform grid search to find best hyperparameters\n",
        "grid_search = GridSearchCV(estimator=xgb_model, param_grid=param_grid, cv=5, n_jobs=-1)\n",
        "grid_search.fit(X_train_XGB, y_train_XGB)\n",
        "\n",
        "# Print the best hyperparameters\n",
        "print(\"Best hyperparameters: \", grid_search.best_params_)\n",
        "\n",
        "y_pred_XGB = grid_search.predict(X_test_XGB)\n",
        "print(\"Accuracy: %.2f%%\" % (accuracy * 100.0))"
      ],
      "metadata": {
        "id": "xtgfu-s4gde2"
      },
      "execution_count": null,
      "outputs": []
    },
    {
      "cell_type": "markdown",
      "source": [
        "#### Nueva Matriz"
      ],
      "metadata": {
        "id": "tXEhZ4jgYLOv"
      }
    },
    {
      "cell_type": "code",
      "source": [
        "conf_mat = confusion_matrix(y_test_XGB, y_pred_XGB)\n",
        "\n",
        "fig, ax = plt.subplots(figsize=(6,4))\n",
        "sns.heatmap(conf_mat\n",
        "            , annot=True\n",
        "            , fmt='d'\n",
        "            , xticklabels=np.unique(Y.sort())\n",
        "            , yticklabels=np.unique(Y.sort())\n",
        "           )\n",
        "plt.ylabel('Actual')\n",
        "plt.xlabel('Predicted')\n",
        "plt.show()\n",
        "\n",
        "print(metrics.classification_report(y_test_XGB, y_pred_XGB))\n",
        "print(classification_report(y_test_XGB, y_pred_XGB))"
      ],
      "metadata": {
        "id": "gYlMmEm1YRy5"
      },
      "execution_count": null,
      "outputs": []
    },
    {
      "cell_type": "markdown",
      "source": [
        "###Dataset T-SNE"
      ],
      "metadata": {
        "id": "8DVe0nwF5YsW"
      }
    },
    {
      "cell_type": "code",
      "source": [
        "# Create XGBoost model\n",
        "xgb_model = xgb.XGBClassifier(objective='binary:logistic', max_depth=3, learning_rate=0.1, n_estimators=100)\n",
        "# Train the model\n",
        "xgb_model.fit(X_train_tsne, y_train_tsne)\n",
        "y_pred_XGB = xgb_model.predict(X_test_tsne)\n",
        "# Calculate accuracy of predictions\n",
        "accuracy = accuracy_score(y_test_tsne, y_pred_XGB)\n",
        "print(\"Accuracy: %.2f%%\" % (accuracy * 100.0))"
      ],
      "metadata": {
        "colab": {
          "base_uri": "https://localhost:8080/"
        },
        "id": "u_jHkKua5b_D",
        "outputId": "7b3c3dd2-3448-4209-9fd6-b8151da4ec44"
      },
      "execution_count": null,
      "outputs": [
        {
          "output_type": "stream",
          "name": "stdout",
          "text": [
            "Accuracy: 78.23%\n"
          ]
        }
      ]
    },
    {
      "cell_type": "markdown",
      "source": [
        "####Matriz de confusión T-SNE"
      ],
      "metadata": {
        "id": "L6nGgmlg5ncn"
      }
    },
    {
      "cell_type": "code",
      "source": [
        "conf_mat = confusion_matrix(y_test_tsne, y_pred_XGB)\n",
        "\n",
        "fig, ax = plt.subplots(figsize=(6,4))\n",
        "sns.heatmap(conf_mat\n",
        "            , annot=True\n",
        "            , fmt='d'\n",
        "            , xticklabels=np.unique(Y.sort())\n",
        "            , yticklabels=np.unique(Y.sort())\n",
        "           )\n",
        "plt.ylabel('Actual')\n",
        "plt.xlabel('Predicted')\n",
        "plt.show()\n",
        "\n",
        "print(metrics.classification_report(y_test_tsne, y_pred_XGB))\n",
        "print(classification_report(y_test_tsne, y_pred_XGB))"
      ],
      "metadata": {
        "colab": {
          "base_uri": "https://localhost:8080/",
          "height": 687
        },
        "id": "YDNY4imR5zb-",
        "outputId": "860c1d8b-19f4-43fe-b6de-76bad42f9011"
      },
      "execution_count": null,
      "outputs": [
        {
          "output_type": "display_data",
          "data": {
            "text/plain": [
              "<Figure size 600x400 with 2 Axes>"
            ],
            "image/png": "[encoded data removed]"
          },
          "metadata": {}
        },
        {
          "output_type": "stream",
          "name": "stdout",
          "text": [
            "              precision    recall  f1-score   support\n",
            "\n",
            "           0       0.75      0.94      0.83       420\n",
            "           1       0.87      0.57      0.69       315\n",
            "\n",
            "    accuracy                           0.78       735\n",
            "   macro avg       0.81      0.76      0.76       735\n",
            "weighted avg       0.80      0.78      0.77       735\n",
            "\n",
            "              precision    recall  f1-score   support\n",
            "\n",
            "           0       0.75      0.94      0.83       420\n",
            "           1       0.87      0.57      0.69       315\n",
            "\n",
            "    accuracy                           0.78       735\n",
            "   macro avg       0.81      0.76      0.76       735\n",
            "weighted avg       0.80      0.78      0.77       735\n",
            "\n"
          ]
        }
      ]
    },
    {
      "cell_type": "markdown",
      "source": [
        "# Histogram Gradient Boosting"
      ],
      "metadata": {
        "id": "BoLCqsEIgzuR"
      }
    },
    {
      "cell_type": "code",
      "source": [
        "X_train_HGradient = x_train.copy()\n",
        "y_train_HGradient = y_train_Goles_Local.copy()\n",
        "X_test_HGradient = x_test.copy()\n",
        "y_test_HGradient = y_test_Goles_Local.copy()"
      ],
      "metadata": {
        "id": "EIsUg17_g55n"
      },
      "execution_count": null,
      "outputs": []
    },
    {
      "cell_type": "markdown",
      "source": [
        "###Dataset completo"
      ],
      "metadata": {
        "id": "pteZPwfb8K80"
      }
    },
    {
      "cell_type": "markdown",
      "source": [
        "#### Entrenamiento del modelo"
      ],
      "metadata": {
        "id": "Aw6w8inUg9kp"
      }
    },
    {
      "cell_type": "code",
      "source": [
        "# Definir conjunto de datos LightGBM\n",
        "train_data = lgb.Dataset(X_train_HGradient, label=y_train_HGradient)"
      ],
      "metadata": {
        "id": "mgDo0V6jg7iP"
      },
      "execution_count": null,
      "outputs": []
    },
    {
      "cell_type": "code",
      "source": [
        "#Definir hiperparámetros\n",
        "params = {\n",
        "    \"objective\": \"binary\",\n",
        "    \"metric\": \"binary_logloss\",\n",
        "    \"boosting_type\": \"gbdt\",\n",
        "    \"num_leaves\": 31,\n",
        "    \"learning_rate\": 0.05,\n",
        "    \"n_estimators\": 100\n",
        "}\n",
        "\n",
        "# Entrenar modelo de Histogram Gradient Boosting\n",
        "model = lgb.train(params, train_data)\n",
        "\n",
        "# Predecir y evaluar el modelo\n",
        "y_pred_HG = model.predict(X_test_HGradient)\n",
        "y_pred_HG = [1 if p >= 0.5 else 0 for p in y_pred_HG]\n",
        "accuracy = accuracy_score(y_test_HGradient, y_pred_HG)\n",
        "print(f\"Precisión: {accuracy}\")"
      ],
      "metadata": {
        "id": "_RfopL_uhIi2",
        "colab": {
          "base_uri": "https://localhost:8080/"
        },
        "outputId": "8c7f12a8-bd83-44e5-cbb4-2d31c473d109"
      },
      "execution_count": null,
      "outputs": [
        {
          "output_type": "stream",
          "name": "stderr",
          "text": [
            "/usr/local/lib/python3.9/dist-packages/lightgbm/engine.py:177: UserWarning: Found `n_estimators` in params. Will use it instead of argument\n",
            "  _log_warning(f\"Found `{alias}` in params. Will use it instead of argument\")\n"
          ]
        },
        {
          "output_type": "stream",
          "name": "stdout",
          "text": [
            "[LightGBM] [Warning] Found whitespace in feature_names, replace with underlines\n",
            "[LightGBM] [Info] Number of positive: 1246, number of negative: 1694\n",
            "[LightGBM] [Warning] Auto-choosing row-wise multi-threading, the overhead of testing was 0.037300 seconds.\n",
            "You can set `force_row_wise=true` to remove the overhead.\n",
            "And if memory is not enough, you can set `force_col_wise=true`.\n",
            "[LightGBM] [Info] Total Bins 2369\n",
            "[LightGBM] [Info] Number of data points in the train set: 2940, number of used features: 154\n",
            "[LightGBM] [Info] [binary:BoostFromScore]: pavg=0.423810 -> initscore=-0.307154\n",
            "[LightGBM] [Info] Start training from score -0.307154\n",
            "Precisión: 0.6421768707482993\n"
          ]
        }
      ]
    },
    {
      "cell_type": "markdown",
      "source": [
        "#### Matriz de confusión"
      ],
      "metadata": {
        "id": "qt1cK6qIhJPr"
      }
    },
    {
      "cell_type": "code",
      "source": [
        "conf_mat = confusion_matrix(y_test_HGradient, y_pred_HG)\n",
        "\n",
        "fig, ax = plt.subplots(figsize=(6,4))\n",
        "sns.heatmap(conf_mat\n",
        "            , annot=True\n",
        "            , fmt='d'\n",
        "            , xticklabels=np.unique(Y.sort())\n",
        "            , yticklabels=np.unique(Y.sort())\n",
        "           )\n",
        "plt.ylabel('Actual')\n",
        "plt.xlabel('Predicted')\n",
        "plt.show()\n",
        "\n",
        "print(metrics.classification_report(y_test_HGradient, y_pred_HG))\n",
        "print(classification_report(y_test_HGradient, y_pred_HG))"
      ],
      "metadata": {
        "id": "368AFdLdhLa_",
        "colab": {
          "base_uri": "https://localhost:8080/",
          "height": 687
        },
        "outputId": "05d9ee4e-45ba-414b-82da-f51b6375ab5a"
      },
      "execution_count": null,
      "outputs": [
        {
          "output_type": "display_data",
          "data": {
            "text/plain": [
              "<Figure size 600x400 with 2 Axes>"
            ],
            "image/png": "[encoded data removed]"
          },
          "metadata": {}
        },
        {
          "output_type": "stream",
          "name": "stdout",
          "text": [
            "              precision    recall  f1-score   support\n",
            "\n",
            "           0       0.69      0.82      0.75       484\n",
            "           1       0.46      0.30      0.37       251\n",
            "\n",
            "    accuracy                           0.64       735\n",
            "   macro avg       0.58      0.56      0.56       735\n",
            "weighted avg       0.61      0.64      0.62       735\n",
            "\n",
            "              precision    recall  f1-score   support\n",
            "\n",
            "           0       0.69      0.82      0.75       484\n",
            "           1       0.46      0.30      0.37       251\n",
            "\n",
            "    accuracy                           0.64       735\n",
            "   macro avg       0.58      0.56      0.56       735\n",
            "weighted avg       0.61      0.64      0.62       735\n",
            "\n"
          ]
        }
      ]
    },
    {
      "cell_type": "markdown",
      "source": [
        "#### Curva ROC"
      ],
      "metadata": {
        "id": "H0MoefxbhPvz"
      }
    },
    {
      "cell_type": "code",
      "source": [
        "# Calcular la curva ROC\n",
        "fpr, tpr, thresholds = roc_curve(y_test_HGradient, y_pred_HG)\n",
        "\n",
        "# Calcular el área bajo la curva (AUC)\n",
        "roc_auc = auc(fpr, tpr)\n",
        "\n",
        "# Graficar la curva ROC\n",
        "plt.plot(fpr, tpr, label='Curva ROC (AUC = %0.2f)' % roc_auc)\n",
        "plt.plot([0, 1], [0, 1], 'k--')\n",
        "plt.xlim([0.0, 1.0])\n",
        "plt.ylim([0.0, 1.05])\n",
        "plt.xlabel('Tasa de Falsos Positivos (FPR)')\n",
        "plt.ylabel('Tasa de Verdaderos Positivos (TPR)')\n",
        "plt.title('Curva ROC')\n",
        "plt.legend(loc=\"lower right\")\n",
        "plt.show()"
      ],
      "metadata": {
        "id": "PwypUPehhN2v",
        "colab": {
          "base_uri": "https://localhost:8080/",
          "height": 472
        },
        "outputId": "31badc3e-462d-42ba-dd44-c3a854f41bb2"
      },
      "execution_count": null,
      "outputs": [
        {
          "output_type": "display_data",
          "data": {
            "text/plain": [
              "<Figure size 640x480 with 1 Axes>"
            ],
            "image/png": "[encoded data removed]"
          },
          "metadata": {}
        }
      ]
    },
    {
      "cell_type": "markdown",
      "source": [
        "#### Validación Cruzada"
      ],
      "metadata": {
        "id": "WQW_MHdRhVJp"
      }
    },
    {
      "cell_type": "code",
      "source": [
        "params = {\n",
        "    \"objective\": \"binary\",\n",
        "    \"metric\": \"binary_logloss\",\n",
        "    \"boosting_type\": \"gbdt\",\n",
        "    \"num_leaves\": 31,\n",
        "    \"learning_rate\": 0.05,\n",
        "    \"n_estimators\": 100\n",
        "}\n",
        "\n",
        "# Definir validación cruzada\n",
        "kf = KFold(n_splits=5, shuffle=True, random_state=42)\n",
        "\n",
        "# Realizar validación cruzada\n",
        "cv_results = lgb.cv(\n",
        "    params,\n",
        "    lgb.Dataset(X_train_GFradient, label = y_train_GFradient),\n",
        "    num_boost_round=1000,\n",
        "    folds=kf.split(X_train_GFradient),\n",
        "    early_stopping_rounds=10,\n",
        "    verbose_eval=False,\n",
        "    metrics=[\"binary_logloss\", \"auc\",\"f1\"]\n",
        ")\n",
        "\n",
        "# Mostrar resultados de validación cruzada\n",
        "print(\"Resultados de validación cruzada:\")\n",
        "print(f\"  LogLoss: {cv_results['binary_logloss-mean'][-1]:.4f} +/- {cv_results['binary_logloss-stdv'][-1]:.4f}\")\n",
        "print(f\"  AUC: {cv_results['auc-mean'][-1]:.4f} +/- {cv_results['auc-stdv'][-1]:.4f}\")"
      ],
      "metadata": {
        "id": "6dx73hfXhXxX"
      },
      "execution_count": null,
      "outputs": []
    },
    {
      "cell_type": "markdown",
      "source": [
        "###Dataset T-SNE"
      ],
      "metadata": {
        "id": "YaETRWgl8Svq"
      }
    },
    {
      "cell_type": "code",
      "source": [
        "X_train_tsne, X_test_tsne, y_train_tsne, y_test_tsne"
      ],
      "metadata": {
        "id": "CiYqHTDv_qpu"
      },
      "execution_count": null,
      "outputs": []
    },
    {
      "cell_type": "code",
      "source": [
        "# Definir conjunto de datos LightGBM\n",
        "train_data = lgb.Dataset(X_train_tsne, label=y_train_tsne)\n",
        "#Definir hiperparámetros\n",
        "params = {\n",
        "    \"objective\": \"binary\",\n",
        "    \"metric\": \"binary_logloss\",\n",
        "    \"boosting_type\": \"gbdt\",\n",
        "    \"num_leaves\": 31,\n",
        "    \"learning_rate\": 0.05,\n",
        "    \"n_estimators\": 100\n",
        "}\n",
        "\n",
        "# Entrenar modelo de Histogram Gradient Boosting\n",
        "model = lgb.train(params, train_data)\n",
        "\n",
        "# Predecir y evaluar el modelo\n",
        "y_pred_HG = model.predict(X_test_tsne)\n",
        "y_pred_HG = [1 if p >= 0.5 else 0 for p in y_pred_HG]\n",
        "accuracy = accuracy_score(y_test_tsne, y_pred_HG)\n",
        "print(f\"Precisión: {accuracy}\")"
      ],
      "metadata": {
        "colab": {
          "base_uri": "https://localhost:8080/"
        },
        "id": "RHjoQOif9_7m",
        "outputId": "d43c045f-a431-474f-b73d-e84017e3d501"
      },
      "execution_count": null,
      "outputs": [
        {
          "output_type": "stream",
          "name": "stdout",
          "text": [
            "[LightGBM] [Info] Number of positive: 1182, number of negative: 1758\n",
            "[LightGBM] [Warning] Auto-choosing col-wise multi-threading, the overhead of testing was 0.000080 seconds.\n",
            "You can set `force_col_wise=true` to remove the overhead.\n",
            "[LightGBM] [Info] Total Bins 510\n",
            "[LightGBM] [Info] Number of data points in the train set: 2940, number of used features: 2\n",
            "[LightGBM] [Info] [binary:BoostFromScore]: pavg=0.402041 -> initscore=-0.396969\n",
            "[LightGBM] [Info] Start training from score -0.396969\n",
            "Precisión: 0.8136054421768707\n"
          ]
        },
        {
          "output_type": "stream",
          "name": "stderr",
          "text": [
            "/usr/local/lib/python3.9/dist-packages/lightgbm/engine.py:177: UserWarning: Found `n_estimators` in params. Will use it instead of argument\n",
            "  _log_warning(f\"Found `{alias}` in params. Will use it instead of argument\")\n",
            "/usr/local/lib/python3.9/dist-packages/lightgbm/basic.py:179: UserWarning: Converting column-vector to 1d array\n",
            "  _log_warning('Converting column-vector to 1d array')\n"
          ]
        }
      ]
    },
    {
      "cell_type": "markdown",
      "source": [
        "####Matriz de confusión T-SNE"
      ],
      "metadata": {
        "id": "OV6D58wZ8WdH"
      }
    },
    {
      "cell_type": "code",
      "source": [
        "conf_mat = confusion_matrix(y_test_tsne, y_pred_HG)\n",
        "fig, ax = plt.subplots(figsize=(6,4))\n",
        "sns.heatmap(conf_mat\n",
        "            , annot=True\n",
        "            , fmt='d'\n",
        "            , xticklabels=np.unique(Y.sort())\n",
        "            , yticklabels=np.unique(Y.sort())\n",
        "           )\n",
        "plt.ylabel('Actual')\n",
        "plt.xlabel('Predicted')\n",
        "plt.show()\n",
        "\n",
        "print(metrics.classification_report(y_test_tsne, y_pred_HG))\n",
        "print(classification_report(y_test_tsne, y_pred_HG))"
      ],
      "metadata": {
        "colab": {
          "base_uri": "https://localhost:8080/",
          "height": 687
        },
        "id": "rRUmg0XpAIT2",
        "outputId": "6791058f-b1b7-459a-d196-dc2ca383df1c"
      },
      "execution_count": null,
      "outputs": [
        {
          "output_type": "display_data",
          "data": {
            "text/plain": [
              "<Figure size 600x400 with 2 Axes>"
            ],
            "image/png": "[encoded data removed]"
          },
          "metadata": {}
        },
        {
          "output_type": "stream",
          "name": "stdout",
          "text": [
            "              precision    recall  f1-score   support\n",
            "\n",
            "           0       0.78      0.94      0.85       420\n",
            "           1       0.88      0.65      0.75       315\n",
            "\n",
            "    accuracy                           0.81       735\n",
            "   macro avg       0.83      0.79      0.80       735\n",
            "weighted avg       0.83      0.81      0.81       735\n",
            "\n",
            "              precision    recall  f1-score   support\n",
            "\n",
            "           0       0.78      0.94      0.85       420\n",
            "           1       0.88      0.65      0.75       315\n",
            "\n",
            "    accuracy                           0.81       735\n",
            "   macro avg       0.83      0.79      0.80       735\n",
            "weighted avg       0.83      0.81      0.81       735\n",
            "\n"
          ]
        }
      ]
    },
    {
      "cell_type": "markdown",
      "source": [
        "#Preguntas"
      ],
      "metadata": {
        "id": "bbd29OIgaIXF"
      }
    },
    {
      "cell_type": "markdown",
      "source": [
        "##Deberia traer la tempora o año del partido"
      ],
      "metadata": {
        "id": "0BMfsWpXaOO1"
      }
    },
    {
      "cell_type": "markdown",
      "source": [
        "##Deberia hacer encoder de las columnas de local y visitante para los partidos historicos"
      ],
      "metadata": {
        "id": "dhF2-_QEaSiF"
      }
    },
    {
      "cell_type": "markdown",
      "source": [
        "## deberia traer los ultimos enfrentamientos entre los equipos"
      ],
      "metadata": {
        "id": "eAlonR5Rajr_"
      }
    },
    {
      "cell_type": "markdown",
      "source": [
        "##Los goles de los partidos historia tambien deberian ir etiquetados"
      ],
      "metadata": {
        "id": "tjH6hmZsgHnS"
      }
    },
    {
      "cell_type": "markdown",
      "source": [
        "voy antes del Fgradient boosting, hay unas fechas nulas cuadrar eso y seguir"
      ],
      "metadata": {
        "id": "HdcwgzSzhpsm"
      }
    },
    {
      "cell_type": "code",
      "source": [],
      "metadata": {
        "id": "4ekrl3UmaoUN"
      },
      "execution_count": null,
      "outputs": []
    }
  ]
}